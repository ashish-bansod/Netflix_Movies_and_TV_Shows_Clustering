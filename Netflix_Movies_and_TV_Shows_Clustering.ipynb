{
  "nbformat": 4,
  "nbformat_minor": 0,
  "metadata": {
    "colab": {
      "provenance": [],
      "collapsed_sections": [
        "vncDsAP0Gaoa",
        "FJNUwmbgGyua",
        "w6K7xa23Elo4",
        "mDgbUHAGgjLW",
        "bKJF3rekwFvQ",
        "MSa1f5Uengrz",
        "GF8Ens_Soomf",
        "0wOQAZs5pc--",
        "K5QZ13OEpz2H",
        "lQ7QKXXCp7Bj",
        "448CDAPjqfQr",
        "KSlN3yHqYklG",
        "t6dVpIINYklI",
        "ijmpgYnKYklI",
        "-JiQyfWJYklI",
        "EM7whBJCYoAo",
        "fge-S5ZAYoAp",
        "85gYPyotYoAp",
        "RoGjAbkUYoAp",
        "4Of9eVA-YrdM",
        "iky9q4vBYrdO",
        "F6T5p64dYrdO",
        "y-Ehk30pYrdP",
        "bamQiAODYuh1",
        "QHF8YVU7Yuh3",
        "GwzvFGzlYuh3",
        "qYpmQ266Yuh3",
        "OH-pJp9IphqM",
        "bbFf2-_FphqN",
        "_ouA3fa0phqN",
        "Seke61FWphqN",
        "PIIx-8_IphqN",
        "t27r6nlMphqO",
        "r2jJGEOYphqO",
        "b0JNsNcRphqO",
        "BZR9WyysphqO",
        "jj7wYXLtphqO",
        "eZrbJ2SmphqO",
        "rFu4xreNphqO",
        "YJ55k-q6phqO",
        "gCFgpxoyphqP",
        "OVtJsKN_phqQ",
        "lssrdh5qphqQ",
        "U2RJ9gkRphqQ",
        "1M8mcRywphqQ",
        "tgIPom80phqQ",
        "JMzcOPDDphqR",
        "x-EpHcCOp1ci",
        "X_VqEhTip1ck",
        "8zGJKyg5p1ck",
        "PVzmfK_Ep1ck",
        "n3dbpmDWp1ck",
        "ylSl6qgtp1ck",
        "ZWILFDl5p1ck",
        "M7G43BXep1ck",
        "Ag9LCva-p1cl",
        "E6MkPsBcp1cl",
        "2cELzS2fp1cl",
        "3MPXvC8up1cl",
        "NC_X3p0fY2L0",
        "UV0SzAkaZNRQ",
        "YPEH6qLeZNRQ",
        "q29F0dvdveiT",
        "EXh0U9oCveiU",
        "22aHeOlLveiV",
        "g-ATYxFrGrvw",
        "Yfr_Vlr8HBkt",
        "8yEUt7NnHlrM",
        "tEA2Xm5dHt1r",
        "I79__PHVH19G",
        "Ou-I18pAyIpj",
        "fF3858GYyt-u",
        "4_0_7-oCpUZd",
        "hwyV_J3ipUZe",
        "3yB-zSqbpUZe",
        "dEUvejAfpUZe",
        "Fd15vwWVpUZf",
        "bn_IUdTipZyH",
        "49K5P_iCpZyH",
        "Nff-vKELpZyI",
        "kLW572S8pZyI",
        "dWbDXHzopZyI",
        "yLjJCtPM0KBk",
        "xiyOF9F70UgQ",
        "7wuGOrhz0itI",
        "id1riN9m0vUs",
        "578E2V7j08f6",
        "89xtkJwZ18nB",
        "67NQN5KX2AMe",
        "Iwf50b-R2tYG",
        "GMQiZwjn3iu7",
        "WVIkgGqN3qsr",
        "XkPnILGE3zoT",
        "Hlsf0x5436Go",
        "mT9DMSJo4nBL",
        "c49ITxTc407N",
        "OeJFEK0N496M",
        "9ExmJH0g5HBk",
        "cJNqERVU536h",
        "k5UmGsbsOxih",
        "T0VqWOYE6DLQ",
        "qBMux9mC6MCf",
        "-oLEiFgy-5Pf",
        "C74aWNz2AliB",
        "2DejudWSA-a0",
        "pEMng2IbBLp7",
        "rAdphbQ9Bhjc",
        "TNVZ9zx19K6k",
        "nqoHp30x9hH9",
        "rMDnDkt2B6du",
        "yiiVWRdJDDil",
        "1UUpS68QDMuG",
        "kexQrXU-DjzY",
        "T5CmagL3EC8N",
        "BhH2vgX9EjGr",
        "qjKvONjwE8ra",
        "P1XJ9OREExlT",
        "VFOzZv6IFROw",
        "TIqpNgepFxVj",
        "VfCC591jGiD4",
        "OB4l2ZhMeS1U",
        "ArJBuiUVfxKd",
        "4qY1EAkEfxKe",
        "PiV4Ypx8fxKe",
        "TfvqoZmBfxKf",
        "dJ2tPlVmpsJ0",
        "JWYfwnehpsJ1",
        "-jK_YjpMpsJ2",
        "HAih1iBOpsJ2",
        "zVGeBEFhpsJ2",
        "bmKjuQ-FpsJ3",
        "Fze-IPXLpx6K",
        "7AN1z2sKpx6M",
        "9PIHJqyupx6M",
        "_-qAgymDpx6N",
        "Z-hykwinpx6N",
        "h_CCil-SKHpo",
        "cBFFvTBNJzUa",
        "HvGl1hHyA_VK",
        "EyNgTHvd2WFk",
        "KH5McJBi2d8v",
        "iW_Lq9qf2h6X",
        "-Kee-DAl2viO",
        "gCX9965dhzqZ",
        "gIfDvo9L0UH2"
      ],
      "include_colab_link": true
    },
    "kernelspec": {
      "name": "python3",
      "display_name": "Python 3"
    },
    "language_info": {
      "name": "python"
    }
  },
  "cells": [
    {
      "cell_type": "markdown",
      "metadata": {
        "id": "view-in-github",
        "colab_type": "text"
      },
      "source": [
        "<a href=\"https://colab.research.google.com/github/ashish-bansod/Netflix_Movies_and_TV_Shows_Clustering/blob/main/Netflix_Movies_and_TV_Shows_Clustering.ipynb\" target=\"_parent\"><img src=\"https://colab.research.google.com/assets/colab-badge.svg\" alt=\"Open In Colab\"/></a>"
      ]
    },
    {
      "cell_type": "markdown",
      "source": [
        "# **Project Name**    -  **Netflix Movies and TV Shows Clustering**\n",
        "\n"
      ],
      "metadata": {
        "id": "vncDsAP0Gaoa"
      }
    },
    {
      "cell_type": "markdown",
      "source": [
        "## **Project Type**    - *Unsupervised*\n",
        "## **Contribution**    - *Individual* - *Ashish Prakash Bansod*"
      ],
      "metadata": {
        "id": "beRrZCGUAJYm"
      }
    },
    {
      "cell_type": "markdown",
      "source": [
        "# **Project Summary -**"
      ],
      "metadata": {
        "id": "FJNUwmbgGyua"
      }
    },
    {
      "cell_type": "markdown",
      "source": [
        "The main objective of this project was to analyze a dataset of TV shows and movies available on Netflix as of 2019. By utilizing NLP techniques, our aim was to group the content into relevant clusters and create a recommendation system that would enhance the user experience and prevent subscriber churn. With over 200 million subscribers, Netflix is the largest online streaming service provider, and it is crucial to continually improve its offerings.\n",
        "\n",
        "* We began by addressing missing values in the dataset and handling nested columns such as director, cast, listed_in, and country. This allowed for a more organized and comprehensive analysis of the data.\n",
        "\n",
        "* To categorize the content effectively, we binned the rating attribute into appropriate categories, including adult, children's, family-friendly, and not rated content. This classification helps in delivering targeted recommendations based on viewer preferences and age appropriateness.\n",
        "\n",
        "* Exploratory data analysis (EDA) was conducted to gain valuable insights into various attributes within the dataset. This process involved examining patterns, distributions, and relationships in the data, providing a deeper understanding of the content available on Netflix.\n",
        "\n",
        "* To create clusters, we employed NLP techniques by tokenizing, preprocessing, and vectorizing attributes such as director, cast, country, genre, rating, and description using the TFIDF vectorizer. This allowed us to quantify textual data and identify similarities among TV shows and movies.\n",
        "\n",
        "* Dimensionality reduction was performed using Principal Component Analysis (PCA) to improve performance and computational efficiency.\n",
        "\n",
        "* Two clustering algorithms, namely K-Means Clustering and Agglomerative Hierarchical Clustering, were used to create distinct clusters within the data. The optimal number of clusters was determined using evaluation metrics such as the Elbow method, Silhouette score, and dendrogram analysis.\n",
        "\n",
        "* Finally, we developed a content-based recommender system using the cosine similarity matrix. This system analyzed the user's viewing history and provided personalized recommendations based on similarities with other content. By delivering tailored suggestions, the recommender system aimed to improve user satisfaction and reduce churn.\n",
        "\n",
        "In conclusion, this project successfully analyzed the Netflix dataset of TV shows and movies using NLP techniques. By clustering the content and developing a content-based recommender system, we aimed to enhance the user experience and mitigate subscriber churn for Netflix. The findings and recommendations from this project can contribute to the continuous growth and success of Netflix in the highly competitive streaming entertainment industry."
      ],
      "metadata": {
        "id": "F6v_1wHtG2nS"
      }
    },
    {
      "cell_type": "markdown",
      "source": [
        "# **GitHub Link -**"
      ],
      "metadata": {
        "id": "w6K7xa23Elo4"
      }
    },
    {
      "cell_type": "markdown",
      "source": [
        "https://github.com/ashish-bansod/Netflix_Movies_and_TV_Shows_Clustering"
      ],
      "metadata": {
        "id": "h1o69JH3Eqqn"
      }
    },
    {
      "cell_type": "markdown",
      "source": [
        "# **Problem Statement**\n"
      ],
      "metadata": {
        "id": "yQaldy8SH6Dl"
      }
    },
    {
      "cell_type": "markdown",
      "source": [
        "![Netflix.png](data:image/png;base64,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)"
      ],
      "metadata": {
        "id": "DpeJGUA3kjGy"
      }
    },
    {
      "cell_type": "markdown",
      "source": [
        "![Netflix variable.png](data:image/png;base64,iVBORw0KGgoAAAANSUhEUgAAAeUAAAJDCAYAAAA1nQwMAAAACXBIWXMAAA7DAAAOwwHHb6hkAAAgAElEQVR4nOy9949UR76/z7/CD0gI+QdkrdAKoQUhg7DWWCAQICyTtYAwSZgcl7QLBi+wYK6FCSJcLlggm2zfjwnSkkxaG1hkhgwGvKQlDnHqq1ddVX9rzpw+3ROZqn4eqTXTfVKdOvWup1LPNDEAAADQKGjythMAAAAA/wdSBgAAaCQgZQAAgMYk5SZNmvAiDygDlAHKAGWAMtCk4fMgVcoAECbEL0C4IGWAyEDKAOGClAEiAykDhAtSBogMpAwQLkgZIDKQMkC4IGWAyEDKAOGClAEiAykDhAtSBogMpAwQLkgZIDKQMkC4IGWAyEDKAOGClAEiAykDhAtSBogMpAwQLkgZIDKQMkC4IGWAyEDKAOGClAEiAykDhAtSBogMpAwQLkgZIDKQMkC41JuUb9y4YZYtW2YOHTpkKioqij7u2bNnZuTIkaZp06Zm3rx5mftqu/br2rWruX//fq3TDBADsUq5pnVKFqo3Vq1aZXbv3m1ev35dJ+cEaFApHzlyxIow38sJ0gmzbdu25tKlS0UnCCkD1I7qxm+rVq3MpEmTzC+//FJnsqsPalqnZLF582Z7zmbNmpljx47VyTkBGqWUf/jhBxvs48ePN0+fPi06QUgZoHbUNH4lpnXr1jXaHmNN6xShOkl1k+5TInacPXvWtGvXzvTp08f89ttv9ZBqgAaU8v/7f//PFnb/9eDBA/PmzRtTU5AyQO2obvyq1zlx4sScmPfu3RvdI8gnZYCopKzfCw0LJed71cJdvny5+cMf/mC3t2/f3nz99dfmxYsXmVIuLy+3x7Vs2dI0b97czJ4927aYk9fQfitXrrTn9YfmNB8FUArUJH4VlyNGjLCf9+vXzzx69KjomK1O3N25c8fMmjXLxrH269y5s53PdQ35srIy06ZNG9O6dWtz8OBBM2zYMPten6fVKW5Ie+rUqTaNuq7qB92Lu7Y7zn+5c7r8cO8dOv/nn39uz+fuWfen+3S4a+tae/bssffi9t2xY0ejngqAxkuDSlnBPWbMmNShs7/97W922CxNyvpc2wsNmauSmDx5sv1MgfnHP/4xF/xdunQxt27dqqt8A2i01DR+d+3aZT//3e9+Z86cOVN0zBYbdxoe7tWrV+qwuSQviTkp6/N33nmnkjCzpJz26t27t7l7967ZuXOn+eCDD2za9LkaF3379jVXrlxJlXK+dOqlvHBD5+7aLVq0sPfg7/f73//enDt3rt6eMcRLnc8pu0BPCyDNV7kA+PHHH83Lly9tK1kBrAA8depUqpRVuFXI9dmCBQvsPlevXs0FjruGhuG0CETnOnr0qD1W+7nW+9atW+svJwECl3LatmJitpi4k3CXLl2a60lK+opjxbM++/DDD83t27crSVm9VIlf19O2LCnrnFqo5afPH6rON3ydlLLSqR531jm3bdtW6dr6XNu1n3r3rq5imBwatZR92c6dOzc3tPPkyRPzpz/9KVeI06SsoE4bYkpew1UO+swNNWlYTPPcLg0AsVMXUk7GYlbMFhN3Dx8+NB9//LHdR19rcuhYfe56rr6Uv//++0rpy5Ky0uni20+35soly2Kl7Kdz/vz5uXtOO2faVzL96xT6SidAgyz0UmFNCyC/sOZ7qRCnSXnhwoVVCn/aNdKGuTXPs3r1ar7HDCVDXfWUi43ZYuJOQ9ga1i7Ug/SlnExfsVJO+7xYKWel051TDRI1TJAyBD2n7AeF5nQ015R8/dd//VeqlNWyLkbKQi10DbMNHTo0N4eklwLt2rVrtc8xgBKZUy42ZouJO6QM0Mik7A95aaWk/11IBbR7nzV8rTkezVXlu4ZrEbuvZemcqijc3NbGjRuLzBaAcKmr1dfVidlCcZdv+FpzxV988YV9JeeUa9pT1r0MHz7cfj5jxgybnpoMX2sOnOFriHr1tVs0opWKa9assXNPCiD9/umnn9rfa7PQS9+vdAGmv04kVFFoFaY+15/TA4iduvyecjExW0zc+Qu9FK8XLlywcaw5aH3WoUMH26OuqZTdoiwJWF9PSi7K8qWsrzop3do3baGXvyCtmIVezClDlF+JUgC4QK3pV6L882sITV+D8L9nqPMDxE5d/kWvYmK22Lir7leiqiPlrK9ECX1ta9y4cUV9T7m6X4lCyhD0Hw9xf2Tg/ffft9vV+lQr3X3Rv9g/HjJz5kzbYk0Tv/9HDNz5/WFvgJip6799XShmqxN3aX88ZN++fVX+eEh1pTxkyBDboNAfHUn+8RDHxYsX7Z/TVCOgU6dOeb+nXN0/HoKUoS7hXzcCREas/yUqjXyrrwFCBSkDRAZSBggXpAwQGUgZIFyQMkBkIGWAcEHKAJFRSlIGiA2kDBAZSBkgXJAyQGQgZYBwQcoAkYGUAcIFKQNEBlIGCBekDBAZSBkgXJAyQGQgZYBwQcoAkYGUAcIFKQNEBlIGCBekDBAZSBkgXJAyQGQgZYBwQcoAkYGUAcIFKQNEBlIGiFDKvMgDygBlgDJAGaAMNGnwPEiVMgCECfELEC5IGSAykDJAuCBlgMhAygDhgpQBIgMpA4QLUgaIDKQMEC5IGSAykDJAuCBlgMhAygDhgpQBIgMpA4QLUgaIDKQMEC5IGSAykDJAuCBlgMhAygDhgpQBIgMpA4QLUgaIDKQMEC5IGSAykDJAuCBlgMhAygDhUmdSLisrM/379zf37983DcmLFy/M5cuXzZs3b6psU1qUJqUNoFSoLylnxVpjo6KiwuzYscO0bt3ajBw50jx79uxtJ6nRc/v27Qavv2tL2VvyTn0SvJRPnz5tevToYW7evFllG1KGUiQrfufNm2dfNYndrFirDzZv3pxLq9LYpk0b07RpU/tq3769WblypSkvL0899tq1a6Znz57m7NmzJgbc/c+ePdu8fv260ja91+faXtMOyKtXr8yMGTNsntaEp0+fmkmTJpmrV6/mPlNDSA0i98ySryNHjhR17vLycrN8+XLTqlUr06xZM9OnTx/z008/2YYXUs6gMWYOUoZSpL6k3NAkpdylS5ecdB48eGDmzp1rJk+ebHvwSRrrPdVWymqM+OITeq/PayPl2nLixInUBkNS0MWK2FFRUWGFPHPmTPPo0SP7XtdSWTh37lx0z7lGPWXdvDKoefPmpmXLlrZlpQehzOnbt69ZvXq1HTLyt4kbN26YoUOH2paOCtC2bdvsMJgyeNiwYebJkyd2v127dlUablJgzp8/3z6MNPyHon1++OGH3PXV8uvevTvD11BS1EbKqjSHDBlilixZYmNIsaRh4GSvxI811QXqJQ0fPtzuk1YB+4J1PR+dP1lPFCtlJ+Z+/frZOsRH1/V7ZDqP6+n37t3bfta5c2dz9OjR3H3p8zlz5ph27dpVqS+Uti1btuTuVY0B9QyTdZfSM3jwYCuLfPeYvJbyUD169eyFzqVzJOWl4z766CNbh65bt67SNr3X59ru0p5W3+r6S5cuNatWrcodq3sYMWKEvR/ltcurfPechvLws88+M/v37zf5SJYJHZOVluRxe/furXS9L774wuzcufOteadRSXnZsmX24al1qmEsFTA9DGVO27Ztzdq1a+02DRu5IHLBs3HjRptZmpfScQcPHjT37t0zgwYNMpcuXbLbJNIOHTrYQvry5UvbEs5qXfkVhQvc48eP23Pt27fPdOzYESlDSVFbKati27NnTy6GevXqZeM0X6ypkjt8+LD54IMPCkrZ9XxGjx5tHj9+bOcxBw4cmFqhF5Kyux8nknz35HqTOl73o/tSpewa7K7uWrNmjb3PZANBlb/qK9V3EsbEiROtCB8+fGgFeubMGbvfqVOnrFRU0ee7x+S1lFfjxo2zUhASuiSjbWn3891339m6VHWq0LUkF33u1s9k1bdKoy8j1edO8n5e5rvnNHR/ugeXpjTSykRWWny2bNlihaoymWwYvC3vNCopK9OUkVeuXLHBqAxVhieDwH8Ix44ds4XXZb5Qi0UZoYzUT7WEbt26ZaZMmWIWLVpkC6kyTq1vfZ4P/7pbt26153JBxfA1lCK1lbLfY/BjqNhYy5KyKkpJx4nM31ZTKau+SJKsj5Lp9Xtqrrd19+7dKud5/vy5GTNmTKWemp9HOt719pxUsu4x7VquLlTa8vXQ3P3/85//tOJ3owOudymZq8et/bLqWzUktL/Spt81KqJjXV7q+oXuOYnO7fd400grE0pfvrT4VFRU2Maf7qlFixaZc8oN5Z1GJWXdjG6sW7du5t1337UtQg3VZGVO2gP1P1NGqCCqFavzqQWl+Qk9iKlTp9qWSz786yaDGylDKdIQUs6KtSwpa7+uXbtWWfQjCUgG9dVTThO/L8p885L5Fiuply35SiKffvqp7S3qp86VdY/qySWvpV68RK2f+Xpo/v2r/lX9qLpYP/Xe316ovlXDQS/JcMKECbn9XF4WumcfJ7c0mablY/Le8qUlH+Xl5Wb37t22V3vy5Mm35p1GI2W1TNSicYnVA1KLQq3QmrRYNCSic2nIQPuqQKrlp2uMHz/efP7556kB50NPGSA7qH3Uo9H8oN8TO3/+vJVCQ/WUNZSraxaipnPKyXohq6es3m2WlF2vUUOeaWg4VTLetGmTmTZtmpVU1j2mXUt1oOrCr776yvYWk0PXyftXA2DAgAFWJvqp9/72QvWta0gsXrzYfu5I9pTz3bOPzuV6njWRcr60OK5evWp70xqZdejZqQwrrW/LO41Gym7pvVoVegiaLylGysmx/evXr+fmot2+o0aNsl+3UIFUpitYNHHvDwGlwZwyQHZQ+6h38cc//tFWWJp+0opWVXBu5WyxUs6aU1b8qgeil84paUg2qvT1XhXw9OnTbb2g99u3b08VQJaUdU4NORa7+jo5p6x6pdgVvJrTVOWu+VXd66FDh3ILhlw633nnnZxUsu4x37U0jKpz5Ftc5N+/a1D87ne/sz/dMG6+udR89a3W2/gruf1Rh0L37FA97ebDayLlfGlxvHjxwj5jlVG3+vrixYvWFW6O/m14p1ENX2suRJnkVl9rHF6txazMyVoF57fg/SX1Ok5zB2q9ZJFcEXrgwAG7qlHp+/Of/2wznT8eAqVEVvwqRiQHVUQaktR3P9XIdgtoipVycvW1ejO+NH/99Vfb+9Y1VBGqF5m2+lrH6tscaUKszfeU0+SXtfo6S8r+SmTVX6rHVJ85JBOd162gzrrHfNfS/KUaNfkWFyUbJWpMdOrUKTdsnNxeqL71e4yOfKuv0+5ZSHpa4KUGUiGyvhKVlhafp0+f5r6n7J6dW03+trxjSv3PbOabo+Ev9QBU5W3EL+s3aoekrFHHtKHrxop6nOpZvo2vDcVMEFIGgOJBymGhXtr69etzQ9FQ2jRBygBxgZTDQUPAWtWsr5mmfSULSg+kDBAZjHQBhAtSBogMpAwQLkgZIDKQMkC4IGWAyEDKAOGClAEiAykDhAtSBogMpAwQLkgZIDKQMkC4IGWAyEDKAOGClAEiAykDhAtSBogMpAwQLkgZIDKQMkC4IGWAyEDKAOGClAEiAykDRChlXuQBZYAyQBmgDFAGmjR4HqRKGQDChPgFCBekDBAZSBkgXJAyQGQgZYBwQcoAkYGUAcIFKQNEBlIGCBekDBAZSBkgXJAyQGQgZYBwQcoAkYGUAcIFKQNEBlIGCBekDBAZSBkgXJAyQGQgZYBwQcoAkYGUAcIFKQNEBlIGCBekDBAZSBkgXJAyQGQgZYBwQcoAkYGUAcIFKQNERk2l/OzZMzNy5Ehz5MiROk3P7du3zf379+3vr1+/Nv/zP/9jWrVqZZo3b25mzJhhysvLTamgfFB+xEZZWZnp379/7jlDA0qZzAdo3GTFr4Qr8UrA9SXlefPmmc2bN9vfX716ZcW7cuVK+/7nn3823bt3N5cuXTLPnz83d+7cMRUVFaa+uXr1qnn//ffNiRMnMuu2Nm3amNmzZ9vGg4/e63Nt1341Rfmg/FC+1Dd6jk2bNk196Tn/7W9/M/Pnz6+S/3v37jW9e/c2Dx48qPS5Gk/Lly+3DapmzZqZPn36mJ9++skejxfqDqQMEBmNScrVuX59sm7dOvPhhx+mCjcp5fbt21uJ++i9Pq+tlN8Wafl+6tQp20Dye+4vX740EydOtPnlI/FKyDNnzjSPHj2y79XA6dKlizl37hxSfltSVqD5ra0tW7aYnj17mmvXrtntT548MYMHD7YFQC+1pCZNmmSHqVq3bm1++OGHXKvs9OnTtjWm8+jnxYsX6/K+AEqW6khZPZ3OnTvbGB03bpzp0aNHTso3btwwQ4cOtb2iTp06mWPHjtnPJaW+ffua1atX27hu2bKl7QGq19u1a9dKvTFdx0narz+c3HyBu56YzufOKYFqP9URc+bMMe3atau2FNXjGzRokPn+++9tupPCdei8H330kb3npJT0Xp9ru7u+nz8S9rZt28ybN2+srIYNG2brQ3d91YuSl+5V9yx0b6pDlYfK/7lz55qnT59WSVdyv1GjRuVE6upZPbtu3brlHT5Ok7KupXTu378/95nyRnmdzCPXYFMv2qG6/IsvvjA7d+7MWyZcA6jYvNq1a1eldG7evDm1Nx8zteopv3jxwhYGZaRQodODuXfvni0ECrzjx4/bzD9w4ID54IMP7MPWSy0sfaaHpgekB5NWIAGgdkGdr3L+97//bT7++GOze/duG4dnzpyxFab2kUj69etnNm3aZLcdPnzYVtaSgeqAtm3bmrVr19o64OzZszaenaySPWX/fVIObpvriY0ePdo8fvzYXmfgwIFWGO56a9assXVLvp5uPlTxjxgxwjx8+ND2lPP14l3d9t1339l7d8O3EobqJ32u7drP5c/GjRttei5fvmzz5+DBg/Y6krDy0/VIdX3Vb76UJTMdc/PmTbstrYfq73f9+nWb38p3iVl5qPyUAFUHK02qaws9dx+lR8PpLk9VF6tO13WSqGGg8rFnz54qdXVWmcjKKz1PNZg0naFtSkuHDh1sR0+99smTJ9f5Gofoh6/1EN1D9Vs1yULgMlyFZ+vWrZUKgs7lCjsA1G1Q+/hxqZ6v5OF6Kf7wdda2ZB2QHPauiZRVcatB70QmnMBcL+zu3bvVzgs3F+xkJ8nn6wDoOhLJP//5TytRN//spK5Oh0YGtV8yf5J14apVq+xLLFu2LHd9d0+aTx8zZkylnmeaONP2cz1/5ZWOGT58eMEOTT4pu56xJKhtkr3fc/ZRva5Olu67RYsWmXPKWWXJzysJXD91f7du3TJTpkwxixYtsp6QsIcPH24/LyVqLWU9VDck5Ldq0gpB2jCWe2lYww2PAUDdBbWPH5fJGPUr0nyLhNSgrg8p61z+0Ld7SUjqdeVb2eunM590dF4JVaii79WrV+qCLydl/ZQ0JHNJQz/13t+eVr/5n+l6n376qe3x66frcDgpuzxL3q/meP0FVmnz/MnnVMwcfb79XGdJ96c0u9GQQmiqQSMs6tWePHkys0wUyisJWJ25ffv22dESjSwoz9UAmDp1qu0xlxK1lrJbGPDVV1+ZIUOG2EIvCvWUNX9SSvMEAKH1lN2Qa5L66ilruPr8+fMFr1cd0joAeqUt+PKlKzENGDDAikI/3bC9256v96e6UHWi8k0y1vD/tGnTcsPByZ6yhnCzyNdT1nCw5FVbKQv1jCdMmGBWrFhhli5dmlovq3Gj8nDlypXcZ9pP9bjuqSY9ZZdX6qVrX3Xq1FjS8P/48ePN559/nneqIWZqJGU3D+JQgXnnnXcqTcjrYWj+QZns5pRVoPVwL1y4YFuEhw4dstt0ri+//NKu6gOAug3qmswpa6hYMlIDWtskAlXaGkosRspa5OPqgmKkrGssXrzYTJ8+3V5L77dv326lVVMpS4zqKEgAPurZaUFbskfoS1dpl6B+97vf5UTlb0/Ok2q+V/WiP/Sr+1K96F/fn1PWHK1kpfpP9aDqQ7cAKt+csq6la7oh+LqQsruX9957r9L0gY8aFZKmJOxWX2txrvLRzfvnKxOF8soNm+tc6tTp3Bry14KxM3nSEzPVlrIyUOP+mlNww80KVC3i8odYkquvtWpSYk5bfa2Vnf42AKi7oM6qnBWHqgw1fTR27FhbOaatvlYFKYm41dBZUv7xxx/t/urhqadXjJSTq69VZ+jrN7pGTaWsDoEaHWp8+LgFqklZ+9IVGs5V3eSGvpPb860oTpuvdeRbfa1z6Fw6Z3VXX9dWykISVAMma25a29z3lFVva9W+7rmYMlEorzT/7o9eOH88fPjQlBp18he9JGVNyLuh67f5fUSAUoc/swlQwlJWy2b9+vVV5iKQMsDbASkDlKiUNVeguWHNbyS/roCUAd4OSBkgXPiHFACRgZQBwgUpA0QGUgYIF6QMEBlIGSBckDJAZCBlgHBBygCRgZQBwgUpA0QGUgYIF6QMEBlIGSBckDJAZCBlgHBBygCRgZQBwgUpA0QGUgYIF6QMEBlIGSBckDJAZCBlgHBBygCRgZQBIpQyL/KAMkAZoAxQBigDTRo8D1KlDABhQvwChAtSBogMpAwQLkgZIDKQMkC4IGWAyEDKAOGClAEiAykDhAtSBogMpAwQLkgZIDKQMkC4IGWAyEDKAOGClAEiAykDhAtSBogMpAwQLkgZIDKQMkC4IGWAyEDKAOGClAEiAykDhAtSBogMpAwQLkgZIDKQMkAJS/n+/fvm9u3bqdvKyspM//797T4A0Lil/ObNG3P58mXz4sWL1O3z5s0zmzdvNnXJ3bt3zYgRI0yzZs3MkSNHMvetj+vXNYXysKYob0aOHGmePXtWp+eFCKScFO3KlSvNjBkzzKtXr2yBUcFxwYWUARqefPGreGzTpo1p2rRplVfXrl3NuXPnTI8ePczp06dTRVAfUly2bJk9b5rEGuL6dc3Nmzcr5WExKN9Vh2aJHCmXDrWWsg9SBgijp1xMg7khpJh1zhClXF0qKirM0qVLzd69ezP3Q8qlQ7WkrIDwW9cqKPpMwZJshbvP/MC/ceOGGTp0qB2q6tSpkzl27FhD3CNASVFTKet3faZtil8Xy4pr95mT4uvXr82WLVtM69atTfPmzc3cuXPN06dPq1wnud+oUaPsdJdrwPs9dT8t+a6/ZMmS3HB37969zcWLF6uVHp1DL1cP6Ryqh2bOnGmPS9ZL6vFqH6Wjc+fO5ujRo3aIWiJdtWpVbr8TJ07YdKmOc3koysvLzfLly03Lli3tSyOLSqvj3r179jg3BejXkbqXHTt2WHGrrh0yZIi9f53H35Y8rn379mbbtm02nUrXsGHDzJMnT+x+u3btqtTQ0fOcP39+7jwQQU/ZSblQT/nBgwemX79+ZtOmTbZQHj582Bb2fPPRAFA3QV1MHCelXKinunPnThu/Gq6V/CZOnGjWrVtX5Tpuv+vXr9vh2bVr11oxF9P7Tbt+9+7dc3O2eu+EUmx6dIzkdufOndw5JH3JV/XSnj17zODBg63Erl69arp06WL27dtnt0lwur7y59SpU5Vkp2F4Xc/PQ6VLQh49erR5/PixresGDhxo9u/fn0uPftex2vfly5c23Rs2bLBC1bC2rq+fygvJWOlTWpSmXr16Wam7unXjxo12m/JHeXHw4EG7fdCgQebSpUt2m4bJO3ToYK5du2avN3ny5IJz+RCplNX6dIU9bV8AqJ+gLiaOqyPl58+fmzFjxlQack0bXk3bTwKRJM6cOVPpnDUZvnbbdc5i0pN2DonL38/Pl61bt1qJuZ6tG2pWD1n1mHq4uo+HDx9a0Uuefh4qXX379s3da7K+VKNg2rRpue26zuzZs82sWbOswCVmnVvyTN6Pf51k3SrUU3bz1PqpvLl165aZMmWKWbRoke0xS9jDhw+3n0MJSlmfpS0wUcEHgPoL6mLiuDpSTg49u5d6kRKRI63hnfysLqSsdBeTnqxzpEnZr9sc/mfqGeslqU6YMMGew89D/a5h+WS61IBQg0U98UmTJlUaZtfvGuJ+//337RC1huQl6ywppzVA/M8kYI0oqHetnrt6+ZL/8ePHzdSpU630oUR7ympZps3zAEB4PWX1MrPI11PWUKvE4J+zLnrKhdKTdY7q9JQ13CzUM/7000/N4sWLbc80mYdKl4arz58/n5oWCd0dJ1zP2F1PQ8w9e/a0dWdNesoaCpdwdR4dq6FqDcHrGuPHjzeff/55dAvnSlbKbu4mn5S///77KgVc30ccMGCALegqdCqwK1asYOgEoJ6DujZSllRUiSeFph6cRKB6QDI5dOhQbnFRvjllxb3mPTUX6xrnhaSc7/puuxNVsempjpSTc8rqEbs5XqFjND/esWNHu28yD3WMhD19+nRb3+n99u3bbeNB96RjJUyH8kR549KteylGysk5ZeW18tzNXbt06qtaGrJW40INC/XE/aF1CFTKesCal2jRooUtLMkhnm+//dYuSFi4cGHm6mt/aAYA6i+oayplNaQ1/9u2bVu7UCjf6mvFs+Ja8V3s6mtHlpSzri98URWbnupIOd/qa3+lst8jTctDf/W17l+rvLWPeqxKS7L+0yItNS5cHbl+/fqCw9dZq68dmgfXkLW7ns7Xp0+fXIMHGg/8mU2AyODPbDZuJEYJWWIGSIKUASIDKQOEC1IGiAykDBAuSBkgMpAyQLggZYDIQMoA4YKUASIDKQOEC1IGiAykDBAuSBkgMpAyQLggZYDIQMoA4YKUASIDKQOEC1IGiAykDBAuSBkgMpAyQLggZYDIQMoA4YKUASIDKQOEC1IGiAykDBAuSBkgMpAyQIRS5kUeUAYoA5QBygBloEmD50GqlAEgTIhfgHBBygCRgZQBwgUpA0QGUgYIF6QMEBlIGSBckDJAZCBlgHBBygCRgZQBwgUpA0QGUgYIF6QMEBlIGSBckDJAZCBlgHBBygCRgZQBwgUpA0QGUgYIF6QMEBlIGSBckDJAZCBlgHBBygCRgfaItKwAACAASURBVJQBwgUpA0QGUgYoYSkfOXLEjBw50jx79szcv3/f3L59u+5TCQANIuUXL16Yy5cvmzdv3gSZ43fv3jUjRowwzZo1s3VTFvPmzTObN2+ul3SoPlS9WCgNAPUq5ZUrV5oZM2aYV69embqirKzM9O/f3wofAAqTFb+SUNOmTe1L4urdu7c5ePCgqaiosNtPnz5tevToYW7evBlkDC9btszKVo2LrLpKIGWIXsr1AVIGqFspu3hVb/j8+fNWwjt37qy3bG7IGM4SLVKGKKVcXl5uFi5caJo3b246depkZs2alQtyBYOCwgVAnz59zLhx40y3bt1sQN64ccMMHTrUttB17LFjx3Ln1e+dO3e2LXi13lVZ+K16vXTO169fmy1btpjWrVvbNIwaNSo3ZJ52TYBSo1gpO06cOGH69etnHjx4UEmg+l2xOGfOHNOuXTv7PiuGL168aOPPbTt69KjZtGlTlRh2PXKdW58p7rWveutp1/TJF/9uuNhdp2vXrpXiX/WS29amTRt7Xn22ZMmS3HC3rqt7SLvO3LlzzdOnT6vkp64xc+ZMu0/Lli3taKGOdelZu3atPa/Or+toeN3Vo8uXL7fH6KXzP3782Fy9etX07dvX3Lp1y+536tQp06tXL3Pv3j37Xvmne66vThAEKGUF9ZAhQ8ydO3dswVqwYEFeKauw7dq1ywa7CpUCX0GqQnv48GFbWBVQFy5csAVPlYO27du3zwwYMKBKJSHUotdx169ft0NUKvSukCavGeq8GEBDSlmxpRhTrCWl3LZtW7NmzRobv1kxLNkoZvfs2WO3nTlzxsa0JJOMYX3WpUsXG+faV3HfvXv33PX9a2q7T1b816SnrOtqDl3n0vv58+fbxoG7jobxJeOJEyeadevWZQ6Xa18ds3///pyUJWLVlRLu8OHDbdp0fgl59OjRtp7S+SVldXa0n+7HNXZWrVpl3nnnHStnd736mgeHAKX8/PlzM2bMGLN3797Ugp6Usgqha12qkA0ePNg8efKkykKIrVu32kLp5rVUwE+ePGkLqB/QaddXoR40aJCtBJLXBChFaiJlyUlyTEpZvTbXu8uKYW2TgFzsSaY///yzFWtSyop3rT1xwlXcL1261AooeU2fQvFf2+Frt13nzKrnfCTqYcOGmStXrthOgPJG+6Qt9HL1o86ve3RpFn4PWfmgl841ZcoU2/CQjHXOCRMmVDoOSlzKaQUtS8p+IdZ7fxjLvRSgixYtyh2XxA/otOv7n9X3/DZACNRlT9mXaVYMb9u2LW/sJc/j1xN+uvRZ1vxzofivKynr2v5QuHup4SKh+qgDoXvXdNm7775re8AaQcySsp/fac9AveKxY8faRpKmBzWSKBn/61//sr3ohw8f5n2+ED712lP2AyDZkvZJ9pTV4lTBU0u6mJ6yhtRUkJEyQN3OKfuCzIrh5DbFsmL45cuXRfeU1RvMknKh+K/rnrJWpWfh36NLi0bqdH816Slr6PvatWv2nJKv5tUlfJ1fcv7yyy/NZ599lqsnIU7qdU7ZDwA356QCq2BUwVyxYoUdrnFzyiqkEvKBAwfsvjrGLfxwX9Hw55R0no0bN9rhI1UGSBmgequvNU2kXp5bfZ0l5awYdts0T6zznjt3zsa0YjsZw8k5ZcW93uuYQiu1s+K/GCkPHDgw19PMJ2XljRZ5aaheadb9HDp0yArSX6ei68+ePdv2jtVjdvPGhaScnFN29ajOpXNqu+Tbvn37XG9a19bcst8ggTip0eprtWi12lArE7V6cfLkyQWlLPyVmzpWBd+1lt3qa23TCk63ClLHa16lRYsWdp9Cq68ZvoZSpzbfU86ScqEY9ldfK5bdYqVkDBdafZ0l5az4LyRlNRw0/6yFZJcuXcqUsn8d3Y/uWfeedk7Vf271tabi1EDIknLW6muH5KvOj2tsKF969uxpe9IQN/yZTYDI4M9sAoQLUgaIDKQMEC5IGSAykDJAuCBlgMhAygDhgpQBIgMpA4QLUgaIDKQMEC5IGSAykDJAuCBlgMhAygDhgpQBIgMpA4QLUgaIDKQMEC5IGSAykDJAuCBlgMhAygDhgpQBIgMpA4QLUgaIDKQMEC5IGSAykDJAuCBlgMhAygARSpkXeUAZoAxQBigDlIEmDZ4HqVIGgDAhfgHCBSkDRAZSBggXpAwQGUgZIFyQMkBkIGWAcEHKAJGBlAHCBSkDRAZSBggXpAwQGUgZIFyQMkBkIGWAcEHKAJGBlAHCBSkDRAZSBggXpAwQGUgZIFyQMkBkIGWAcEHKAJGBlAHCBSkDRAZSBggXpAwQGUgZIFyQMkBkIGWAcEHKAJERspTfvHljLl++bF68eFEv59+8ebOZN29enZ3vyJEjZuTIkebZs2d1dk4obZok4rdJQwe1CrMKtQo3ANSeYuL3wYMHpnfv3mbbtm1Fn7esrMz079/f3L9/39QXN2/eND169DCnT5+ul/MjZWjsIGWAEpTy/v37TYcOHczo0aPN06dPG42U6xukDNFJ+fXr12bVqlWmVatWpnnz5mb27Nnm8ePHdptat2p9N23a1HTq1MkcO3bMfl5RUWEOHDhgP9M27XPx4kUb5G3atLGf6VWXw0oApUohKWtoeNy4cebbb781w4YNMydOnKi0XXHbuXPnXKyeP3/eyszFqV4a2VJdsGXLFtO6dWtbF4waNcrcvn3bnkPb+/TpY6/TrVs3K/IbN26YoUOHmmbNmtljduzYYesGH+0n8atu0Ktv375m9erVdv+WLVualStXmlevXpmlS5faesihexgxYoRtYJSXl5vly5fb/fWaO3duro5yUr569ao9961bt3J5MmHCBNtYSdZlrr4SOvfChQvt/ao+mzVrFsPX8HalrCBU4b9z544toAsWLLABosKtYSfJV/NC+/btM7169TL37t0z165dMz179jRnz5612zZt2mQrAwUQw9cA9RvUSSSkAQMGWIGuW7fOzJ8/PyfHCxcu2LiV5CRdxbH21XB3sqe8c+dOK6zr169bqa1du9aKWTEtKUuIu3btssc+f/7cTJw40WzYsMHWAefOnTNdunSxP7Ok3LZtW3tenV/1h47R56dOnbJ1yJMnT+xxy5Yts/ei+5CQNQKg66qOkZQlUt2Pk/LLly9tevbu3WuPVx01aNAgmyfKH11HdZmO0RC/q690/JAhQyrVf8wpw1uTsgJrzJgx5uDBg7nPJN2ff/7ZBs3Dhw9twIm7d+/alqgCSAVdwlbLXAVbBd3ti5QBGlbKkpdGuBSHkqLE6nq4W7dutRJzklZcnzx50vY0fSm7usBJTUiCEtuZM2eslIcPH54bGte1dE31LHUtxb7qAMkxS8p+I8CvKyRjdQ50LZ1HotS9KA2qd/S5w+8V+8PXSvuMGTNs2tR4cHmiPHCf+2lSoyB5zyz0grcqZRV4taLTFmW5IWo37KWXhqYVWC4wJk2aZIe9VQm4hRxIGaB+gzoZwx9//HFumNbFn1vwtWjRorzTSL4k0+LW/yxNVhK0hp/ff/99OxytUTcnvupK2TUu9JKANfSs7f7xaef0pazGwSeffGJ+/fVXM3PmzNx5k0P1emnI/R//+EeVe0bK0Oh6ymrpqqX6r3/9y3Tv3t3OP0nQfiC4ffS5WshqaUrMqiCQMkD9BrWPJCLBJKWjnqakmewpux6t5FlMT7lfv352aDkpK/88wk1puXUnNZGyesaffvqpWbx4ca5Rka+nrPpG1/SlrLTMmTPHrF+/3p5Hx4pkHjjS7hkpQ6OYU1bBVAHW0JbmahQUmoNyBV+Ffffu3aZjx442sBQ8Erbmq1TQNU+VlPL3339f5zcHUIrki183hKw1IL5wJC3Fp+LUzSlLahKpRr80p6zpKMWy4lZfW0rOKevcGzduzM29JmWlz7RN8tR5dY7aSlnvNYetekb3IJJzym7e1w1NJ1dfu7lvP0+UB8qPQ4cO5dL65ZdfmkePHjGnDI179bUK81/+8pfcPLGGptyKxyVLltigU3CrsH/33Xe51deaX9Y8lUNzzTpGggeAug3qpHz9oV2h+JSUnJjc6mv1qLWC2q08lgSnTJliWrRoYfcptPo6OXytPwoyePDg3Opr9VBrM3wtJHkt2PLnpotZfZ3Wu/dJfpNEjRPljc6tRWW6X92D6rnJkyfzx0Mgnu8pA0DdQvwChAtSBogMpAwQLkgZIDKQMkC4IGWAyEDKAOGClAEiAykDhAtSBogMpAwQLkgZIDKQMkC4IGWAyEDKAOGClAEiAykDhAtSBogMpAwQLkgZIDKQMkC4IGWAyEDKAOGClAEiAykDhAtSBogMpAwQLkgZIDKQMkCEUuZFHlAGKAOUAcoAZaBJg+dBqpQBIEyIX4BwQcoAkYGUAcIFKQNEBlIGCBekDBAZSBkgXJAyQGQgZYBwQcoAkYGUAcIFKQNEBlIGCBekDBAZSBkgXJAyQGQgZYBwQcoAkYGUAcIFKQNEBlIGCBekDBAZSBkgXJAyQGQgZYBwQcoAkYGUAcIFKQNEBlIGCBekDBAZSBkgXJAyQGSUqpQrKirMjh07TOvWrc3IkSPNs2fPGuS6R44cqfPrvXjxwly+fNm8efOmzs4JEUv5xo0bZsSIEaZ58+b2NXnyZHP79u3gCj5AjJRq/F67ds307NnTnD171jQkdXFvZWVlpn///ub+/fv2/enTp02PHj3MzZs36zClEKWUf/vtN9OvXz+zdetW8/r1a1NeXm7WrFljhg0bZp4+fVpvCUXKAMVRqvGbFFvIUobSpUl1pbx582YzdepUG9COe/fumV69eplTp07lWnm9e/c2TZs2NZ07dzZHjx61Q0vJgqdCrMKsQq1tffv2NatXr7bDTy1btjQrV66015k3b549l15t2rQxZ86cscctWLDAtGvXzmzYsMG+37VrVy5Nq1atMvPnz7fXBSglYo5f9fKHDh1qmjVrZtq3b2+2bdtmh3iVBncNvXSfPkqf7mnu3Lk2bXr993//t02f2zZnzhybHr1XY2X58uW5fXXc48eP7bm0beHChXaUoVOnTmbWrFk5KScFrbxSnumc4uLFi6ZPnz42/TpWebtp06ZKaXf5mew5pz0T9wzWrl1rt+u8GgW5e/durcsRBCJlBViywPtcvXrVdOnSxezbt88W+BMnTpju3bvbQlYoqNu2bWsLl+ZTNASl87jC7Bd2d5wKn4as9F7BOXHiRPPy5Uvb4lfLX8cAlBqxxu+DBw9sL3/jxo02bZpzlYgOHjxYsLepbe+9957ZvXu3lfi5c+fM+++/b+/PpV0jBmqgvHr1ygp59OjR9ppKj6QsEeu6yr8hQ4aYO3fuWEGrcVGMlCXKAQMGmD179tjzqHGixpDyPJl2/33WM/HzUulRw2H48OGZzxgikrIrAFkPXMNiM2bMyLXE1ZpbunSpbfkWCup82/IFtQtGoYKrlvqtW7fsuVT4FWAApUas8Xvs2DEzePBg8+TJk9xnkrlLbyEpJ7fpnpYtW5br5bvepUSs95JmMn36OWbMGLN3797cNv/esqSs9EuebppAaf7555/tfWZJOeuZJPNZ6Pmq8QVhUuc95bQC4T6r66D2C6Ja5+PGjbPBomEwhq6hVIk1ftPmbv3PqivlfPeVHHL2P3ND737ai5WyGhD55p6zpJz1TJByfFRbyuvWrcuck8rXqnMt0voKaqFgnjBhgg1uhq6hVIk1fvP1lN2wd216yv62fD1lDZVfuHChznrKytuHDx+mpr2YnrLSjpTjo8arrzU346/eHDVqlC0gyfkPFWy91xyOC/4DBw7YeZ0ff/zRLvwoNqgHDhxoC3G+oNbQ14cffmjnWxi6hlIl1vhNzilfv37dinL//v12eyEpd+zY0c7nujnlP/7xj+bkyZNVjpP0/DllN288e/bsgnPKOpfy65dffrH77ty5085l+3PKyluXBuWnRO8Wm7mvQGXNKfvPBCnHR62/p6yViVp96AdCvpWCQgVLqzN17KRJk+xKxGKCWgV60KBBdkGGCmNaUKvAqkXJ0DWUMjHHb77V18VI2V993apVK/P111/nnYsutPpavVTlgfJiyZIl9rveumcnbf84XTdt9bXyVr1nl19TpkwxLVq0sJ9Vd/U1c8rxENVf9FJAzJw5k6FrKGmI36rwPWAIhWikrFajWpNqRWvICaBUIX6rgpQhFKKRsr5DqC/+u+EggFKF+K0KUoZQiEbKAPB/EL8A4YKUASIDKQOEC1IGiAykDBAuSBkgMpAyQLggZYDIQMoA4YKUASIDKQOEC1IGiAykDBAuSBkgMpAyQLggZYDIQMoA4YKUASIDKQOEC1IGiAykDBAuSBkgMpAyQLggZYDIQMoAEUqZF3lAGaAMUAYoA5SBJg2eB6lSBoAwIX4BwgUpA0QGUgYIF6QMEBlIGSBckDJAZCBlgHBBygCRgZQBwgUpA0QGUgYIF6QMEBlIGSBckDJAZCBlgHBBygCRgZQBwgUpA0QGUgYIF6QMEBlIGSBckDJAZCBlgHBBygCRgZQBwgUpA0QGUgYIF6QMEBlIGaCEpXzkyBEzcuRI8+zZM9OY2Lx5s5k3b16dprmx3itAY5bymzdvzOXLl82LFy9MiNy/f9/079/flJWVVdmmukB1guqG6lDT494mT58+NXPnzjXNmzc3LVu2NH379s3lye3bt20+QUBS1sNTwW6oB4eUoVTJil/FRdOmTe2rWbNmpnfv3ubgwYOmoqKi3kRy8+ZN06NHD3P69Gn7Xo1lpSMUQpSy0tq2bVuzZcuWGtXDaenbtWuXGT58uHn8+LEVtH7X9levXpkZM2aYlStX1su9lBpIuRrQU4YYpOwa0erBnj9/3gpz586dDSYSpNwwUm7Tpo1p3769uXDhQp1I2e/ohNjTj1bK5eXlZuHChXYIo1OnTmbWrFm5INe25cuX26ENbddQh1pUfutcL/cg1XJWS12f6efFixczE6uCNHPmzNzwiVpmr1+/zm0bO3ZsrvWv310BykpzVjoKHQcQspQdJ06cMP369TMPHjywPeYDBw7Y8u7Hg6vkXQy72Lpx44YZOnSojTsdc+zYsbw9zePHj5uuXbvmzpGWjmHDhpknT57kemb+Pkr7/PnzbRr9mPWvmy/9SbL207YffvjBtG7d2tYz6gV2794911P+6aefTOfOnW29MG7cONuocXVaVn5kHefj16N6qR5V71Qo35csWWJGjBiRq+vS7k9p/fDDD82gQYNsXejyMCnltPSmPWu93Htt+/nnnytJ2TW0NIz98ccfV6rjlXeXLl3KWyahllJWxg8ZMsTcuXPHFp4FCxbkAmfdunVm9OjRtgDppeENN0yVLAxXr141Xbp0sYEhsW7bts0GpCSehvaZPXu2laTmpjQk1rNnT/vwtU2fS9g6XpWL0uEqjqw0Z6Uj6ziAWKTsD8+eO3fOxoN+qie9YcOG3P7J3pHiTDLftGmTjZ3Dhw9bSahizhr+zddTvnfvnpWIKnCdTzLs0KGDuXbtmnn58qWZPHmyvbbOL6EpZpXGffv2mV69etnjta/qhbNnz9ptSltavZJ1n0qntqkRoXTo/B07drSf//vf/7bS2b17t9125swZ2xtVurLyI+s4HzUIJGTVXzqfm8dV/abjlHeSnJuj13vXUPFx9yDJKk1uGNuvh7PSW92esv9M9Vw++eQT89tvv5lRo0ZVGUKHOpTy8+fPzZgxY8zevXtTh3TVwvWDfePGjbmHmJTy1q1bbdD5Pd188zZChe7hw4c2ON17FVYVBBUuLTpQQU8WoEJpzpcOBXXWcQAxSVkVvXqqii/FmavkNbyt2NI+yYpYFf7gwYNzPdt8Q5rFStmJWDF369YtM2XKFLNo0SLbY5Zw1cjX59pPaZRMxd27d3OLjpywv/32Wyu05L6OrPvMqpuy7rmm23zS6jJ1HPSZ7j2Zd/nqJCdl/VRvVb9rGNuvh7PSVBspK9/UQVLjyO+lQz1IOe1B+YVCD1pDvBpySQ5zJaWcHNJ2C0/Shr8cGmrRsI2Gf9wxOk+a0F0BKpTmfOn4xz/+kXkcQIw9ZVWo6tmoF+fiQUPOaVLWz2Ts6CWp1UTKQgJWz0+9U/UYT506ZUfI1GudOnWqlakbetZQsD+k6s4viU2aNMm0atXK9vzcAjOfrPtMLhL105+sA/w8ycqPrOOy8ir5WU2krPxas2aNFaSGnV09nJXe2khZaATiD3/4Q2Z9DvXcU9ZwtYLniy++sEO9yYeY1lNWT7eYVZ9CrV4NQ33zzTe5FqwrCLXtKaelo9BxADHOKe/fv98MHDjQTg8l4zatp6xGcr4pp5pIWcPPuoaGqpUu9WbHjx9vPv/889wxqvDVs1fvVnHrn9/vAat3rPiVmHVvPln3WZuecr78qG1PWfegvKmJlMWjR4/sVNz06dMr9ZTzpbc2UtawukY5dD3tU6h8QD3NKSsQJk6caNavX28Ls4aR9MB9KatguSDQUIoC69ChQzZ49PmXX35pC08aOv+AAQNskOn8Wtyg45We2swpZ6WDOWWIffX1yZMnTbdu3XKrr93XXhRDihX1sLTdl/L333+fGzZWTEpiikEds2LFCjvMWkjKWqSZ1iDXNTQPqSFoDVlrn2XLltlFV05U6j07Sem6mqd1c75O2IprHased5qUs+6zpnPKWflR0zllV1+pw+PmlGsiZaERg9///ve5EYGs9CafdXWkrLKkbbqG5Pz1118X3fkCU7PV1woSDSErULQSUK1aPSSJ0q2IVGtPD8q1OLVdD6hFixa5IY3kCkoNSWU9PB2n/TS8rKEYvVatWmW3qQBMmzbNbtOw1t///vdKq6/zpTkrHYWOA4jte8r+H4hQmVf5/+ijj3Ki1VytpqfUCE6u3tX+GhJ2Pcx8Uv7xxx/tvhqJ0ohUEsW0k5BQxd+nTx/bMBf6XFJ3q5MVl5q/lOh0H999911uVbXkroZHkqz7dMPj7dq1s9v//Oc/24aCS7/qC53X1UPalrb6OpkfWcdVZ/V1TaXshrGdlAulN/msi5GyOjVqFLk81/XdqAYE+mc20+Z4/a9RAUBYf9ELAAKWMgDUDuIXIFyQMkBkIGWAcEHKAJGBlAHCBSkDRAZSBggXpAwQGUgZIFyQMkBkIGWAcEHKAJGBlAHCBSkDRAZSBggXpAwQGUgZIFyQMkBkIGWAcEHKAJGBlAHCBSkDRAZSBggXpAwQGUgZIFyQMkBkIGWAcEHKAJGBlAEilDIv8oAyQBmgDFAGKANNGjwPUqUMAGFC/AKEC1IGiAykDBAuSBkgMpAyQLggZYDIQMoA4YKUASIDKQOEC1IGiAykDBAuSBkgMpAyQLggZYDIQMoA4YKUASIDKQOEC1IGiAykDBAuSBkgMpAyQLggZYDIQMoA4YKUASIDKQOEC1IGiAykDBAuSBkgMpAyQLggZYDIQMoA4VKvUt68ebOZN29enZwLAOKQcllZmenfv7+5f/9+jc+hY3UOnQv+j7t375oRI0aYZs2amSNHjmRmi7aPHDnSPHv2rM6zT+fUuQulAdJBygAlKOUHDx6Y3r17m23btjWoTOvqPEi5KsuWLbOdoBcvXhTMc6TceEHKACUo5f3795sOHTqY0aNHm6dPnxZ1XqTcuJGQNTqZBlKOWMp68NOmTTM9evSwv79+/dps2bLFtG7d2jRv3tzMnTs3F+T+8HXWfmq9zZw5037esmVLs3LlSru/uHHjhhk6dKgdktGxO3bsMBUVFXbb6dOnbWu/adOm9ufFixfzpluFsmfPnubatWv2/ZMnT8zgwYNti7EmadP5dM05c+aYdu3aMYwGwUhZPalx48aZb7/91gwbNsycOHGi0vZjx46Zzp075+Lq/PnzNpb13r0UN8nelt97VYweOHDAdOrUqUp85pN7WkyVl5eb5cuX29jz4y/ZU/brCV1T9yCy0uHHvY7T0K+GgEW+6/ro/vv06WMePnxo39+6dct89NFHmelO1lt+WgvVKcl6atSoUeb27du54WL3bLp27Vopb/M9uyFDhpglS5bY9NWkbs2Xfy49a9eutccWylvVt48fPzZXr141ffv2tfkoTp06ZXr16mXu3buXy2/dc30MuQcv5e7du5tffvnFim3nzp0242/evGlFNnHiRLNu3boqUs63nx7s7NmzzcKFC21loe2Spx7Ay5cv7X4bNmwwb968MefOnTNdunSxP/UA9bsCTufQMJwqmHytflcR7dq1y77XOVQA9MBrkjYFTNu2bc2aNWvsOZIBC9BYpazYGTBggK3QVc7nz5+fq4wvXLhgK0KJWmV63759dl8Ndxfqbfmi9GNVsasYdvtmSdmPqVevXtnKW715VdpK78CBA20v37+W0tavXz+zadMmm+bDhw/beNb+WelQpe/iXvGtOFe8Z13Xx11X5xHaLmmoDsl3vH5Xh0b1ltKj/HXiKVSnuHrq+vXrNr2Sni+p6vaUJcQ9e/bknrNLR7F1a7780z0rjyXiO3fu2PfDhw+3aVM5c3mj/NM5JWUdq/10P66RsmrVKvPOO+/k8lfD8/nuz5S6lDdu3Gh/f/78uRkzZozZu3dvbrsfqE7KWfvpoailKQELPTQ9JB3rpDhr1ixbmFWI3b5bt241M2bMyBXcYuaYVLjcMTq/KiO12mqSNl1HUnetP4BQpCwRK64UB5KVE5hQXKmMO0mrsj158qStMKsjZcWMYsedR71txYv2yZKyH1OqtPX+zJkzuX1cneJfS5W4Rr3USUguNMpKhxO25KP93L7alu+6Pjrn0qVLrTz0u+oT7ZeVbuW5rqG6TOheta/uI6tOSatDdZ1BgwblrlOb4Ws/P4utW/Pln+rN5EIvd/9peeP3kJWXeulZTpkyxTY8JGOlc8KECZWOi5UaSdk9+OSwiXupJ63Mdw+i0H4aelKrSkMybpu7hh6whn7ef/99O0yi4RIn1eT5F8gr/QAAIABJREFUNEziWllpuIevn5MnT7aFpqZpq6v5NYC6Jit+VaY//vjjXK/PlX+34GvRokV5vzFRnYrdDW22b9++yrBqlpT9z/VTxyRjU3JSBe6upXQk99FLcslKh0SqYdpPPvnEvPvuu3b4W/GedV3J0UcjCupF/vrrr/Y8Sk/W8eoESGJuekCvNm3a5KScr05JW9Gc/KyupFxs3Zov/9LSmtaYcvifqVc8duxYm6/qjF24cMHK+F//+pftRbupgpiplZRd6+3gwYOp+yZ7ymn7Sboq1N98802uZeau4XrG7nPNB2v4WIUj2aIvBjcc/tVXX9n5FA3V1DRtSBkaK1nxq4pSFWyy0lU8qLwn48qPwepU7JK+hmw1tCn8Y4uVshoQOod6t0mSPWU1nNOmrrLSoXS73rXub/369bYu+O233/JeN4nyRr301atXW5nonFnpVu9SDX5tUx7795FVp+TrKfvD53XZUy6mbs2Xf//5z3+q3VPWaI3qd+Wn5Kt5dTUUX758aeX85Zdfms8++6xa9X1JSlmoFapCqUKvAD506JDNTP3uD/nk208PSXNWKmx6sFpQoEKrY50U3fncnK6CUC0o7afzuG16cI8ePcq8YV1H8xT+PFpN0oaUobGSL37ddJCGXP3KTZWiyrWE4eaUVWkqFtSrUwxoSNUtRPIFp+FLrS/RuTXn+d5779nPtXZD84iKIfUONU/arVu3aklZ51y8eLGZPn26PY/eb9++3TagfYkobUqj6xlr3xUrVtjedFY6nLDd1JjmmyUV1Tv5rpuGm/t09WJWut08rASkz3fv3m06duxYUMrJOWUdq2lEf663kJT9Z5cl5WLr1nz5lyXl5JyynsmCBQty0ynaLvlqZMP1prdt22bz12+QxEytpZxcgeeGMLJWXyf3k2S1ClGfq7Wplwq6uHz5shWmW32t1li+VYyqQAq1pBSoH3zwQaUCU5O0IWVorOSLXyff5Nygmxt1snarr1XmtbrYrbxVBa55vhYtWth93DSSv4pW8ajzuwU8mvZRXGleUCuTFX/FSjm5Ulfn0jchtD1r9bU/zZWVDte7c3Gvekb1TdZ101ADRtNrfr7mO17X1HScyzOtflZHQ+coVKfkW33tyJJy8tllSbnYujVf/mUNX2etvnZIvm7kJu2bM7ET3Z/Z1APUHE1yeM4VCAWjWs5umT1AbIQcvyEioWreM/av6kDDEJ2Us3Atu+TwHUBMxBq/jRH1+v76179W6y+jAWRRMlLW/IWG7jQHw9eYIGZijN/GyKVLl+zcpxYiFftX0QAKUTJSBigViF+AcEHKAJGBlAHCBSkDRAZSBggXpAwQGUgZIFyQMkBkIGWAcEHKAJGBlAHCBSkDRAZSBggXpAwQGUgZIFyQMkBkIGWAcEHKAJGBlAHCBSkDRAZSBggXpAwQGUgZIEIp8yIPKAOUAcoAZYAy0KTB8yBVygAQJsQvQLggZYDIQMoA4YKUASIDKQOEC1IGiAykDBAuSBkgMpAyQLggZYDIQMoA4YKUASIDKQOEC1IGiAykDBAuSBkgMpAyQLggZYDIQMoA4YKUASIDKQOEC1IGiAykDBAuSBkgMpAyQLggZYDIQMoA4YKUASIDKQOEC1IGiAykDBAuDSrlFy9emMuXL5s3b97Uy/kBIAwpv4264NixY6ZTp06ma9eu5v79+3n3e/bsmRk5cqQ5cuRIvaSjrKzM9O/fPzMNULo0qU8pJwvf6dOnTY8ePczNmzfr5PwAUJV88at4bNOmjWnatGmVl0S1b98+06tXL3Pv3r1Kx926dctuP3HiRLB1wcOHD82AAQPsPVZUVFTZPm/ePLN582b7O1KGkpEyANQ/xcRvWmxKXH369DH79++vtO+uXbvMkCFDzNOnT4OtC3RdXV/pSAMpQ7BSVuGdNm2abeXq9/LycrN8+XLTsmVL07x5czN37lwbvGp1+i1xDQX5gan3CvQlS5bYY1u3bm127NhhW7F6HThwwLRr186ec9KkSbayqK/hJICYqKmUxbp168zs2bPN69evc8PM48aNM9u2bWv0dYF/fb10/cePH1cZIVBaHbq+RgHcNg1b6zP9XLt2rendu7dp1qyZGTFihLl7927qdVauXJnLL58bN26YoUOH2uP9e1J6+vbta1avXm0/T57DP659+/Y27zXMr5GKYcOGmSdPnuQaS0qnevZC+Tx//vzUkQCIXMrdu3c3v/zyiy0cCuLRo0fbwq/X8OHDc8NAycBPBqIK4549e2xh9IfOrl69agPl8OHDtjAqKLUvUgaoflBXR8r6/KOPPrJD1kKxKDHpZ2OuCyQiiVLXf/DggW0MSMoLFy6056xJT1kivnPnTqV78a+jz2/fvm0GDhxYZXTh5cuXZuLEiWbDhg023efOnTNdunSxP5WGtm3bWumr0XP27Fm7TZ8r7f369TMbN2606da8u/L/4MGDNj8GDRpkLl26ZLfNmDHDdOjQwVy7ds1eb/LkydSRpSplFRiHgtG11IS2uZZooUD0W3l+0GzdutUWaBU0t02BiZQBqh/U1ZGy6xmrFyYkIr/n3FjrAslMvc8zZ87kPpPQ9ZkaGLUdvtY27ZN2HbfNR/mlfJs1a5YVt8Ss6QHdRzIv/OtpMdrgwYNzvWGhnrIErGejn3v37rX3NGXKFLNo0SL7rCRsNRxcYwpKTMqu8AoVLBU8tV6Tw0M1DcRkIUfKADUP6urO8arSl5i1TcOlyV5gY6wL0qTrf1ZXUk4Od7vXmDFjzPPnzyudU711DUu///77dph6y5YtVtZZUk7mhfA/k4A1RK3RBPXYT506ZeV//PhxM3Xq1FzjBUpUyq41+MUXX9h5FuEHUU0DUQVPLULXOkfKADUP6upKWT07rVTeuXOn7bWpd9jY64J8PWUN/Wp4ty57yhquPn/+fGb+up6xS7fS0LNnT9sTrklP2Y0W6DzaV0PVmmPWNcaPH28+//zzSg0kKFEpu3mT9evX28KnYNY8jB+ICgr3tYdiA1HBpLkq5pQBah/U1ZWy5k2XLl1q/vCHP5hVq1YFURck55TVMFiwYEFu6L0YKatXq/NkSVnnWrx4sZk+fbq9jt5v377dzvkme8kaZXCLtHTfxUg5Oad8/fp1m29utEL7jho1yi6u05C10rts2TLbE/cbJFDCw9cXL160hUZDOGqpartr2aoAad6jRYsWVQpjViCqoB09etR+0V8rLhXcWj3JnDJA9YO6Jl9R0rCoFiNpYVIodUG+1dfJc6bx448/WrFpGPo///lPXiknr6M0zZw5MzUftUhLvV63+to1WLKknLX62qGGkj/Pr+O0Il29ZgifRvtnNv2FJSq8CvJCQ0YA0Djity6hLoBSolFKWUM9ahG7P8O3adMmO6STb24LAP5/3nb81iXUBVBqNEopuz8YoCErDeFoaEZDYwBQmLcdv3UJdQGUGo1SygBQc4hfgHBBygCRgZQBwgUpA0QGUgYIF6QMEBlIGSBckDJAZCBlgHBBygCRgZQBwgUpA0QGUgYIF6QMEBlIGSBckDJAZCBlgHBBygCRgZQBwgUpA0QGUgYIF6QMEBlIGSBckDJAZCBlgAilzIs8oAxQBigDlAHKQJMGz4NUKQNAmBC/AOGClAEiAykDhAtSBogMpAwQLkgZIDKQMkC4IGWAyEDKAOGClAEiAykDhAtSBogMpAwQLkgZIDKQMkC4IGWAyEDKAOGClAEiAykDhAtSBogMpAwQLkgZIDKQMkC4IGWAyEDKAOGClAEiAykDhAtSBogMpAxQwlI+cuSIGTlypHn27JmpL968eWMuX75sXrx4UW/XAIiFty3lsrIy079/f3P//v2C+27evNnMmzevXtOjekP1h+qRuuL27dtF3V9jSnMpUFaNsleX3L1714wYMcI0a9bMOjE6KetcOqe7uZs3b5oePXqY06dP19k1AGIlX/yqwmrTpo1p2rRplVfXrl0zK7JkTDZmKSevr3pD9Yfqkbrg1atXZsaMGWblypWmvqirNCtvlcelQtlbkvKyZctsXtdFxzEIKQNA8RQTv9WtvEKWcimDlMPL52pLuby83CxcuNA0b97cdOrUycyaNSsn5WTCfGHr9z59+phx48aZbt26mXv37pkDBw7Yc6il3rt3b3Px4sUqrXmdU8GlINM2cePGDTN06FA7VNC+fXuzbds2O8zjKo61a9fa82m7hhQ0tABQKtRUyq9fvzZbtmwxrVu3tvE9atQoO0ybFpOuN6c402eK42PHjuU9t0OfjR071samjtXvOl+a9H1h6+e0adNs71G/qx5avny5admypU3r3LlzzdOnT+0x/giAzpfWc3bp7ty5szl69KipqKiw+/Xt29esXr3a5oHOrd6w8iWJX9fp9yVLluSGL11dlnaMXq7u0n7Ks5kzZ+bq07Q8zEpX8t5cPv7v//6vHf1w+eDqYT/f/PPo/tPq4zSy8k+fz5kzx7Rr1y5XX/v3ny+fkp07v84/cuSIGTBggPnss89smpUH33zzjfn6669T80Pn1T2mPUPfHcn8zkp7vthw+V3siFO9SFkFcciQIebOnTv2AS9YsKBoKSuDdu3aZR48eGDOnj1runTpYs6dO2eFumHDhty+yQD1H5CO7devn9m4caPNKM27KDMPHjyYO04PXel7/PixGT58eEkN3wDUVMo7d+60sXT9+nU7DKfGrSqftJhUhSRBqiJX/O7bt8/06tXLNrbzSVnxqga9JCSBKpZHjx5dtJS7d+9ufvnlF/PkyROzbt06e6xiPBnnyev7769evWrrHaVX6Tlx4oQ9r/bRq23btva+df+ujkpW0GlS1jncuhe9nz9/vhVV8hhXd7r91NiR5JSWPXv2mMGDB9v7S0o5X7rySdnlo59OpUeycvmmZzhw4ECzf/9+c+3aNdOzZ097bj3PTZs2mWHDhtnn5FNM/q1Zs8aWg2RjJiufCkm5TZs25vjx47my9s4775j169fbayhNSvuZM2dyaVD6te+lS5fsNvnBuUPbdNzhw4dteXcNz6y0Z8VGMp9rS7Wk/Pz5czNmzBizd+/e3Gd+ZhaSsgLHPeSXL1+ahw8f5gru+fPnbWtQDyNLymrZuILrUE9ZczwqaFmBDVAK1ETKabGtSmzQoEG2skvGpCotxa9biKTRKMVvmij882kfnS8Zn8VIWQ1xh+LfnzLTNrdvlpS3bt1q6wpX6ar+Wbp0qVm1alVBwfkkpZyv3st3jJAo/P2SIk77PZmu6kg5K/9dI+vbb7+1dXTy+ToK5Z/On29kspAfsqQ80tvml7VC+SGUNjUGk+5IHpcv7YViI+3eGkzKaYW0OlL2M9YNB2j4Odn1z5JyWoF3n2k/pAylTk2knBbb/mfJ7W64U8OXLn7Vm8mScnIaqrpS9usWnUtTZxp9Sw6rZ0k5rZHuPmtoKSf3q28pax9/SNu9JByJRz3OSZMmmVatWtleYdrC2urkX1ae1UbK9xPlqJCUXfq0PW2RoxoaWWkvFBtp9xZMT9nPWA2ZaOjErS70M6UmPeWJEyfalh1ShlKnLnvKGu47depUlZjUtJOGIjXCJUH7MVpfPWVXt6hBP3v2bPPFF1/YKbTkvjXpKWv1bOxSVv6rztUzS+KPXKp3rHIgMesYn+rkX1aeNaSUV3k9ZU1tJofkk3mfpFBspN1bo5lT1jZ3048ePbJzR/kyXXPLGs7Wzek8GsvXAjBfyt9//33BOWWN8avwSPKFAhugFKiLOWXFlmLMzSsmY1KVkfbVXKT23b17t+nYsWOmlLPmlFW5a35RL+2n4VTVM2lSlkDUCHdzitpX9Y4vZaUtrcGfnBNVA8GtbQlRypr/1Fy+m9v/8ccf7YiFL2UtdFL+6n4XL15spk+fbvNe77dv326H0V0j68KFC3Zf5U+alKuTf1l5lrx/HavzaM2Azquy+N5779VIypobdn7w55Q1NK0FY2pYaJvubcWKFebWrVsF054VG2n31uCrr9Uq0go0rUTTarrJkyfbjPnPf/5jxo8fn1vZ5gs7mbG6Ga2YdOfROT/66CObQUJzGxqaUhBXd/U1UoZSpq5XXzv8mNS+quzdKl7VA/5im6zV11pFrdjV0Pff//73nEx//fVX25N2q3+1X77ha63adSuAdYy2ux6c6oEpU6aYFi1a2N5RdVZfhyZlIUG6Z6bhZ33LxW2TpLXNDVEnV62rgaTz6v6/++673OprzS+fPHkytewUm39ZeZa8fz03bXPlSW7QNcpqIOXk6uv//u//Tl19re0q72mr2JMUio23KmUAaNwQvwDhgpQBIgMpA4QLUgaIDKQMEC5IGSAykDJAuCBlgMhAygDhgpQBIgMpA4QLUgaIDKQMEC5IGSAykDJAuCBlgMhAygDhgpQBSkjK+otF7v/3Fvu/ZrP+167/l46S/788+b979Vea9J/chP76kv6Mpv4SmPsfuTt27Mj9Och85wSIHaQMUEJS1p+z1Z8E1P+E1d+Gdn83Put/zervGuf73+fub2DrXDqn/gSn/lnEq1evcv+7V+d2f1bX/YlO9//V9T+E9d7/f8z5zpn8H7cAMYKUAUpIyuvWrbN/SP/KlStWsO7/Emf9r9ms/33uhK2etPZz+2pb8j9C6Z8Z6DP9ffusv2ec75zu+gAxg5QBSkjK6nnqH7joP7K9++67tjerYeas/zWb9b/PJUr9g4JPPvnEnk/D3xoGT/vfycX+O7585wQoBZAyQIlIWbJTj1M9T6FhZf37VIk363/NFvrf5653LXnr3ynqPxL99ttvqT1l9+8es6Sc75z6L0cAsYOUAUpEyhKc5mbVO1aPWYuunJSz/tds1v8+d8LW3LObb5ZA3SIvN6fs/ve6mxvOknK+cyJlKAWQMkAJDV9Lvvr/52719aJFi3K943z/azbrf5+7nqxbKa156cuXLxe1+jqflLPOCRA7SBkgMvieMkC4IGWAyEDKAOGClAEiAykDhAtSBogMpAwQLkgZIDKQMkC4IGWAyEDKAOGClAEiAykDhAtSBogMpAwQLkgZIDKQMkC4IGWAyEDKAOGClAEiAykDhAtSBogMpAwQLkgZIDKQMkC4IGWAyEDKAOGClAEiAykDRChlXuQBZYAyQBmgDFAGmjR4HqRKGQDChPgFCBekDBAZSBkgXJAyQGQgZYBwQcoAkYGUAcIFKQNEBlIGCBekDBAZSBkgXJAyQGQgZYBwQcoAkYGUAcIFKQNEBlIGCBekDBAZSBkgXJAyQGQgZYBwQcoAkYGUAcIFKQNEBlIGCBekDBAZSBkgXJAyQGQgZYBwQcoAkYGUAUpIyps3bzbz5s2zv9+/f9/cvn27XhPoXy8fSoPSAgBIGaBkpbxy5UozY8YM8+rVq8yLHDlyxIwcOdI8e/aszqWsaysNSgsAFJbyjRs3zIgRI0zz5s3tS7/rMwAIXMrFUp9SBoDKZMXvzZs3Tffu3c3WrVvN69evzYsXL8zatWtNv379zIMHD8hKgJClnBzKnjlzpm15t2zZ0vZcFfTa3rRpU/tq06aNKSsrs59v2bLFtG7d2u4/d+5c8/Tp09x5xo4da5o1a2Z69+5tfy8kZW1XWiR9yV+VjI7VOdQLuHv3bu1zCiAQCsXv1KlTbQw6FHtTpkwxP/30k32vXvPQoUNt/HTq1MkcO3bMfq7Y7du3r1m9erWNXT/OtU0xN2fOHNOuXTv7vry83Cxfvtzu5+8LAA0g5WXLltnf1fJWa1wBun///tSe8s6dO+127acKYeLEiWbdunU2YBcuXGjlrs/Vch89enS1pSwR37lzxzx+/NgMHz7cbgMoFbLiV7GycePGvNsVc+o1b9q0ycbj4cOHbaxq3YZE27ZtW9voVZyfPXvWdOnSxX7utq1Zs8bcu3fPTitJyIpfxaGOHzhwYK5OAIB6lrKkOmzYMHPlyhXz5s0b8+TJk5yEfSk/f/7cjBkzxuzduzd3Trf91q1btiV+5syZ1OsVK2WdrzrHA5SSlF0jVaNSXbt2zY1kKW7UKx48eLCNX+HHlMTbv3//3KLK5DbFrhuVktxrEssApU6TupKyWs7btm0z3bp1M++++65tJWv4KillF8iuInAvzXNdvnzZBr0CPO16+UDKAPmDulBP2ZerXsnY1Etz0IWk7G9LCt+91CBXwxwA6lHKFRUV5uHDh+bly5e5VrKGjRXI+XrKBw8erHLumraukTJA/qD2UcN53LhxthHt8OWqnrKmf9waD5/qSFmxrOHq8+fP82gAGlrKmnuaPXu27R0r2N1cri9lBajELbTIS0NkmlPWUPehQ4dsZSGp18WcMsPXUMpkxa+Glz/++GM796uRLDWoL1y4YEe4JGRtHzBgQG51tmJwxYoVdmqpOlLWsYsXLzbTp0+359D77du3pzbGAaAehq8VzJMnT86tvl60aFGuta1tgwYNsgtBLl26VGn1tVZ4aqWn+56kgnratGn2886dO5u///3vSBmgDr+nrEWQs2bNsnGqOJOQ9+3bZxvIydXXilHFqlthXayUhb/6WvWCGtv8kR+ASP7MphoAaXNdfq8YABpn/AJAZFIGgOIgfgHCBSkDRAZSBggXpAwQGUgZIFyQMkBkIGWAcEHKAJGBlAHCBSkDRAZSBggXpAwQGUgZIFyQMkBkIGWAcEHKAJGBlAHCBSkDRAZSBggXpAwQGUgZIFyQMkBkIGWAcEHKAJGBlAHCBSkDRAZSBggXpAwQGUgZIEIp8yIPKAOUAcoAZYAy0KTB8yBVygAQJsQvQLggZYDIQMoA4YKUASIDKQOEC1IGiAykDBAuSBkgMpAyQLggZYDIQMoA4YKUASIDKQOEC1IGiAykDBAuSBkgMpAyQLggZYDIQMoA4YKUASIDKQOEC1IGiAykDBAuSBkgMpAyQLggZYDIQMoA4YKUASIDKQOES5BSvn37trl//361j3vx4oW5fPmyefPmTb2kC6AxUNP4LSsrM/37969RbJUyyi/lm/Kvoa6nOrC6UP9FKuXNmzebpk2b2lezZs1M7969zcGDB01FRUX9p9YY8+rVKzNjxgyzcuXKalcyp0+fNj169DA3b95sgJQCvB3yxa/ioU2bNrn49V9du3Y1J06cQMoBSFl1n+pA1YVZPHv2zIwcOdIcOXLEvqf+i1jKetB64Opxnj9/3opu586dprFByx9KkWJ6ymmxQbyEIeViSUoZSkDKDrWw+/XrZx48eJBrkakHrRa4fl68eDFXeGfOnGmaN29uWrZsaVt8r1+/ttuePn1q/vKXv9jP3TYNt6ig6xxz5swx7dq1s+/nzZtn0+EK3YIFC0ynTp1sz33s2LH2On6PXi8VzLSes0tn586dzdGjR22PX/v17dvXrF692rRu3bpKWgFilXJWub9x44YZOnSojTPF27Fjx6qcV/Fz4MABuz0Z/4pBv+7wZaZtAwYMMJ999pm9rq7/zTffmK+//rpKWlydsHz58krbfvjhB3td1S9z5861dUpWvZOsW3R8z549zbVr1+xxT548MYMHD64iNd2j9nXXVq+1e/fuOSnnyyddc8uWLfY4bRsxYoS5e/dutes/1W2qA4V+Tps2LVeP6fkp/clREe2XfOZ+Otu3b2+2bdtmO1quXl27dq09bzKtEICU/eC6evWq6dKliw1MFUI96GHDhtlCt2zZMls4VNg0hKwHvn//frvf4sWLc4EkuY8ePdoeq3O2bdvWrFmzxty7d8/um5SyAk7HPX782B63dOnSnFz9Qui/d+nct2+fPacaFi6w3DVVKJXWs2fP2n0bW0sYoK6lnK/cKybV8N60aZONl8OHD9v4Tc5tSggSm45VBa/9XfwXkrIkcvz4cXuc4vKdd94x69evt9dTvOq8Z86csfu/9957Zvfu3XZfXUvH/vWvfzXl5eX2vH/605/M3r177bGzZ882CxcuzNU7Oo9rpPt1i9I1btw4s2vXLpu+c+fOWclpWzLvlC9Kq86vtHbs2LFgPp06dcr+rjQoLUqT0qbfq1P/JaU8ZMgQc+fOndw5dQ/6PdlT9p+5S+fGjRvtObXWxk1FuuMkYp1X9erw4cPtdSEgKUtoEtvWrVtty9G1rv3AW7dunQ3QK1eu2GBSS1TnUQEZOHCgHQr3g/uXX37Jtd79VlpSyn5LVkGr1u3Dhw8zpZxMpyQuma9atarKcQwDQSkOX/vlXr09xZViNrnNR/LRdNa3335rBaP4Uiwq3gtJ2d+meFfcu4awf71kOnUdScNPi6sjFNe6/suXL+3nei/5aVta3SIRunpB+8yfP7/KepmsOi4rnyR512FRevRS2nR8deq/pJR9Wd66dcumRcdnSTmZTv/eJeHks/WvCYH1lJPDxm5BmAqBWm968N26dTPvvvuuHX5Sy1aS9od/ClUeWVL298+Sclohc58hZQiZ+pCyXmkLxCSoJOrVTpo0ybRq1cr2vjRNJKoj5eQ8bZaU0+oBX1YaplWvT8PXLt1Oysk8UNolQf2cPHly6nxssu5I3ke+fJLclReffPKJrf80dKy0Vbf+y5Kyn5YsKSfz238+2o6U3x51PqeswqeWaLJ1mWyxal+1brV/Wk9Z51crrrpSrm1PWUPsSBlCpr56yhKbm6fNh+v9KZ7UO9YQssSsGH8bUlZ6NTqn+WkX625bWh4o/RMnTjRfffWVHRZODl0X01POl0+uThM6VkPzY8aMMb/99lu16r/67Cnr3vX8kHLAq69Pnjxpe75u9fWFCxdsq+/QoUN2u+ZPvvzySxuUmj9R71g9ZjdPoQLu5pS1YEs9Z21TYdWiiGKk7OZi3JyyruHmlN0cTqE5Zclc7zXEhJQhZOpDyho+1UIsF6+K5xUrVlgJ+Ch+FP+qBxSDii8nZTcXq2FZnUN1huaG61PKEozS7eaXtehM6csnZaF9NZ+dNnRdaE45K5+0fkby1RC/6sYNGzbYek51V3Xqv6SU3dxY+pj+AAABp0lEQVSvm1NWD9+fU/7+++8Lzilfv349t8YnLT8Zvg78e8r+qmatPtQcirarwKrAuFWQixYtyrUo/dWHGvbS3K5bIVlIyv7qa61E9IN1ypQppkWLFrZlWJ3V18wpQ6jUh5STq3W1gljSSH4jQfHz3Xff5VZfa35ZDXfh5mndCmM1phV/9T18rdj3v52hV9raEYcE+sEHH+T9KpFbYa7V0KrL/vznP5tRo0alrr7288n1jt3qa/VUtcCquvVf1uprnVPXd2huX+eUrKu7+hopvx2C/IteDhZgAVQllPhtrEjKGsVLG7pubCSHryF8kDJAZCDlmuN6s+5rlY0dpBwfSBkgMpByzdA8q+abtTAslD+UgZTjI2gpA0BViF+AcEHKAJGBlAHCBSkDRAZSBggXpAwQGUgZIFyQMkBkIGWAcEHKAJGBlAHCBSkDRAZSBgiX/699OzgBAARiIHj9N60F+FcTZsAGjsC+HF+ioIsoQy5RhjKiDLlEGcqIMuQSZSgjypBLlKGMKEMuUYYyogyFUfbcwAZswAZswAbm+g2OKAMA74kyAKw/bAK+XNHDwfifAAAAAElFTkSuQmCC)"
      ],
      "metadata": {
        "id": "pC0YcEGTys8W"
      }
    },
    {
      "cell_type": "markdown",
      "source": [
        "# **General Guidelines** : -  "
      ],
      "metadata": {
        "id": "mDgbUHAGgjLW"
      }
    },
    {
      "cell_type": "markdown",
      "source": [
        "1.   Well-structured, formatted, and commented code is required.\n",
        "2.   Exception Handling, Production Grade Code & Deployment Ready Code will be a plus. Those students will be awarded some additional credits.\n",
        "     \n",
        "     The additional credits will have advantages over other students during Star Student selection.\n",
        "       \n",
        "             [ Note: - Deployment Ready Code is defined as, the whole .ipynb notebook should be executable in one go\n",
        "                       without a single error logged. ]\n",
        "\n",
        "3.   Each and every logic should have proper comments.\n",
        "4. You may add as many number of charts you want. Make Sure for each and every chart the following format should be answered.\n",
        "        \n",
        "\n",
        "```\n",
        "# Chart visualization code\n",
        "```\n",
        "            \n",
        "\n",
        "*   Why did you pick the specific chart?\n",
        "*   What is/are the insight(s) found from the chart?\n",
        "* Will the gained insights help creating a positive business impact?\n",
        "Are there any insights that lead to negative growth? Justify with specific reason.\n",
        "\n",
        "5. You have to create at least 15 logical & meaningful charts having important insights.\n",
        "\n",
        "\n",
        "[ Hints : - Do the Vizualization in  a structured way while following \"UBM\" Rule.\n",
        "\n",
        "U - Univariate Analysis,\n",
        "\n",
        "B - Bivariate Analysis (Numerical - Categorical, Numerical - Numerical, Categorical - Categorical)\n",
        "\n",
        "M - Multivariate Analysis\n",
        " ]\n",
        "\n",
        "\n",
        "\n",
        "\n",
        "\n",
        "6. You may add more ml algorithms for model creation. Make sure for each and every algorithm, the following format should be answered.\n",
        "\n",
        "\n",
        "*   Explain the ML Model used and it's performance using Evaluation metric Score Chart.\n",
        "\n",
        "\n",
        "*   Cross- Validation & Hyperparameter Tuning\n",
        "\n",
        "*   Have you seen any improvement? Note down the improvement with updates Evaluation metric Score Chart.\n",
        "\n",
        "*   Explain each evaluation metric's indication towards business and the business impact pf the ML model used.\n",
        "\n",
        "\n",
        "\n",
        "\n",
        "\n",
        "\n",
        "\n",
        "\n",
        "\n",
        "\n",
        "\n",
        "\n",
        "\n",
        "\n",
        "\n",
        "\n",
        "\n",
        "\n"
      ],
      "metadata": {
        "id": "ZrxVaUj-hHfC"
      }
    },
    {
      "cell_type": "markdown",
      "source": [
        "# ***Let's Begin !***"
      ],
      "metadata": {
        "id": "O_i_v8NEhb9l"
      }
    },
    {
      "cell_type": "markdown",
      "source": [
        "## ***1. Know Your Data***"
      ],
      "metadata": {
        "id": "HhfV-JJviCcP"
      }
    },
    {
      "cell_type": "markdown",
      "source": [
        "### Import Libraries"
      ],
      "metadata": {
        "id": "Y3lxredqlCYt"
      }
    },
    {
      "cell_type": "code",
      "source": [
        "# Import Libraries\n",
        "\n",
        "# Data Maipulation Libraries\n",
        "import numpy as np\n",
        "import pandas as pd\n",
        "import datetime as dt\n",
        "\n",
        "# Data Visualisation Libraray\n",
        "import matplotlib.pyplot as plt\n",
        "from wordcloud import WordCloud, STOPWORDS\n",
        "import seaborn as sns\n",
        "%matplotlib inline\n",
        "\n",
        "# libraries used to process textual data\n",
        "import string\n",
        "string.punctuation\n",
        "import nltk\n",
        "nltk.download('punkt')\n",
        "import re\n",
        "from nltk.corpus import stopwords\n",
        "from nltk.stem import WordNetLemmatizer\n",
        "from nltk.tokenize import word_tokenize\n",
        "from nltk.tokenize import TweetTokenizer\n",
        "from sklearn.feature_extraction.text import CountVectorizer\n",
        "from sklearn.feature_extraction.text import TfidfVectorizer\n",
        "from sklearn.decomposition import PCA\n",
        "from sklearn.preprocessing import StandardScaler\n",
        "\n",
        "# libraries used to implement clusters\n",
        "from sklearn.metrics import silhouette_score\n",
        "from yellowbrick.cluster import SilhouetteVisualizer\n",
        "from sklearn.metrics.pairwise import cosine_similarity\n",
        "from sklearn.cluster import AgglomerativeClustering\n",
        "from sklearn.cluster import KMeans\n",
        "from scipy.cluster.hierarchy import dendrogram\n",
        "\n",
        "# Library of warnings would assist in ignoring warnings issued\n",
        "import warnings;warnings.filterwarnings('ignore')\n",
        "import warnings;warnings.simplefilter('ignore')"
      ],
      "metadata": {
        "id": "M8Vqi-pPk-HR",
        "colab": {
          "base_uri": "https://localhost:8080/"
        },
        "outputId": "d512766d-6d08-44e5-af4f-5b818346e9ef"
      },
      "execution_count": 91,
      "outputs": [
        {
          "output_type": "stream",
          "name": "stderr",
          "text": [
            "[nltk_data] Downloading package punkt to /root/nltk_data...\n",
            "[nltk_data]   Package punkt is already up-to-date!\n"
          ]
        }
      ]
    },
    {
      "cell_type": "markdown",
      "source": [
        "### Dataset Loading"
      ],
      "metadata": {
        "id": "3RnN4peoiCZX"
      }
    },
    {
      "cell_type": "code",
      "source": [
        "# Load Dataset\n",
        "df = pd.read_csv('/content/NETFLIX MOVIES AND TV SHOWS CLUSTERING.csv')"
      ],
      "metadata": {
        "id": "4CkvbW_SlZ_R"
      },
      "execution_count": 92,
      "outputs": []
    },
    {
      "cell_type": "markdown",
      "source": [
        "### Dataset First View"
      ],
      "metadata": {
        "id": "x71ZqKXriCWQ"
      }
    },
    {
      "cell_type": "code",
      "source": [
        "# Dataset First Look\n",
        "df.head()"
      ],
      "metadata": {
        "id": "LWNFOSvLl09H",
        "colab": {
          "base_uri": "https://localhost:8080/",
          "height": 327
        },
        "outputId": "e804c062-6773-4868-9d21-9de126690a2f"
      },
      "execution_count": 93,
      "outputs": [
        {
          "output_type": "execute_result",
          "data": {
            "text/plain": [
              "  show_id     type  title           director  \\\n",
              "0      s1  TV Show     3%                NaN   \n",
              "1      s2    Movie   7:19  Jorge Michel Grau   \n",
              "2      s3    Movie  23:59       Gilbert Chan   \n",
              "3      s4    Movie      9        Shane Acker   \n",
              "4      s5    Movie     21     Robert Luketic   \n",
              "\n",
              "                                                cast        country  \\\n",
              "0  João Miguel, Bianca Comparato, Michel Gomes, R...         Brazil   \n",
              "1  Demián Bichir, Héctor Bonilla, Oscar Serrano, ...         Mexico   \n",
              "2  Tedd Chan, Stella Chung, Henley Hii, Lawrence ...      Singapore   \n",
              "3  Elijah Wood, John C. Reilly, Jennifer Connelly...  United States   \n",
              "4  Jim Sturgess, Kevin Spacey, Kate Bosworth, Aar...  United States   \n",
              "\n",
              "          date_added  release_year rating   duration  \\\n",
              "0    August 14, 2020          2020  TV-MA  4 Seasons   \n",
              "1  December 23, 2016          2016  TV-MA     93 min   \n",
              "2  December 20, 2018          2011      R     78 min   \n",
              "3  November 16, 2017          2009  PG-13     80 min   \n",
              "4    January 1, 2020          2008  PG-13    123 min   \n",
              "\n",
              "                                           listed_in  \\\n",
              "0  International TV Shows, TV Dramas, TV Sci-Fi &...   \n",
              "1                       Dramas, International Movies   \n",
              "2                Horror Movies, International Movies   \n",
              "3  Action & Adventure, Independent Movies, Sci-Fi...   \n",
              "4                                             Dramas   \n",
              "\n",
              "                                         description  \n",
              "0  In a future where the elite inhabit an island ...  \n",
              "1  After a devastating earthquake hits Mexico Cit...  \n",
              "2  When an army recruit is found dead, his fellow...  \n",
              "3  In a postapocalyptic world, rag-doll robots hi...  \n",
              "4  A brilliant group of students become card-coun...  "
            ],
            "text/html": [
              "\n",
              "  <div id=\"df-bbeae6ad-d271-4e4b-b19c-86ad8d65f51e\" class=\"colab-df-container\">\n",
              "    <div>\n",
              "<style scoped>\n",
              "    .dataframe tbody tr th:only-of-type {\n",
              "        vertical-align: middle;\n",
              "    }\n",
              "\n",
              "    .dataframe tbody tr th {\n",
              "        vertical-align: top;\n",
              "    }\n",
              "\n",
              "    .dataframe thead th {\n",
              "        text-align: right;\n",
              "    }\n",
              "</style>\n",
              "<table border=\"1\" class=\"dataframe\">\n",
              "  <thead>\n",
              "    <tr style=\"text-align: right;\">\n",
              "      <th></th>\n",
              "      <th>show_id</th>\n",
              "      <th>type</th>\n",
              "      <th>title</th>\n",
              "      <th>director</th>\n",
              "      <th>cast</th>\n",
              "      <th>country</th>\n",
              "      <th>date_added</th>\n",
              "      <th>release_year</th>\n",
              "      <th>rating</th>\n",
              "      <th>duration</th>\n",
              "      <th>listed_in</th>\n",
              "      <th>description</th>\n",
              "    </tr>\n",
              "  </thead>\n",
              "  <tbody>\n",
              "    <tr>\n",
              "      <th>0</th>\n",
              "      <td>s1</td>\n",
              "      <td>TV Show</td>\n",
              "      <td>3%</td>\n",
              "      <td>NaN</td>\n",
              "      <td>João Miguel, Bianca Comparato, Michel Gomes, R...</td>\n",
              "      <td>Brazil</td>\n",
              "      <td>August 14, 2020</td>\n",
              "      <td>2020</td>\n",
              "      <td>TV-MA</td>\n",
              "      <td>4 Seasons</td>\n",
              "      <td>International TV Shows, TV Dramas, TV Sci-Fi &amp;...</td>\n",
              "      <td>In a future where the elite inhabit an island ...</td>\n",
              "    </tr>\n",
              "    <tr>\n",
              "      <th>1</th>\n",
              "      <td>s2</td>\n",
              "      <td>Movie</td>\n",
              "      <td>7:19</td>\n",
              "      <td>Jorge Michel Grau</td>\n",
              "      <td>Demián Bichir, Héctor Bonilla, Oscar Serrano, ...</td>\n",
              "      <td>Mexico</td>\n",
              "      <td>December 23, 2016</td>\n",
              "      <td>2016</td>\n",
              "      <td>TV-MA</td>\n",
              "      <td>93 min</td>\n",
              "      <td>Dramas, International Movies</td>\n",
              "      <td>After a devastating earthquake hits Mexico Cit...</td>\n",
              "    </tr>\n",
              "    <tr>\n",
              "      <th>2</th>\n",
              "      <td>s3</td>\n",
              "      <td>Movie</td>\n",
              "      <td>23:59</td>\n",
              "      <td>Gilbert Chan</td>\n",
              "      <td>Tedd Chan, Stella Chung, Henley Hii, Lawrence ...</td>\n",
              "      <td>Singapore</td>\n",
              "      <td>December 20, 2018</td>\n",
              "      <td>2011</td>\n",
              "      <td>R</td>\n",
              "      <td>78 min</td>\n",
              "      <td>Horror Movies, International Movies</td>\n",
              "      <td>When an army recruit is found dead, his fellow...</td>\n",
              "    </tr>\n",
              "    <tr>\n",
              "      <th>3</th>\n",
              "      <td>s4</td>\n",
              "      <td>Movie</td>\n",
              "      <td>9</td>\n",
              "      <td>Shane Acker</td>\n",
              "      <td>Elijah Wood, John C. Reilly, Jennifer Connelly...</td>\n",
              "      <td>United States</td>\n",
              "      <td>November 16, 2017</td>\n",
              "      <td>2009</td>\n",
              "      <td>PG-13</td>\n",
              "      <td>80 min</td>\n",
              "      <td>Action &amp; Adventure, Independent Movies, Sci-Fi...</td>\n",
              "      <td>In a postapocalyptic world, rag-doll robots hi...</td>\n",
              "    </tr>\n",
              "    <tr>\n",
              "      <th>4</th>\n",
              "      <td>s5</td>\n",
              "      <td>Movie</td>\n",
              "      <td>21</td>\n",
              "      <td>Robert Luketic</td>\n",
              "      <td>Jim Sturgess, Kevin Spacey, Kate Bosworth, Aar...</td>\n",
              "      <td>United States</td>\n",
              "      <td>January 1, 2020</td>\n",
              "      <td>2008</td>\n",
              "      <td>PG-13</td>\n",
              "      <td>123 min</td>\n",
              "      <td>Dramas</td>\n",
              "      <td>A brilliant group of students become card-coun...</td>\n",
              "    </tr>\n",
              "  </tbody>\n",
              "</table>\n",
              "</div>\n",
              "    <div class=\"colab-df-buttons\">\n",
              "\n",
              "  <div class=\"colab-df-container\">\n",
              "    <button class=\"colab-df-convert\" onclick=\"convertToInteractive('df-bbeae6ad-d271-4e4b-b19c-86ad8d65f51e')\"\n",
              "            title=\"Convert this dataframe to an interactive table.\"\n",
              "            style=\"display:none;\">\n",
              "\n",
              "  <svg xmlns=\"http://www.w3.org/2000/svg\" height=\"24px\" viewBox=\"0 -960 960 960\">\n",
              "    <path d=\"M120-120v-720h720v720H120Zm60-500h600v-160H180v160Zm220 220h160v-160H400v160Zm0 220h160v-160H400v160ZM180-400h160v-160H180v160Zm440 0h160v-160H620v160ZM180-180h160v-160H180v160Zm440 0h160v-160H620v160Z\"/>\n",
              "  </svg>\n",
              "    </button>\n",
              "\n",
              "  <style>\n",
              "    .colab-df-container {\n",
              "      display:flex;\n",
              "      gap: 12px;\n",
              "    }\n",
              "\n",
              "    .colab-df-convert {\n",
              "      background-color: #E8F0FE;\n",
              "      border: none;\n",
              "      border-radius: 50%;\n",
              "      cursor: pointer;\n",
              "      display: none;\n",
              "      fill: #1967D2;\n",
              "      height: 32px;\n",
              "      padding: 0 0 0 0;\n",
              "      width: 32px;\n",
              "    }\n",
              "\n",
              "    .colab-df-convert:hover {\n",
              "      background-color: #E2EBFA;\n",
              "      box-shadow: 0px 1px 2px rgba(60, 64, 67, 0.3), 0px 1px 3px 1px rgba(60, 64, 67, 0.15);\n",
              "      fill: #174EA6;\n",
              "    }\n",
              "\n",
              "    .colab-df-buttons div {\n",
              "      margin-bottom: 4px;\n",
              "    }\n",
              "\n",
              "    [theme=dark] .colab-df-convert {\n",
              "      background-color: #3B4455;\n",
              "      fill: #D2E3FC;\n",
              "    }\n",
              "\n",
              "    [theme=dark] .colab-df-convert:hover {\n",
              "      background-color: #434B5C;\n",
              "      box-shadow: 0px 1px 3px 1px rgba(0, 0, 0, 0.15);\n",
              "      filter: drop-shadow(0px 1px 2px rgba(0, 0, 0, 0.3));\n",
              "      fill: #FFFFFF;\n",
              "    }\n",
              "  </style>\n",
              "\n",
              "    <script>\n",
              "      const buttonEl =\n",
              "        document.querySelector('#df-bbeae6ad-d271-4e4b-b19c-86ad8d65f51e button.colab-df-convert');\n",
              "      buttonEl.style.display =\n",
              "        google.colab.kernel.accessAllowed ? 'block' : 'none';\n",
              "\n",
              "      async function convertToInteractive(key) {\n",
              "        const element = document.querySelector('#df-bbeae6ad-d271-4e4b-b19c-86ad8d65f51e');\n",
              "        const dataTable =\n",
              "          await google.colab.kernel.invokeFunction('convertToInteractive',\n",
              "                                                    [key], {});\n",
              "        if (!dataTable) return;\n",
              "\n",
              "        const docLinkHtml = 'Like what you see? Visit the ' +\n",
              "          '<a target=\"_blank\" href=https://colab.research.google.com/notebooks/data_table.ipynb>data table notebook</a>'\n",
              "          + ' to learn more about interactive tables.';\n",
              "        element.innerHTML = '';\n",
              "        dataTable['output_type'] = 'display_data';\n",
              "        await google.colab.output.renderOutput(dataTable, element);\n",
              "        const docLink = document.createElement('div');\n",
              "        docLink.innerHTML = docLinkHtml;\n",
              "        element.appendChild(docLink);\n",
              "      }\n",
              "    </script>\n",
              "  </div>\n",
              "\n",
              "\n",
              "<div id=\"df-01a13c8b-3d95-49c8-b2ba-b5a19906562c\">\n",
              "  <button class=\"colab-df-quickchart\" onclick=\"quickchart('df-01a13c8b-3d95-49c8-b2ba-b5a19906562c')\"\n",
              "            title=\"Suggest charts\"\n",
              "            style=\"display:none;\">\n",
              "\n",
              "<svg xmlns=\"http://www.w3.org/2000/svg\" height=\"24px\"viewBox=\"0 0 24 24\"\n",
              "     width=\"24px\">\n",
              "    <g>\n",
              "        <path d=\"M19 3H5c-1.1 0-2 .9-2 2v14c0 1.1.9 2 2 2h14c1.1 0 2-.9 2-2V5c0-1.1-.9-2-2-2zM9 17H7v-7h2v7zm4 0h-2V7h2v10zm4 0h-2v-4h2v4z\"/>\n",
              "    </g>\n",
              "</svg>\n",
              "  </button>\n",
              "\n",
              "<style>\n",
              "  .colab-df-quickchart {\n",
              "      --bg-color: #E8F0FE;\n",
              "      --fill-color: #1967D2;\n",
              "      --hover-bg-color: #E2EBFA;\n",
              "      --hover-fill-color: #174EA6;\n",
              "      --disabled-fill-color: #AAA;\n",
              "      --disabled-bg-color: #DDD;\n",
              "  }\n",
              "\n",
              "  [theme=dark] .colab-df-quickchart {\n",
              "      --bg-color: #3B4455;\n",
              "      --fill-color: #D2E3FC;\n",
              "      --hover-bg-color: #434B5C;\n",
              "      --hover-fill-color: #FFFFFF;\n",
              "      --disabled-bg-color: #3B4455;\n",
              "      --disabled-fill-color: #666;\n",
              "  }\n",
              "\n",
              "  .colab-df-quickchart {\n",
              "    background-color: var(--bg-color);\n",
              "    border: none;\n",
              "    border-radius: 50%;\n",
              "    cursor: pointer;\n",
              "    display: none;\n",
              "    fill: var(--fill-color);\n",
              "    height: 32px;\n",
              "    padding: 0;\n",
              "    width: 32px;\n",
              "  }\n",
              "\n",
              "  .colab-df-quickchart:hover {\n",
              "    background-color: var(--hover-bg-color);\n",
              "    box-shadow: 0 1px 2px rgba(60, 64, 67, 0.3), 0 1px 3px 1px rgba(60, 64, 67, 0.15);\n",
              "    fill: var(--button-hover-fill-color);\n",
              "  }\n",
              "\n",
              "  .colab-df-quickchart-complete:disabled,\n",
              "  .colab-df-quickchart-complete:disabled:hover {\n",
              "    background-color: var(--disabled-bg-color);\n",
              "    fill: var(--disabled-fill-color);\n",
              "    box-shadow: none;\n",
              "  }\n",
              "\n",
              "  .colab-df-spinner {\n",
              "    border: 2px solid var(--fill-color);\n",
              "    border-color: transparent;\n",
              "    border-bottom-color: var(--fill-color);\n",
              "    animation:\n",
              "      spin 1s steps(1) infinite;\n",
              "  }\n",
              "\n",
              "  @keyframes spin {\n",
              "    0% {\n",
              "      border-color: transparent;\n",
              "      border-bottom-color: var(--fill-color);\n",
              "      border-left-color: var(--fill-color);\n",
              "    }\n",
              "    20% {\n",
              "      border-color: transparent;\n",
              "      border-left-color: var(--fill-color);\n",
              "      border-top-color: var(--fill-color);\n",
              "    }\n",
              "    30% {\n",
              "      border-color: transparent;\n",
              "      border-left-color: var(--fill-color);\n",
              "      border-top-color: var(--fill-color);\n",
              "      border-right-color: var(--fill-color);\n",
              "    }\n",
              "    40% {\n",
              "      border-color: transparent;\n",
              "      border-right-color: var(--fill-color);\n",
              "      border-top-color: var(--fill-color);\n",
              "    }\n",
              "    60% {\n",
              "      border-color: transparent;\n",
              "      border-right-color: var(--fill-color);\n",
              "    }\n",
              "    80% {\n",
              "      border-color: transparent;\n",
              "      border-right-color: var(--fill-color);\n",
              "      border-bottom-color: var(--fill-color);\n",
              "    }\n",
              "    90% {\n",
              "      border-color: transparent;\n",
              "      border-bottom-color: var(--fill-color);\n",
              "    }\n",
              "  }\n",
              "</style>\n",
              "\n",
              "  <script>\n",
              "    async function quickchart(key) {\n",
              "      const quickchartButtonEl =\n",
              "        document.querySelector('#' + key + ' button');\n",
              "      quickchartButtonEl.disabled = true;  // To prevent multiple clicks.\n",
              "      quickchartButtonEl.classList.add('colab-df-spinner');\n",
              "      try {\n",
              "        const charts = await google.colab.kernel.invokeFunction(\n",
              "            'suggestCharts', [key], {});\n",
              "      } catch (error) {\n",
              "        console.error('Error during call to suggestCharts:', error);\n",
              "      }\n",
              "      quickchartButtonEl.classList.remove('colab-df-spinner');\n",
              "      quickchartButtonEl.classList.add('colab-df-quickchart-complete');\n",
              "    }\n",
              "    (() => {\n",
              "      let quickchartButtonEl =\n",
              "        document.querySelector('#df-01a13c8b-3d95-49c8-b2ba-b5a19906562c button');\n",
              "      quickchartButtonEl.style.display =\n",
              "        google.colab.kernel.accessAllowed ? 'block' : 'none';\n",
              "    })();\n",
              "  </script>\n",
              "</div>\n",
              "\n",
              "    </div>\n",
              "  </div>\n"
            ]
          },
          "metadata": {},
          "execution_count": 93
        }
      ]
    },
    {
      "cell_type": "markdown",
      "source": [
        "### Dataset Rows & Columns count"
      ],
      "metadata": {
        "id": "7hBIi_osiCS2"
      }
    },
    {
      "cell_type": "code",
      "source": [
        "# Dataset Rows & Columns count\n",
        "\n",
        "df.shape"
      ],
      "metadata": {
        "id": "Kllu7SJgmLij",
        "colab": {
          "base_uri": "https://localhost:8080/"
        },
        "outputId": "ee6b91ac-8d37-4078-835c-0236e135b65b"
      },
      "execution_count": 94,
      "outputs": [
        {
          "output_type": "execute_result",
          "data": {
            "text/plain": [
              "(7787, 12)"
            ]
          },
          "metadata": {},
          "execution_count": 94
        }
      ]
    },
    {
      "cell_type": "markdown",
      "source": [
        "### Dataset Information"
      ],
      "metadata": {
        "id": "JlHwYmJAmNHm"
      }
    },
    {
      "cell_type": "code",
      "source": [
        "# Dataset Info\n",
        "\n",
        "df.info()"
      ],
      "metadata": {
        "id": "e9hRXRi6meOf",
        "colab": {
          "base_uri": "https://localhost:8080/"
        },
        "outputId": "53ea33a4-930c-426f-b301-ec1e976e7d2e"
      },
      "execution_count": 95,
      "outputs": [
        {
          "output_type": "stream",
          "name": "stdout",
          "text": [
            "<class 'pandas.core.frame.DataFrame'>\n",
            "RangeIndex: 7787 entries, 0 to 7786\n",
            "Data columns (total 12 columns):\n",
            " #   Column        Non-Null Count  Dtype \n",
            "---  ------        --------------  ----- \n",
            " 0   show_id       7787 non-null   object\n",
            " 1   type          7787 non-null   object\n",
            " 2   title         7787 non-null   object\n",
            " 3   director      5398 non-null   object\n",
            " 4   cast          7069 non-null   object\n",
            " 5   country       7280 non-null   object\n",
            " 6   date_added    7777 non-null   object\n",
            " 7   release_year  7787 non-null   int64 \n",
            " 8   rating        7780 non-null   object\n",
            " 9   duration      7787 non-null   object\n",
            " 10  listed_in     7787 non-null   object\n",
            " 11  description   7787 non-null   object\n",
            "dtypes: int64(1), object(11)\n",
            "memory usage: 730.2+ KB\n"
          ]
        }
      ]
    },
    {
      "cell_type": "markdown",
      "source": [
        "#### Duplicate Values"
      ],
      "metadata": {
        "id": "35m5QtbWiB9F"
      }
    },
    {
      "cell_type": "code",
      "source": [
        "# Dataset Duplicate Value Count\n",
        "\n",
        "df.duplicated().sum()"
      ],
      "metadata": {
        "id": "1sLdpKYkmox0",
        "colab": {
          "base_uri": "https://localhost:8080/"
        },
        "outputId": "49ca8eb6-2d8b-4231-a8c8-11884ba94e9f"
      },
      "execution_count": 96,
      "outputs": [
        {
          "output_type": "execute_result",
          "data": {
            "text/plain": [
              "0"
            ]
          },
          "metadata": {},
          "execution_count": 96
        }
      ]
    },
    {
      "cell_type": "code",
      "source": [
        "print(f' We have {df.duplicated().sum()} duplicate values in dataset.')"
      ],
      "metadata": {
        "colab": {
          "base_uri": "https://localhost:8080/"
        },
        "id": "vE26cZgA7ESq",
        "outputId": "558c7279-5c0a-4b44-ae35-98c3a3a2976f"
      },
      "execution_count": 97,
      "outputs": [
        {
          "output_type": "stream",
          "name": "stdout",
          "text": [
            " We have 0 duplicate values in dataset.\n"
          ]
        }
      ]
    },
    {
      "cell_type": "markdown",
      "source": [
        "#### Missing Values/Null Values"
      ],
      "metadata": {
        "id": "PoPl-ycgm1ru"
      }
    },
    {
      "cell_type": "code",
      "source": [
        "# Missing Values/Null Values Count\n",
        "df.isna().sum().sort_values(ascending=False)"
      ],
      "metadata": {
        "id": "GgHWkxvamxVg",
        "colab": {
          "base_uri": "https://localhost:8080/"
        },
        "outputId": "9bb4b632-40cc-49b7-817e-9bf5d3974025"
      },
      "execution_count": 98,
      "outputs": [
        {
          "output_type": "execute_result",
          "data": {
            "text/plain": [
              "director        2389\n",
              "cast             718\n",
              "country          507\n",
              "date_added        10\n",
              "rating             7\n",
              "show_id            0\n",
              "type               0\n",
              "title              0\n",
              "release_year       0\n",
              "duration           0\n",
              "listed_in          0\n",
              "description        0\n",
              "dtype: int64"
            ]
          },
          "metadata": {},
          "execution_count": 98
        }
      ]
    },
    {
      "cell_type": "code",
      "source": [
        "# Visualizing the missing values\n",
        "\n",
        "plt.figure(figsize=(10,7))\n",
        "ax=sns.barplot(x=df.columns,y=df.isna().sum(),palette='Paired')\n",
        "for label in ax.containers:\n",
        "    ax.bar_label(label)\n",
        "plt.grid(alpha=0.5)\n",
        "plt.xticks(rotation=45)\n",
        "plt.show()"
      ],
      "metadata": {
        "id": "3q5wnI3om9sJ",
        "colab": {
          "base_uri": "https://localhost:8080/",
          "height": 656
        },
        "outputId": "0c291efb-3207-4696-b405-7bdc989e2f76"
      },
      "execution_count": 99,
      "outputs": [
        {
          "output_type": "display_data",
          "data": {
            "text/plain": [
              "<Figure size 1000x700 with 1 Axes>"
            ],
            "image/png": "[encoded data removed]"
          },
          "metadata": {}
        }
      ]
    },
    {
      "cell_type": "markdown",
      "source": [
        "### What did you know about your dataset?"
      ],
      "metadata": {
        "id": "H0kj-8xxnORC"
      }
    },
    {
      "cell_type": "markdown",
      "source": [
        "The dataset for Netflix Movies and TV Shows Clustering is comprised of 12 columns, with just a single column having an integer data type. It's worth noting that the dataset does not include any duplicate values. Nevertheless, there are null values present in five columns, namely director, cast, country, date_added, and rating.\n"
      ],
      "metadata": {
        "id": "gfoNAAC-nUe_"
      }
    },
    {
      "cell_type": "markdown",
      "source": [
        "## ***2. Understanding Your Variables***"
      ],
      "metadata": {
        "id": "nA9Y7ga8ng1Z"
      }
    },
    {
      "cell_type": "code",
      "source": [
        "# Dataset Columns\n",
        "df.columns"
      ],
      "metadata": {
        "id": "j7xfkqrt5Ag5",
        "colab": {
          "base_uri": "https://localhost:8080/"
        },
        "outputId": "2124c29f-b08d-4cad-97b0-ff0e0758e8e5"
      },
      "execution_count": 100,
      "outputs": [
        {
          "output_type": "execute_result",
          "data": {
            "text/plain": [
              "Index(['show_id', 'type', 'title', 'director', 'cast', 'country', 'date_added',\n",
              "       'release_year', 'rating', 'duration', 'listed_in', 'description'],\n",
              "      dtype='object')"
            ]
          },
          "metadata": {},
          "execution_count": 100
        }
      ]
    },
    {
      "cell_type": "code",
      "source": [
        "# Dataset Describe\n",
        "df.describe(include='all')"
      ],
      "metadata": {
        "id": "DnOaZdaE5Q5t",
        "colab": {
          "base_uri": "https://localhost:8080/",
          "height": 411
        },
        "outputId": "612abc2a-c7c7-4cad-9f23-743a2119a17b"
      },
      "execution_count": 101,
      "outputs": [
        {
          "output_type": "execute_result",
          "data": {
            "text/plain": [
              "       show_id   type title                director                cast  \\\n",
              "count     7787   7787  7787                    5398                7069   \n",
              "unique    7787      2  7787                    4049                6831   \n",
              "top         s1  Movie    3%  Raúl Campos, Jan Suter  David Attenborough   \n",
              "freq         1   5377     1                      18                  18   \n",
              "mean       NaN    NaN   NaN                     NaN                 NaN   \n",
              "std        NaN    NaN   NaN                     NaN                 NaN   \n",
              "min        NaN    NaN   NaN                     NaN                 NaN   \n",
              "25%        NaN    NaN   NaN                     NaN                 NaN   \n",
              "50%        NaN    NaN   NaN                     NaN                 NaN   \n",
              "75%        NaN    NaN   NaN                     NaN                 NaN   \n",
              "max        NaN    NaN   NaN                     NaN                 NaN   \n",
              "\n",
              "              country       date_added  release_year rating  duration  \\\n",
              "count            7280             7777   7787.000000   7780      7787   \n",
              "unique            681             1565           NaN     14       216   \n",
              "top     United States  January 1, 2020           NaN  TV-MA  1 Season   \n",
              "freq             2555              118           NaN   2863      1608   \n",
              "mean              NaN              NaN   2013.932580    NaN       NaN   \n",
              "std               NaN              NaN      8.757395    NaN       NaN   \n",
              "min               NaN              NaN   1925.000000    NaN       NaN   \n",
              "25%               NaN              NaN   2013.000000    NaN       NaN   \n",
              "50%               NaN              NaN   2017.000000    NaN       NaN   \n",
              "75%               NaN              NaN   2018.000000    NaN       NaN   \n",
              "max               NaN              NaN   2021.000000    NaN       NaN   \n",
              "\n",
              "            listed_in                                        description  \n",
              "count            7787                                               7787  \n",
              "unique            492                                               7769  \n",
              "top     Documentaries  Multiple women report their husbands as missin...  \n",
              "freq              334                                                  3  \n",
              "mean              NaN                                                NaN  \n",
              "std               NaN                                                NaN  \n",
              "min               NaN                                                NaN  \n",
              "25%               NaN                                                NaN  \n",
              "50%               NaN                                                NaN  \n",
              "75%               NaN                                                NaN  \n",
              "max               NaN                                                NaN  "
            ],
            "text/html": [
              "\n",
              "  <div id=\"df-f81aa4c0-67e9-418e-80f5-0f484834218a\" class=\"colab-df-container\">\n",
              "    <div>\n",
              "<style scoped>\n",
              "    .dataframe tbody tr th:only-of-type {\n",
              "        vertical-align: middle;\n",
              "    }\n",
              "\n",
              "    .dataframe tbody tr th {\n",
              "        vertical-align: top;\n",
              "    }\n",
              "\n",
              "    .dataframe thead th {\n",
              "        text-align: right;\n",
              "    }\n",
              "</style>\n",
              "<table border=\"1\" class=\"dataframe\">\n",
              "  <thead>\n",
              "    <tr style=\"text-align: right;\">\n",
              "      <th></th>\n",
              "      <th>show_id</th>\n",
              "      <th>type</th>\n",
              "      <th>title</th>\n",
              "      <th>director</th>\n",
              "      <th>cast</th>\n",
              "      <th>country</th>\n",
              "      <th>date_added</th>\n",
              "      <th>release_year</th>\n",
              "      <th>rating</th>\n",
              "      <th>duration</th>\n",
              "      <th>listed_in</th>\n",
              "      <th>description</th>\n",
              "    </tr>\n",
              "  </thead>\n",
              "  <tbody>\n",
              "    <tr>\n",
              "      <th>count</th>\n",
              "      <td>7787</td>\n",
              "      <td>7787</td>\n",
              "      <td>7787</td>\n",
              "      <td>5398</td>\n",
              "      <td>7069</td>\n",
              "      <td>7280</td>\n",
              "      <td>7777</td>\n",
              "      <td>7787.000000</td>\n",
              "      <td>7780</td>\n",
              "      <td>7787</td>\n",
              "      <td>7787</td>\n",
              "      <td>7787</td>\n",
              "    </tr>\n",
              "    <tr>\n",
              "      <th>unique</th>\n",
              "      <td>7787</td>\n",
              "      <td>2</td>\n",
              "      <td>7787</td>\n",
              "      <td>4049</td>\n",
              "      <td>6831</td>\n",
              "      <td>681</td>\n",
              "      <td>1565</td>\n",
              "      <td>NaN</td>\n",
              "      <td>14</td>\n",
              "      <td>216</td>\n",
              "      <td>492</td>\n",
              "      <td>7769</td>\n",
              "    </tr>\n",
              "    <tr>\n",
              "      <th>top</th>\n",
              "      <td>s1</td>\n",
              "      <td>Movie</td>\n",
              "      <td>3%</td>\n",
              "      <td>Raúl Campos, Jan Suter</td>\n",
              "      <td>David Attenborough</td>\n",
              "      <td>United States</td>\n",
              "      <td>January 1, 2020</td>\n",
              "      <td>NaN</td>\n",
              "      <td>TV-MA</td>\n",
              "      <td>1 Season</td>\n",
              "      <td>Documentaries</td>\n",
              "      <td>Multiple women report their husbands as missin...</td>\n",
              "    </tr>\n",
              "    <tr>\n",
              "      <th>freq</th>\n",
              "      <td>1</td>\n",
              "      <td>5377</td>\n",
              "      <td>1</td>\n",
              "      <td>18</td>\n",
              "      <td>18</td>\n",
              "      <td>2555</td>\n",
              "      <td>118</td>\n",
              "      <td>NaN</td>\n",
              "      <td>2863</td>\n",
              "      <td>1608</td>\n",
              "      <td>334</td>\n",
              "      <td>3</td>\n",
              "    </tr>\n",
              "    <tr>\n",
              "      <th>mean</th>\n",
              "      <td>NaN</td>\n",
              "      <td>NaN</td>\n",
              "      <td>NaN</td>\n",
              "      <td>NaN</td>\n",
              "      <td>NaN</td>\n",
              "      <td>NaN</td>\n",
              "      <td>NaN</td>\n",
              "      <td>2013.932580</td>\n",
              "      <td>NaN</td>\n",
              "      <td>NaN</td>\n",
              "      <td>NaN</td>\n",
              "      <td>NaN</td>\n",
              "    </tr>\n",
              "    <tr>\n",
              "      <th>std</th>\n",
              "      <td>NaN</td>\n",
              "      <td>NaN</td>\n",
              "      <td>NaN</td>\n",
              "      <td>NaN</td>\n",
              "      <td>NaN</td>\n",
              "      <td>NaN</td>\n",
              "      <td>NaN</td>\n",
              "      <td>8.757395</td>\n",
              "      <td>NaN</td>\n",
              "      <td>NaN</td>\n",
              "      <td>NaN</td>\n",
              "      <td>NaN</td>\n",
              "    </tr>\n",
              "    <tr>\n",
              "      <th>min</th>\n",
              "      <td>NaN</td>\n",
              "      <td>NaN</td>\n",
              "      <td>NaN</td>\n",
              "      <td>NaN</td>\n",
              "      <td>NaN</td>\n",
              "      <td>NaN</td>\n",
              "      <td>NaN</td>\n",
              "      <td>1925.000000</td>\n",
              "      <td>NaN</td>\n",
              "      <td>NaN</td>\n",
              "      <td>NaN</td>\n",
              "      <td>NaN</td>\n",
              "    </tr>\n",
              "    <tr>\n",
              "      <th>25%</th>\n",
              "      <td>NaN</td>\n",
              "      <td>NaN</td>\n",
              "      <td>NaN</td>\n",
              "      <td>NaN</td>\n",
              "      <td>NaN</td>\n",
              "      <td>NaN</td>\n",
              "      <td>NaN</td>\n",
              "      <td>2013.000000</td>\n",
              "      <td>NaN</td>\n",
              "      <td>NaN</td>\n",
              "      <td>NaN</td>\n",
              "      <td>NaN</td>\n",
              "    </tr>\n",
              "    <tr>\n",
              "      <th>50%</th>\n",
              "      <td>NaN</td>\n",
              "      <td>NaN</td>\n",
              "      <td>NaN</td>\n",
              "      <td>NaN</td>\n",
              "      <td>NaN</td>\n",
              "      <td>NaN</td>\n",
              "      <td>NaN</td>\n",
              "      <td>2017.000000</td>\n",
              "      <td>NaN</td>\n",
              "      <td>NaN</td>\n",
              "      <td>NaN</td>\n",
              "      <td>NaN</td>\n",
              "    </tr>\n",
              "    <tr>\n",
              "      <th>75%</th>\n",
              "      <td>NaN</td>\n",
              "      <td>NaN</td>\n",
              "      <td>NaN</td>\n",
              "      <td>NaN</td>\n",
              "      <td>NaN</td>\n",
              "      <td>NaN</td>\n",
              "      <td>NaN</td>\n",
              "      <td>2018.000000</td>\n",
              "      <td>NaN</td>\n",
              "      <td>NaN</td>\n",
              "      <td>NaN</td>\n",
              "      <td>NaN</td>\n",
              "    </tr>\n",
              "    <tr>\n",
              "      <th>max</th>\n",
              "      <td>NaN</td>\n",
              "      <td>NaN</td>\n",
              "      <td>NaN</td>\n",
              "      <td>NaN</td>\n",
              "      <td>NaN</td>\n",
              "      <td>NaN</td>\n",
              "      <td>NaN</td>\n",
              "      <td>2021.000000</td>\n",
              "      <td>NaN</td>\n",
              "      <td>NaN</td>\n",
              "      <td>NaN</td>\n",
              "      <td>NaN</td>\n",
              "    </tr>\n",
              "  </tbody>\n",
              "</table>\n",
              "</div>\n",
              "    <div class=\"colab-df-buttons\">\n",
              "\n",
              "  <div class=\"colab-df-container\">\n",
              "    <button class=\"colab-df-convert\" onclick=\"convertToInteractive('df-f81aa4c0-67e9-418e-80f5-0f484834218a')\"\n",
              "            title=\"Convert this dataframe to an interactive table.\"\n",
              "            style=\"display:none;\">\n",
              "\n",
              "  <svg xmlns=\"http://www.w3.org/2000/svg\" height=\"24px\" viewBox=\"0 -960 960 960\">\n",
              "    <path d=\"M120-120v-720h720v720H120Zm60-500h600v-160H180v160Zm220 220h160v-160H400v160Zm0 220h160v-160H400v160ZM180-400h160v-160H180v160Zm440 0h160v-160H620v160ZM180-180h160v-160H180v160Zm440 0h160v-160H620v160Z\"/>\n",
              "  </svg>\n",
              "    </button>\n",
              "\n",
              "  <style>\n",
              "    .colab-df-container {\n",
              "      display:flex;\n",
              "      gap: 12px;\n",
              "    }\n",
              "\n",
              "    .colab-df-convert {\n",
              "      background-color: #E8F0FE;\n",
              "      border: none;\n",
              "      border-radius: 50%;\n",
              "      cursor: pointer;\n",
              "      display: none;\n",
              "      fill: #1967D2;\n",
              "      height: 32px;\n",
              "      padding: 0 0 0 0;\n",
              "      width: 32px;\n",
              "    }\n",
              "\n",
              "    .colab-df-convert:hover {\n",
              "      background-color: #E2EBFA;\n",
              "      box-shadow: 0px 1px 2px rgba(60, 64, 67, 0.3), 0px 1px 3px 1px rgba(60, 64, 67, 0.15);\n",
              "      fill: #174EA6;\n",
              "    }\n",
              "\n",
              "    .colab-df-buttons div {\n",
              "      margin-bottom: 4px;\n",
              "    }\n",
              "\n",
              "    [theme=dark] .colab-df-convert {\n",
              "      background-color: #3B4455;\n",
              "      fill: #D2E3FC;\n",
              "    }\n",
              "\n",
              "    [theme=dark] .colab-df-convert:hover {\n",
              "      background-color: #434B5C;\n",
              "      box-shadow: 0px 1px 3px 1px rgba(0, 0, 0, 0.15);\n",
              "      filter: drop-shadow(0px 1px 2px rgba(0, 0, 0, 0.3));\n",
              "      fill: #FFFFFF;\n",
              "    }\n",
              "  </style>\n",
              "\n",
              "    <script>\n",
              "      const buttonEl =\n",
              "        document.querySelector('#df-f81aa4c0-67e9-418e-80f5-0f484834218a button.colab-df-convert');\n",
              "      buttonEl.style.display =\n",
              "        google.colab.kernel.accessAllowed ? 'block' : 'none';\n",
              "\n",
              "      async function convertToInteractive(key) {\n",
              "        const element = document.querySelector('#df-f81aa4c0-67e9-418e-80f5-0f484834218a');\n",
              "        const dataTable =\n",
              "          await google.colab.kernel.invokeFunction('convertToInteractive',\n",
              "                                                    [key], {});\n",
              "        if (!dataTable) return;\n",
              "\n",
              "        const docLinkHtml = 'Like what you see? Visit the ' +\n",
              "          '<a target=\"_blank\" href=https://colab.research.google.com/notebooks/data_table.ipynb>data table notebook</a>'\n",
              "          + ' to learn more about interactive tables.';\n",
              "        element.innerHTML = '';\n",
              "        dataTable['output_type'] = 'display_data';\n",
              "        await google.colab.output.renderOutput(dataTable, element);\n",
              "        const docLink = document.createElement('div');\n",
              "        docLink.innerHTML = docLinkHtml;\n",
              "        element.appendChild(docLink);\n",
              "      }\n",
              "    </script>\n",
              "  </div>\n",
              "\n",
              "\n",
              "<div id=\"df-53e8cc00-a377-4103-a109-d8249b05ae9f\">\n",
              "  <button class=\"colab-df-quickchart\" onclick=\"quickchart('df-53e8cc00-a377-4103-a109-d8249b05ae9f')\"\n",
              "            title=\"Suggest charts\"\n",
              "            style=\"display:none;\">\n",
              "\n",
              "<svg xmlns=\"http://www.w3.org/2000/svg\" height=\"24px\"viewBox=\"0 0 24 24\"\n",
              "     width=\"24px\">\n",
              "    <g>\n",
              "        <path d=\"M19 3H5c-1.1 0-2 .9-2 2v14c0 1.1.9 2 2 2h14c1.1 0 2-.9 2-2V5c0-1.1-.9-2-2-2zM9 17H7v-7h2v7zm4 0h-2V7h2v10zm4 0h-2v-4h2v4z\"/>\n",
              "    </g>\n",
              "</svg>\n",
              "  </button>\n",
              "\n",
              "<style>\n",
              "  .colab-df-quickchart {\n",
              "      --bg-color: #E8F0FE;\n",
              "      --fill-color: #1967D2;\n",
              "      --hover-bg-color: #E2EBFA;\n",
              "      --hover-fill-color: #174EA6;\n",
              "      --disabled-fill-color: #AAA;\n",
              "      --disabled-bg-color: #DDD;\n",
              "  }\n",
              "\n",
              "  [theme=dark] .colab-df-quickchart {\n",
              "      --bg-color: #3B4455;\n",
              "      --fill-color: #D2E3FC;\n",
              "      --hover-bg-color: #434B5C;\n",
              "      --hover-fill-color: #FFFFFF;\n",
              "      --disabled-bg-color: #3B4455;\n",
              "      --disabled-fill-color: #666;\n",
              "  }\n",
              "\n",
              "  .colab-df-quickchart {\n",
              "    background-color: var(--bg-color);\n",
              "    border: none;\n",
              "    border-radius: 50%;\n",
              "    cursor: pointer;\n",
              "    display: none;\n",
              "    fill: var(--fill-color);\n",
              "    height: 32px;\n",
              "    padding: 0;\n",
              "    width: 32px;\n",
              "  }\n",
              "\n",
              "  .colab-df-quickchart:hover {\n",
              "    background-color: var(--hover-bg-color);\n",
              "    box-shadow: 0 1px 2px rgba(60, 64, 67, 0.3), 0 1px 3px 1px rgba(60, 64, 67, 0.15);\n",
              "    fill: var(--button-hover-fill-color);\n",
              "  }\n",
              "\n",
              "  .colab-df-quickchart-complete:disabled,\n",
              "  .colab-df-quickchart-complete:disabled:hover {\n",
              "    background-color: var(--disabled-bg-color);\n",
              "    fill: var(--disabled-fill-color);\n",
              "    box-shadow: none;\n",
              "  }\n",
              "\n",
              "  .colab-df-spinner {\n",
              "    border: 2px solid var(--fill-color);\n",
              "    border-color: transparent;\n",
              "    border-bottom-color: var(--fill-color);\n",
              "    animation:\n",
              "      spin 1s steps(1) infinite;\n",
              "  }\n",
              "\n",
              "  @keyframes spin {\n",
              "    0% {\n",
              "      border-color: transparent;\n",
              "      border-bottom-color: var(--fill-color);\n",
              "      border-left-color: var(--fill-color);\n",
              "    }\n",
              "    20% {\n",
              "      border-color: transparent;\n",
              "      border-left-color: var(--fill-color);\n",
              "      border-top-color: var(--fill-color);\n",
              "    }\n",
              "    30% {\n",
              "      border-color: transparent;\n",
              "      border-left-color: var(--fill-color);\n",
              "      border-top-color: var(--fill-color);\n",
              "      border-right-color: var(--fill-color);\n",
              "    }\n",
              "    40% {\n",
              "      border-color: transparent;\n",
              "      border-right-color: var(--fill-color);\n",
              "      border-top-color: var(--fill-color);\n",
              "    }\n",
              "    60% {\n",
              "      border-color: transparent;\n",
              "      border-right-color: var(--fill-color);\n",
              "    }\n",
              "    80% {\n",
              "      border-color: transparent;\n",
              "      border-right-color: var(--fill-color);\n",
              "      border-bottom-color: var(--fill-color);\n",
              "    }\n",
              "    90% {\n",
              "      border-color: transparent;\n",
              "      border-bottom-color: var(--fill-color);\n",
              "    }\n",
              "  }\n",
              "</style>\n",
              "\n",
              "  <script>\n",
              "    async function quickchart(key) {\n",
              "      const quickchartButtonEl =\n",
              "        document.querySelector('#' + key + ' button');\n",
              "      quickchartButtonEl.disabled = true;  // To prevent multiple clicks.\n",
              "      quickchartButtonEl.classList.add('colab-df-spinner');\n",
              "      try {\n",
              "        const charts = await google.colab.kernel.invokeFunction(\n",
              "            'suggestCharts', [key], {});\n",
              "      } catch (error) {\n",
              "        console.error('Error during call to suggestCharts:', error);\n",
              "      }\n",
              "      quickchartButtonEl.classList.remove('colab-df-spinner');\n",
              "      quickchartButtonEl.classList.add('colab-df-quickchart-complete');\n",
              "    }\n",
              "    (() => {\n",
              "      let quickchartButtonEl =\n",
              "        document.querySelector('#df-53e8cc00-a377-4103-a109-d8249b05ae9f button');\n",
              "      quickchartButtonEl.style.display =\n",
              "        google.colab.kernel.accessAllowed ? 'block' : 'none';\n",
              "    })();\n",
              "  </script>\n",
              "</div>\n",
              "\n",
              "    </div>\n",
              "  </div>\n"
            ]
          },
          "metadata": {},
          "execution_count": 101
        }
      ]
    },
    {
      "cell_type": "markdown",
      "source": [
        "### Variables Description"
      ],
      "metadata": {
        "id": "PBTbrJXOngz2"
      }
    },
    {
      "cell_type": "markdown",
      "source": [
        "The variable description of the Netflix Movies and TV Shows Clustering Dataset is as follows:\n",
        "\n",
        "1. **show_id**: Unique identifier for each movie/show.\n",
        "\n",
        "2. **type**: Indicates whether the entry is a movie or a TV show.\n",
        "3. **title**: Name of the movie or TV show.\n",
        "4. **director**: Name of the director(s) of the movie or TV show.\n",
        "5. **cast**: Names of the actors and actresses featured in the movie or TV show.\n",
        "6. **country**: Country or countries where the movie or TV show was produced.\n",
        "7. **date_added**: Date when the movie or TV show was added to Netflix.\n",
        "8. **release_year**: Year when the movie or TV show was released.\n",
        "9. **rating**: TV rating or movie rating of the movie or TV show.\n",
        "10. **duration**: Length of the movie or TV show in minutes or seasons.\n",
        "11. **listed_in**: Categories or genres of the movie or TV show.\n",
        "12. **description**: Brief synopsis or summary of the movie or TV show."
      ],
      "metadata": {
        "id": "aJV4KIxSnxay"
      }
    },
    {
      "cell_type": "markdown",
      "source": [
        "### Check Unique Values for each variable."
      ],
      "metadata": {
        "id": "u3PMJOP6ngxN"
      }
    },
    {
      "cell_type": "code",
      "source": [
        "# Check Unique Values for each variable.\n",
        "df.nunique().sort_values()"
      ],
      "metadata": {
        "id": "zms12Yq5n-jE",
        "colab": {
          "base_uri": "https://localhost:8080/"
        },
        "outputId": "e8051fe6-13e9-44d4-99b6-30556db9ceea"
      },
      "execution_count": 102,
      "outputs": [
        {
          "output_type": "execute_result",
          "data": {
            "text/plain": [
              "type               2\n",
              "rating            14\n",
              "release_year      73\n",
              "duration         216\n",
              "listed_in        492\n",
              "country          681\n",
              "date_added      1565\n",
              "director        4049\n",
              "cast            6831\n",
              "description     7769\n",
              "show_id         7787\n",
              "title           7787\n",
              "dtype: int64"
            ]
          },
          "metadata": {},
          "execution_count": 102
        }
      ]
    },
    {
      "cell_type": "markdown",
      "source": [
        "## 3. ***Data Wrangling***"
      ],
      "metadata": {
        "id": "dauF4eBmngu3"
      }
    },
    {
      "cell_type": "markdown",
      "source": [
        "### Data Wrangling Code"
      ],
      "metadata": {
        "id": "bKJF3rekwFvQ"
      }
    },
    {
      "cell_type": "markdown",
      "source": [
        "### 1. Handling null values"
      ],
      "metadata": {
        "id": "bJSE7rC0_r2u"
      }
    },
    {
      "cell_type": "code",
      "source": [
        "df.isna().sum().sort_values(ascending=False)"
      ],
      "metadata": {
        "colab": {
          "base_uri": "https://localhost:8080/"
        },
        "id": "Ym76aumJ_2CP",
        "outputId": "d2500a63-02dd-4eb5-c4e7-cff034b8d212"
      },
      "execution_count": 103,
      "outputs": [
        {
          "output_type": "execute_result",
          "data": {
            "text/plain": [
              "director        2389\n",
              "cast             718\n",
              "country          507\n",
              "date_added        10\n",
              "rating             7\n",
              "show_id            0\n",
              "type               0\n",
              "title              0\n",
              "release_year       0\n",
              "duration           0\n",
              "listed_in          0\n",
              "description        0\n",
              "dtype: int64"
            ]
          },
          "metadata": {},
          "execution_count": 103
        }
      ]
    },
    {
      "cell_type": "markdown",
      "source": [
        "1. To handle null values in the 'director' and 'cast' columns, we can replace them with the value 'Unknown'. This ensures that missing information in these columns is still captured in the dataset.\n",
        "2. For the 'country' column, we can fill the null values with the country that appears most frequently in the dataset, using the mode.\n",
        "3. Since the 'date_added' and 'rating' columns have a relatively small number of null values, an alternative approach would be to drop the observations (rows) that have null values in these columns from our analysis."
      ],
      "metadata": {
        "id": "SJyylNPkqL6v"
      }
    },
    {
      "cell_type": "code",
      "source": [
        "df[['director','cast']]=df[['director','cast']].fillna('Unknown')\n",
        "df['country']=df['country'].fillna(df['country'].mode()[0])\n",
        "df.dropna(axis=0, inplace=True)"
      ],
      "metadata": {
        "id": "4BWNztHu_19h"
      },
      "execution_count": 104,
      "outputs": []
    },
    {
      "cell_type": "code",
      "source": [
        "df.shape"
      ],
      "metadata": {
        "id": "sgvCNiCM_12a",
        "colab": {
          "base_uri": "https://localhost:8080/"
        },
        "outputId": "7d9eb702-1534-4bfc-a907-650162cd85f5"
      },
      "execution_count": 105,
      "outputs": [
        {
          "output_type": "execute_result",
          "data": {
            "text/plain": [
              "(7770, 12)"
            ]
          },
          "metadata": {},
          "execution_count": 105
        }
      ]
    },
    {
      "cell_type": "code",
      "source": [
        "df.duplicated().sum()"
      ],
      "metadata": {
        "colab": {
          "base_uri": "https://localhost:8080/"
        },
        "id": "TTxjftZvseLS",
        "outputId": "e747a4a3-90a0-45e0-b26c-b16acae67e16"
      },
      "execution_count": 106,
      "outputs": [
        {
          "output_type": "execute_result",
          "data": {
            "text/plain": [
              "0"
            ]
          },
          "metadata": {},
          "execution_count": 106
        }
      ]
    },
    {
      "cell_type": "markdown",
      "source": [
        "### 2. Handling nested columns i.e 'director', 'cast', 'listed_in' and 'country'"
      ],
      "metadata": {
        "id": "wIvQQ8dLstBK"
      }
    },
    {
      "cell_type": "code",
      "source": [
        "# Let's create a copy of dataframe and unnest the original one\n",
        "df_new= df.copy()"
      ],
      "metadata": {
        "id": "xm_AwoIAsd_L"
      },
      "execution_count": 107,
      "outputs": []
    },
    {
      "cell_type": "code",
      "source": [
        "# Unnesting 'Directors' column\n",
        "dir=df['director'].apply(lambda x: str(x).split(',')).tolist()\n",
        "df1=pd.DataFrame(dir,index=df['title'])\n",
        "df1=df1.stack()\n",
        "df1=pd.DataFrame(df1.reset_index())\n",
        "df1.rename(columns={0:'Directors'},inplace=True)\n",
        "df1 = df1.drop(['level_1'],axis=1)\n",
        "df1.sample(10)"
      ],
      "metadata": {
        "colab": {
          "base_uri": "https://localhost:8080/",
          "height": 363
        },
        "id": "sx82N1nvt4hx",
        "outputId": "e5e16be0-1cdf-4ce1-f0f9-19a5fcf2a8a5"
      },
      "execution_count": 108,
      "outputs": [
        {
          "output_type": "execute_result",
          "data": {
            "text/plain": [
              "                                    title         Directors\n",
              "7168                 The Light of My Eyes           Unknown\n",
              "6398  Super Monsters: Dia de los Monsters           Unknown\n",
              "1843                           Desperados                LP\n",
              "7317                       The Other Guys        Adam McKay\n",
              "1232                        Burning Sands   Gerard McMurray\n",
              "8193                        Weeds on Fire      Chi Fat Chan\n",
              "5738                      Rurouni Kenshin           Unknown\n",
              "8427        You Don't Mess with the Zohan      Dennis Dugan\n",
              "5853                     Saving Mr. Banks  John Lee Hancock\n",
              "4047                   Love Is in the Air           Unknown"
            ],
            "text/html": [
              "\n",
              "  <div id=\"df-5a6158f0-a8b7-4d1b-95cb-b83a0f145b1b\" class=\"colab-df-container\">\n",
              "    <div>\n",
              "<style scoped>\n",
              "    .dataframe tbody tr th:only-of-type {\n",
              "        vertical-align: middle;\n",
              "    }\n",
              "\n",
              "    .dataframe tbody tr th {\n",
              "        vertical-align: top;\n",
              "    }\n",
              "\n",
              "    .dataframe thead th {\n",
              "        text-align: right;\n",
              "    }\n",
              "</style>\n",
              "<table border=\"1\" class=\"dataframe\">\n",
              "  <thead>\n",
              "    <tr style=\"text-align: right;\">\n",
              "      <th></th>\n",
              "      <th>title</th>\n",
              "      <th>Directors</th>\n",
              "    </tr>\n",
              "  </thead>\n",
              "  <tbody>\n",
              "    <tr>\n",
              "      <th>7168</th>\n",
              "      <td>The Light of My Eyes</td>\n",
              "      <td>Unknown</td>\n",
              "    </tr>\n",
              "    <tr>\n",
              "      <th>6398</th>\n",
              "      <td>Super Monsters: Dia de los Monsters</td>\n",
              "      <td>Unknown</td>\n",
              "    </tr>\n",
              "    <tr>\n",
              "      <th>1843</th>\n",
              "      <td>Desperados</td>\n",
              "      <td>LP</td>\n",
              "    </tr>\n",
              "    <tr>\n",
              "      <th>7317</th>\n",
              "      <td>The Other Guys</td>\n",
              "      <td>Adam McKay</td>\n",
              "    </tr>\n",
              "    <tr>\n",
              "      <th>1232</th>\n",
              "      <td>Burning Sands</td>\n",
              "      <td>Gerard McMurray</td>\n",
              "    </tr>\n",
              "    <tr>\n",
              "      <th>8193</th>\n",
              "      <td>Weeds on Fire</td>\n",
              "      <td>Chi Fat Chan</td>\n",
              "    </tr>\n",
              "    <tr>\n",
              "      <th>5738</th>\n",
              "      <td>Rurouni Kenshin</td>\n",
              "      <td>Unknown</td>\n",
              "    </tr>\n",
              "    <tr>\n",
              "      <th>8427</th>\n",
              "      <td>You Don't Mess with the Zohan</td>\n",
              "      <td>Dennis Dugan</td>\n",
              "    </tr>\n",
              "    <tr>\n",
              "      <th>5853</th>\n",
              "      <td>Saving Mr. Banks</td>\n",
              "      <td>John Lee Hancock</td>\n",
              "    </tr>\n",
              "    <tr>\n",
              "      <th>4047</th>\n",
              "      <td>Love Is in the Air</td>\n",
              "      <td>Unknown</td>\n",
              "    </tr>\n",
              "  </tbody>\n",
              "</table>\n",
              "</div>\n",
              "    <div class=\"colab-df-buttons\">\n",
              "\n",
              "  <div class=\"colab-df-container\">\n",
              "    <button class=\"colab-df-convert\" onclick=\"convertToInteractive('df-5a6158f0-a8b7-4d1b-95cb-b83a0f145b1b')\"\n",
              "            title=\"Convert this dataframe to an interactive table.\"\n",
              "            style=\"display:none;\">\n",
              "\n",
              "  <svg xmlns=\"http://www.w3.org/2000/svg\" height=\"24px\" viewBox=\"0 -960 960 960\">\n",
              "    <path d=\"M120-120v-720h720v720H120Zm60-500h600v-160H180v160Zm220 220h160v-160H400v160Zm0 220h160v-160H400v160ZM180-400h160v-160H180v160Zm440 0h160v-160H620v160ZM180-180h160v-160H180v160Zm440 0h160v-160H620v160Z\"/>\n",
              "  </svg>\n",
              "    </button>\n",
              "\n",
              "  <style>\n",
              "    .colab-df-container {\n",
              "      display:flex;\n",
              "      gap: 12px;\n",
              "    }\n",
              "\n",
              "    .colab-df-convert {\n",
              "      background-color: #E8F0FE;\n",
              "      border: none;\n",
              "      border-radius: 50%;\n",
              "      cursor: pointer;\n",
              "      display: none;\n",
              "      fill: #1967D2;\n",
              "      height: 32px;\n",
              "      padding: 0 0 0 0;\n",
              "      width: 32px;\n",
              "    }\n",
              "\n",
              "    .colab-df-convert:hover {\n",
              "      background-color: #E2EBFA;\n",
              "      box-shadow: 0px 1px 2px rgba(60, 64, 67, 0.3), 0px 1px 3px 1px rgba(60, 64, 67, 0.15);\n",
              "      fill: #174EA6;\n",
              "    }\n",
              "\n",
              "    .colab-df-buttons div {\n",
              "      margin-bottom: 4px;\n",
              "    }\n",
              "\n",
              "    [theme=dark] .colab-df-convert {\n",
              "      background-color: #3B4455;\n",
              "      fill: #D2E3FC;\n",
              "    }\n",
              "\n",
              "    [theme=dark] .colab-df-convert:hover {\n",
              "      background-color: #434B5C;\n",
              "      box-shadow: 0px 1px 3px 1px rgba(0, 0, 0, 0.15);\n",
              "      filter: drop-shadow(0px 1px 2px rgba(0, 0, 0, 0.3));\n",
              "      fill: #FFFFFF;\n",
              "    }\n",
              "  </style>\n",
              "\n",
              "    <script>\n",
              "      const buttonEl =\n",
              "        document.querySelector('#df-5a6158f0-a8b7-4d1b-95cb-b83a0f145b1b button.colab-df-convert');\n",
              "      buttonEl.style.display =\n",
              "        google.colab.kernel.accessAllowed ? 'block' : 'none';\n",
              "\n",
              "      async function convertToInteractive(key) {\n",
              "        const element = document.querySelector('#df-5a6158f0-a8b7-4d1b-95cb-b83a0f145b1b');\n",
              "        const dataTable =\n",
              "          await google.colab.kernel.invokeFunction('convertToInteractive',\n",
              "                                                    [key], {});\n",
              "        if (!dataTable) return;\n",
              "\n",
              "        const docLinkHtml = 'Like what you see? Visit the ' +\n",
              "          '<a target=\"_blank\" href=https://colab.research.google.com/notebooks/data_table.ipynb>data table notebook</a>'\n",
              "          + ' to learn more about interactive tables.';\n",
              "        element.innerHTML = '';\n",
              "        dataTable['output_type'] = 'display_data';\n",
              "        await google.colab.output.renderOutput(dataTable, element);\n",
              "        const docLink = document.createElement('div');\n",
              "        docLink.innerHTML = docLinkHtml;\n",
              "        element.appendChild(docLink);\n",
              "      }\n",
              "    </script>\n",
              "  </div>\n",
              "\n",
              "\n",
              "<div id=\"df-878c0378-ffed-4463-baad-f4f663fa2a74\">\n",
              "  <button class=\"colab-df-quickchart\" onclick=\"quickchart('df-878c0378-ffed-4463-baad-f4f663fa2a74')\"\n",
              "            title=\"Suggest charts\"\n",
              "            style=\"display:none;\">\n",
              "\n",
              "<svg xmlns=\"http://www.w3.org/2000/svg\" height=\"24px\"viewBox=\"0 0 24 24\"\n",
              "     width=\"24px\">\n",
              "    <g>\n",
              "        <path d=\"M19 3H5c-1.1 0-2 .9-2 2v14c0 1.1.9 2 2 2h14c1.1 0 2-.9 2-2V5c0-1.1-.9-2-2-2zM9 17H7v-7h2v7zm4 0h-2V7h2v10zm4 0h-2v-4h2v4z\"/>\n",
              "    </g>\n",
              "</svg>\n",
              "  </button>\n",
              "\n",
              "<style>\n",
              "  .colab-df-quickchart {\n",
              "      --bg-color: #E8F0FE;\n",
              "      --fill-color: #1967D2;\n",
              "      --hover-bg-color: #E2EBFA;\n",
              "      --hover-fill-color: #174EA6;\n",
              "      --disabled-fill-color: #AAA;\n",
              "      --disabled-bg-color: #DDD;\n",
              "  }\n",
              "\n",
              "  [theme=dark] .colab-df-quickchart {\n",
              "      --bg-color: #3B4455;\n",
              "      --fill-color: #D2E3FC;\n",
              "      --hover-bg-color: #434B5C;\n",
              "      --hover-fill-color: #FFFFFF;\n",
              "      --disabled-bg-color: #3B4455;\n",
              "      --disabled-fill-color: #666;\n",
              "  }\n",
              "\n",
              "  .colab-df-quickchart {\n",
              "    background-color: var(--bg-color);\n",
              "    border: none;\n",
              "    border-radius: 50%;\n",
              "    cursor: pointer;\n",
              "    display: none;\n",
              "    fill: var(--fill-color);\n",
              "    height: 32px;\n",
              "    padding: 0;\n",
              "    width: 32px;\n",
              "  }\n",
              "\n",
              "  .colab-df-quickchart:hover {\n",
              "    background-color: var(--hover-bg-color);\n",
              "    box-shadow: 0 1px 2px rgba(60, 64, 67, 0.3), 0 1px 3px 1px rgba(60, 64, 67, 0.15);\n",
              "    fill: var(--button-hover-fill-color);\n",
              "  }\n",
              "\n",
              "  .colab-df-quickchart-complete:disabled,\n",
              "  .colab-df-quickchart-complete:disabled:hover {\n",
              "    background-color: var(--disabled-bg-color);\n",
              "    fill: var(--disabled-fill-color);\n",
              "    box-shadow: none;\n",
              "  }\n",
              "\n",
              "  .colab-df-spinner {\n",
              "    border: 2px solid var(--fill-color);\n",
              "    border-color: transparent;\n",
              "    border-bottom-color: var(--fill-color);\n",
              "    animation:\n",
              "      spin 1s steps(1) infinite;\n",
              "  }\n",
              "\n",
              "  @keyframes spin {\n",
              "    0% {\n",
              "      border-color: transparent;\n",
              "      border-bottom-color: var(--fill-color);\n",
              "      border-left-color: var(--fill-color);\n",
              "    }\n",
              "    20% {\n",
              "      border-color: transparent;\n",
              "      border-left-color: var(--fill-color);\n",
              "      border-top-color: var(--fill-color);\n",
              "    }\n",
              "    30% {\n",
              "      border-color: transparent;\n",
              "      border-left-color: var(--fill-color);\n",
              "      border-top-color: var(--fill-color);\n",
              "      border-right-color: var(--fill-color);\n",
              "    }\n",
              "    40% {\n",
              "      border-color: transparent;\n",
              "      border-right-color: var(--fill-color);\n",
              "      border-top-color: var(--fill-color);\n",
              "    }\n",
              "    60% {\n",
              "      border-color: transparent;\n",
              "      border-right-color: var(--fill-color);\n",
              "    }\n",
              "    80% {\n",
              "      border-color: transparent;\n",
              "      border-right-color: var(--fill-color);\n",
              "      border-bottom-color: var(--fill-color);\n",
              "    }\n",
              "    90% {\n",
              "      border-color: transparent;\n",
              "      border-bottom-color: var(--fill-color);\n",
              "    }\n",
              "  }\n",
              "</style>\n",
              "\n",
              "  <script>\n",
              "    async function quickchart(key) {\n",
              "      const quickchartButtonEl =\n",
              "        document.querySelector('#' + key + ' button');\n",
              "      quickchartButtonEl.disabled = true;  // To prevent multiple clicks.\n",
              "      quickchartButtonEl.classList.add('colab-df-spinner');\n",
              "      try {\n",
              "        const charts = await google.colab.kernel.invokeFunction(\n",
              "            'suggestCharts', [key], {});\n",
              "      } catch (error) {\n",
              "        console.error('Error during call to suggestCharts:', error);\n",
              "      }\n",
              "      quickchartButtonEl.classList.remove('colab-df-spinner');\n",
              "      quickchartButtonEl.classList.add('colab-df-quickchart-complete');\n",
              "    }\n",
              "    (() => {\n",
              "      let quickchartButtonEl =\n",
              "        document.querySelector('#df-878c0378-ffed-4463-baad-f4f663fa2a74 button');\n",
              "      quickchartButtonEl.style.display =\n",
              "        google.colab.kernel.accessAllowed ? 'block' : 'none';\n",
              "    })();\n",
              "  </script>\n",
              "</div>\n",
              "\n",
              "    </div>\n",
              "  </div>\n"
            ]
          },
          "metadata": {},
          "execution_count": 108
        }
      ]
    },
    {
      "cell_type": "code",
      "source": [
        "df1.shape"
      ],
      "metadata": {
        "colab": {
          "base_uri": "https://localhost:8080/"
        },
        "id": "f4U6JPV-t5ix",
        "outputId": "c99f3bdf-d7d7-45e3-928c-2d44ef366e45"
      },
      "execution_count": 109,
      "outputs": [
        {
          "output_type": "execute_result",
          "data": {
            "text/plain": [
              "(8487, 2)"
            ]
          },
          "metadata": {},
          "execution_count": 109
        }
      ]
    },
    {
      "cell_type": "code",
      "source": [
        "# Unnesting 'cast' column\n",
        "cast=df['cast'].apply(lambda x: str(x).split(',')).tolist()\n",
        "df2=pd.DataFrame(cast,index=df['title'])\n",
        "df2=df2.stack()\n",
        "df2=pd.DataFrame(df2.reset_index())\n",
        "df2.rename(columns={0:'Actors'},inplace=True)\n",
        "df2 = df2.drop(['level_1'],axis=1)\n",
        "df2.sample(10)"
      ],
      "metadata": {
        "colab": {
          "base_uri": "https://localhost:8080/",
          "height": 363
        },
        "id": "8INl6PUnt5f0",
        "outputId": "bb09eaa8-e5e9-4a2c-ddee-92da905a6fdf"
      },
      "execution_count": 110,
      "outputs": [
        {
          "output_type": "execute_result",
          "data": {
            "text/plain": [
              "                                         title             Actors\n",
              "16715                        Fruitvale Station        Ariana Neal\n",
              "211                           #cats_the_mewvie            Unknown\n",
              "25977                        Leyla Everlasting          Hakan Eke\n",
              "3830                              Angel Beats!       Eri Kitamura\n",
              "10450                         Click for Murder    Donal MacIntyre\n",
              "34500                                  Perfume   Natalia Belitski\n",
              "53146                          Uncertain Glory         Bruna Cusí\n",
              "46165  The Great British Baking Show: Holidays     Paul Hollywood\n",
              "45552                            The Exception       Anton Lesser\n",
              "54328                               Wanderlust        Emma D'Arcy"
            ],
            "text/html": [
              "\n",
              "  <div id=\"df-79b5d9fe-c87d-437e-8dcb-ae2b69f81580\" class=\"colab-df-container\">\n",
              "    <div>\n",
              "<style scoped>\n",
              "    .dataframe tbody tr th:only-of-type {\n",
              "        vertical-align: middle;\n",
              "    }\n",
              "\n",
              "    .dataframe tbody tr th {\n",
              "        vertical-align: top;\n",
              "    }\n",
              "\n",
              "    .dataframe thead th {\n",
              "        text-align: right;\n",
              "    }\n",
              "</style>\n",
              "<table border=\"1\" class=\"dataframe\">\n",
              "  <thead>\n",
              "    <tr style=\"text-align: right;\">\n",
              "      <th></th>\n",
              "      <th>title</th>\n",
              "      <th>Actors</th>\n",
              "    </tr>\n",
              "  </thead>\n",
              "  <tbody>\n",
              "    <tr>\n",
              "      <th>16715</th>\n",
              "      <td>Fruitvale Station</td>\n",
              "      <td>Ariana Neal</td>\n",
              "    </tr>\n",
              "    <tr>\n",
              "      <th>211</th>\n",
              "      <td>#cats_the_mewvie</td>\n",
              "      <td>Unknown</td>\n",
              "    </tr>\n",
              "    <tr>\n",
              "      <th>25977</th>\n",
              "      <td>Leyla Everlasting</td>\n",
              "      <td>Hakan Eke</td>\n",
              "    </tr>\n",
              "    <tr>\n",
              "      <th>3830</th>\n",
              "      <td>Angel Beats!</td>\n",
              "      <td>Eri Kitamura</td>\n",
              "    </tr>\n",
              "    <tr>\n",
              "      <th>10450</th>\n",
              "      <td>Click for Murder</td>\n",
              "      <td>Donal MacIntyre</td>\n",
              "    </tr>\n",
              "    <tr>\n",
              "      <th>34500</th>\n",
              "      <td>Perfume</td>\n",
              "      <td>Natalia Belitski</td>\n",
              "    </tr>\n",
              "    <tr>\n",
              "      <th>53146</th>\n",
              "      <td>Uncertain Glory</td>\n",
              "      <td>Bruna Cusí</td>\n",
              "    </tr>\n",
              "    <tr>\n",
              "      <th>46165</th>\n",
              "      <td>The Great British Baking Show: Holidays</td>\n",
              "      <td>Paul Hollywood</td>\n",
              "    </tr>\n",
              "    <tr>\n",
              "      <th>45552</th>\n",
              "      <td>The Exception</td>\n",
              "      <td>Anton Lesser</td>\n",
              "    </tr>\n",
              "    <tr>\n",
              "      <th>54328</th>\n",
              "      <td>Wanderlust</td>\n",
              "      <td>Emma D'Arcy</td>\n",
              "    </tr>\n",
              "  </tbody>\n",
              "</table>\n",
              "</div>\n",
              "    <div class=\"colab-df-buttons\">\n",
              "\n",
              "  <div class=\"colab-df-container\">\n",
              "    <button class=\"colab-df-convert\" onclick=\"convertToInteractive('df-79b5d9fe-c87d-437e-8dcb-ae2b69f81580')\"\n",
              "            title=\"Convert this dataframe to an interactive table.\"\n",
              "            style=\"display:none;\">\n",
              "\n",
              "  <svg xmlns=\"http://www.w3.org/2000/svg\" height=\"24px\" viewBox=\"0 -960 960 960\">\n",
              "    <path d=\"M120-120v-720h720v720H120Zm60-500h600v-160H180v160Zm220 220h160v-160H400v160Zm0 220h160v-160H400v160ZM180-400h160v-160H180v160Zm440 0h160v-160H620v160ZM180-180h160v-160H180v160Zm440 0h160v-160H620v160Z\"/>\n",
              "  </svg>\n",
              "    </button>\n",
              "\n",
              "  <style>\n",
              "    .colab-df-container {\n",
              "      display:flex;\n",
              "      gap: 12px;\n",
              "    }\n",
              "\n",
              "    .colab-df-convert {\n",
              "      background-color: #E8F0FE;\n",
              "      border: none;\n",
              "      border-radius: 50%;\n",
              "      cursor: pointer;\n",
              "      display: none;\n",
              "      fill: #1967D2;\n",
              "      height: 32px;\n",
              "      padding: 0 0 0 0;\n",
              "      width: 32px;\n",
              "    }\n",
              "\n",
              "    .colab-df-convert:hover {\n",
              "      background-color: #E2EBFA;\n",
              "      box-shadow: 0px 1px 2px rgba(60, 64, 67, 0.3), 0px 1px 3px 1px rgba(60, 64, 67, 0.15);\n",
              "      fill: #174EA6;\n",
              "    }\n",
              "\n",
              "    .colab-df-buttons div {\n",
              "      margin-bottom: 4px;\n",
              "    }\n",
              "\n",
              "    [theme=dark] .colab-df-convert {\n",
              "      background-color: #3B4455;\n",
              "      fill: #D2E3FC;\n",
              "    }\n",
              "\n",
              "    [theme=dark] .colab-df-convert:hover {\n",
              "      background-color: #434B5C;\n",
              "      box-shadow: 0px 1px 3px 1px rgba(0, 0, 0, 0.15);\n",
              "      filter: drop-shadow(0px 1px 2px rgba(0, 0, 0, 0.3));\n",
              "      fill: #FFFFFF;\n",
              "    }\n",
              "  </style>\n",
              "\n",
              "    <script>\n",
              "      const buttonEl =\n",
              "        document.querySelector('#df-79b5d9fe-c87d-437e-8dcb-ae2b69f81580 button.colab-df-convert');\n",
              "      buttonEl.style.display =\n",
              "        google.colab.kernel.accessAllowed ? 'block' : 'none';\n",
              "\n",
              "      async function convertToInteractive(key) {\n",
              "        const element = document.querySelector('#df-79b5d9fe-c87d-437e-8dcb-ae2b69f81580');\n",
              "        const dataTable =\n",
              "          await google.colab.kernel.invokeFunction('convertToInteractive',\n",
              "                                                    [key], {});\n",
              "        if (!dataTable) return;\n",
              "\n",
              "        const docLinkHtml = 'Like what you see? Visit the ' +\n",
              "          '<a target=\"_blank\" href=https://colab.research.google.com/notebooks/data_table.ipynb>data table notebook</a>'\n",
              "          + ' to learn more about interactive tables.';\n",
              "        element.innerHTML = '';\n",
              "        dataTable['output_type'] = 'display_data';\n",
              "        await google.colab.output.renderOutput(dataTable, element);\n",
              "        const docLink = document.createElement('div');\n",
              "        docLink.innerHTML = docLinkHtml;\n",
              "        element.appendChild(docLink);\n",
              "      }\n",
              "    </script>\n",
              "  </div>\n",
              "\n",
              "\n",
              "<div id=\"df-0d0c3d5e-27bb-430b-80f9-3ea36aa89e22\">\n",
              "  <button class=\"colab-df-quickchart\" onclick=\"quickchart('df-0d0c3d5e-27bb-430b-80f9-3ea36aa89e22')\"\n",
              "            title=\"Suggest charts\"\n",
              "            style=\"display:none;\">\n",
              "\n",
              "<svg xmlns=\"http://www.w3.org/2000/svg\" height=\"24px\"viewBox=\"0 0 24 24\"\n",
              "     width=\"24px\">\n",
              "    <g>\n",
              "        <path d=\"M19 3H5c-1.1 0-2 .9-2 2v14c0 1.1.9 2 2 2h14c1.1 0 2-.9 2-2V5c0-1.1-.9-2-2-2zM9 17H7v-7h2v7zm4 0h-2V7h2v10zm4 0h-2v-4h2v4z\"/>\n",
              "    </g>\n",
              "</svg>\n",
              "  </button>\n",
              "\n",
              "<style>\n",
              "  .colab-df-quickchart {\n",
              "      --bg-color: #E8F0FE;\n",
              "      --fill-color: #1967D2;\n",
              "      --hover-bg-color: #E2EBFA;\n",
              "      --hover-fill-color: #174EA6;\n",
              "      --disabled-fill-color: #AAA;\n",
              "      --disabled-bg-color: #DDD;\n",
              "  }\n",
              "\n",
              "  [theme=dark] .colab-df-quickchart {\n",
              "      --bg-color: #3B4455;\n",
              "      --fill-color: #D2E3FC;\n",
              "      --hover-bg-color: #434B5C;\n",
              "      --hover-fill-color: #FFFFFF;\n",
              "      --disabled-bg-color: #3B4455;\n",
              "      --disabled-fill-color: #666;\n",
              "  }\n",
              "\n",
              "  .colab-df-quickchart {\n",
              "    background-color: var(--bg-color);\n",
              "    border: none;\n",
              "    border-radius: 50%;\n",
              "    cursor: pointer;\n",
              "    display: none;\n",
              "    fill: var(--fill-color);\n",
              "    height: 32px;\n",
              "    padding: 0;\n",
              "    width: 32px;\n",
              "  }\n",
              "\n",
              "  .colab-df-quickchart:hover {\n",
              "    background-color: var(--hover-bg-color);\n",
              "    box-shadow: 0 1px 2px rgba(60, 64, 67, 0.3), 0 1px 3px 1px rgba(60, 64, 67, 0.15);\n",
              "    fill: var(--button-hover-fill-color);\n",
              "  }\n",
              "\n",
              "  .colab-df-quickchart-complete:disabled,\n",
              "  .colab-df-quickchart-complete:disabled:hover {\n",
              "    background-color: var(--disabled-bg-color);\n",
              "    fill: var(--disabled-fill-color);\n",
              "    box-shadow: none;\n",
              "  }\n",
              "\n",
              "  .colab-df-spinner {\n",
              "    border: 2px solid var(--fill-color);\n",
              "    border-color: transparent;\n",
              "    border-bottom-color: var(--fill-color);\n",
              "    animation:\n",
              "      spin 1s steps(1) infinite;\n",
              "  }\n",
              "\n",
              "  @keyframes spin {\n",
              "    0% {\n",
              "      border-color: transparent;\n",
              "      border-bottom-color: var(--fill-color);\n",
              "      border-left-color: var(--fill-color);\n",
              "    }\n",
              "    20% {\n",
              "      border-color: transparent;\n",
              "      border-left-color: var(--fill-color);\n",
              "      border-top-color: var(--fill-color);\n",
              "    }\n",
              "    30% {\n",
              "      border-color: transparent;\n",
              "      border-left-color: var(--fill-color);\n",
              "      border-top-color: var(--fill-color);\n",
              "      border-right-color: var(--fill-color);\n",
              "    }\n",
              "    40% {\n",
              "      border-color: transparent;\n",
              "      border-right-color: var(--fill-color);\n",
              "      border-top-color: var(--fill-color);\n",
              "    }\n",
              "    60% {\n",
              "      border-color: transparent;\n",
              "      border-right-color: var(--fill-color);\n",
              "    }\n",
              "    80% {\n",
              "      border-color: transparent;\n",
              "      border-right-color: var(--fill-color);\n",
              "      border-bottom-color: var(--fill-color);\n",
              "    }\n",
              "    90% {\n",
              "      border-color: transparent;\n",
              "      border-bottom-color: var(--fill-color);\n",
              "    }\n",
              "  }\n",
              "</style>\n",
              "\n",
              "  <script>\n",
              "    async function quickchart(key) {\n",
              "      const quickchartButtonEl =\n",
              "        document.querySelector('#' + key + ' button');\n",
              "      quickchartButtonEl.disabled = true;  // To prevent multiple clicks.\n",
              "      quickchartButtonEl.classList.add('colab-df-spinner');\n",
              "      try {\n",
              "        const charts = await google.colab.kernel.invokeFunction(\n",
              "            'suggestCharts', [key], {});\n",
              "      } catch (error) {\n",
              "        console.error('Error during call to suggestCharts:', error);\n",
              "      }\n",
              "      quickchartButtonEl.classList.remove('colab-df-spinner');\n",
              "      quickchartButtonEl.classList.add('colab-df-quickchart-complete');\n",
              "    }\n",
              "    (() => {\n",
              "      let quickchartButtonEl =\n",
              "        document.querySelector('#df-0d0c3d5e-27bb-430b-80f9-3ea36aa89e22 button');\n",
              "      quickchartButtonEl.style.display =\n",
              "        google.colab.kernel.accessAllowed ? 'block' : 'none';\n",
              "    })();\n",
              "  </script>\n",
              "</div>\n",
              "\n",
              "    </div>\n",
              "  </div>\n"
            ]
          },
          "metadata": {},
          "execution_count": 110
        }
      ]
    },
    {
      "cell_type": "code",
      "source": [
        "df2.shape"
      ],
      "metadata": {
        "colab": {
          "base_uri": "https://localhost:8080/"
        },
        "id": "KhukX19BIAUr",
        "outputId": "9f944364-2d91-4be7-91eb-e5a14c40ea15"
      },
      "execution_count": 111,
      "outputs": [
        {
          "output_type": "execute_result",
          "data": {
            "text/plain": [
              "(56563, 2)"
            ]
          },
          "metadata": {},
          "execution_count": 111
        }
      ]
    },
    {
      "cell_type": "code",
      "source": [
        "# Unnesting 'listed_in' column\n",
        "lst=df['listed_in'].apply(lambda x: str(x).split(', ')).tolist()\n",
        "df3 = pd.DataFrame(lst, index = df['title'])\n",
        "df3 = df3.stack()\n",
        "df3 = pd.DataFrame(df3.reset_index())\n",
        "df3.rename(columns={0:'Genre'},inplace=True)\n",
        "df3 = df3.drop(['level_1'],axis=1)\n",
        "df3.sample(10)"
      ],
      "metadata": {
        "colab": {
          "base_uri": "https://localhost:8080/",
          "height": 363
        },
        "id": "q0-hwSY7IARK",
        "outputId": "e56e78e9-287d-4098-a4d5-d44f5ff586eb"
      },
      "execution_count": 112,
      "outputs": [
        {
          "output_type": "execute_result",
          "data": {
            "text/plain": [
              "                      title                     Genre\n",
              "16483  Westerplatte Resists                    Dramas\n",
              "9333                 Mucize                    Dramas\n",
              "13147         Tellur Aliens  Children & Family Movies\n",
              "11182       Raya and Sakina      International Movies\n",
              "12455           Sol Levante      International Movies\n",
              "522                   A Sun        Independent Movies\n",
              "12723    Stonehearst Asylum                 Thrillers\n",
              "7049                Juanita           Romantic Movies\n",
              "12749       Stranger Things              TV Mysteries\n",
              "8500      Making Unorthodox             Documentaries"
            ],
            "text/html": [
              "\n",
              "  <div id=\"df-33de7913-4930-4243-9f0a-ccfdf09139cd\" class=\"colab-df-container\">\n",
              "    <div>\n",
              "<style scoped>\n",
              "    .dataframe tbody tr th:only-of-type {\n",
              "        vertical-align: middle;\n",
              "    }\n",
              "\n",
              "    .dataframe tbody tr th {\n",
              "        vertical-align: top;\n",
              "    }\n",
              "\n",
              "    .dataframe thead th {\n",
              "        text-align: right;\n",
              "    }\n",
              "</style>\n",
              "<table border=\"1\" class=\"dataframe\">\n",
              "  <thead>\n",
              "    <tr style=\"text-align: right;\">\n",
              "      <th></th>\n",
              "      <th>title</th>\n",
              "      <th>Genre</th>\n",
              "    </tr>\n",
              "  </thead>\n",
              "  <tbody>\n",
              "    <tr>\n",
              "      <th>16483</th>\n",
              "      <td>Westerplatte Resists</td>\n",
              "      <td>Dramas</td>\n",
              "    </tr>\n",
              "    <tr>\n",
              "      <th>9333</th>\n",
              "      <td>Mucize</td>\n",
              "      <td>Dramas</td>\n",
              "    </tr>\n",
              "    <tr>\n",
              "      <th>13147</th>\n",
              "      <td>Tellur Aliens</td>\n",
              "      <td>Children &amp; Family Movies</td>\n",
              "    </tr>\n",
              "    <tr>\n",
              "      <th>11182</th>\n",
              "      <td>Raya and Sakina</td>\n",
              "      <td>International Movies</td>\n",
              "    </tr>\n",
              "    <tr>\n",
              "      <th>12455</th>\n",
              "      <td>Sol Levante</td>\n",
              "      <td>International Movies</td>\n",
              "    </tr>\n",
              "    <tr>\n",
              "      <th>522</th>\n",
              "      <td>A Sun</td>\n",
              "      <td>Independent Movies</td>\n",
              "    </tr>\n",
              "    <tr>\n",
              "      <th>12723</th>\n",
              "      <td>Stonehearst Asylum</td>\n",
              "      <td>Thrillers</td>\n",
              "    </tr>\n",
              "    <tr>\n",
              "      <th>7049</th>\n",
              "      <td>Juanita</td>\n",
              "      <td>Romantic Movies</td>\n",
              "    </tr>\n",
              "    <tr>\n",
              "      <th>12749</th>\n",
              "      <td>Stranger Things</td>\n",
              "      <td>TV Mysteries</td>\n",
              "    </tr>\n",
              "    <tr>\n",
              "      <th>8500</th>\n",
              "      <td>Making Unorthodox</td>\n",
              "      <td>Documentaries</td>\n",
              "    </tr>\n",
              "  </tbody>\n",
              "</table>\n",
              "</div>\n",
              "    <div class=\"colab-df-buttons\">\n",
              "\n",
              "  <div class=\"colab-df-container\">\n",
              "    <button class=\"colab-df-convert\" onclick=\"convertToInteractive('df-33de7913-4930-4243-9f0a-ccfdf09139cd')\"\n",
              "            title=\"Convert this dataframe to an interactive table.\"\n",
              "            style=\"display:none;\">\n",
              "\n",
              "  <svg xmlns=\"http://www.w3.org/2000/svg\" height=\"24px\" viewBox=\"0 -960 960 960\">\n",
              "    <path d=\"M120-120v-720h720v720H120Zm60-500h600v-160H180v160Zm220 220h160v-160H400v160Zm0 220h160v-160H400v160ZM180-400h160v-160H180v160Zm440 0h160v-160H620v160ZM180-180h160v-160H180v160Zm440 0h160v-160H620v160Z\"/>\n",
              "  </svg>\n",
              "    </button>\n",
              "\n",
              "  <style>\n",
              "    .colab-df-container {\n",
              "      display:flex;\n",
              "      gap: 12px;\n",
              "    }\n",
              "\n",
              "    .colab-df-convert {\n",
              "      background-color: #E8F0FE;\n",
              "      border: none;\n",
              "      border-radius: 50%;\n",
              "      cursor: pointer;\n",
              "      display: none;\n",
              "      fill: #1967D2;\n",
              "      height: 32px;\n",
              "      padding: 0 0 0 0;\n",
              "      width: 32px;\n",
              "    }\n",
              "\n",
              "    .colab-df-convert:hover {\n",
              "      background-color: #E2EBFA;\n",
              "      box-shadow: 0px 1px 2px rgba(60, 64, 67, 0.3), 0px 1px 3px 1px rgba(60, 64, 67, 0.15);\n",
              "      fill: #174EA6;\n",
              "    }\n",
              "\n",
              "    .colab-df-buttons div {\n",
              "      margin-bottom: 4px;\n",
              "    }\n",
              "\n",
              "    [theme=dark] .colab-df-convert {\n",
              "      background-color: #3B4455;\n",
              "      fill: #D2E3FC;\n",
              "    }\n",
              "\n",
              "    [theme=dark] .colab-df-convert:hover {\n",
              "      background-color: #434B5C;\n",
              "      box-shadow: 0px 1px 3px 1px rgba(0, 0, 0, 0.15);\n",
              "      filter: drop-shadow(0px 1px 2px rgba(0, 0, 0, 0.3));\n",
              "      fill: #FFFFFF;\n",
              "    }\n",
              "  </style>\n",
              "\n",
              "    <script>\n",
              "      const buttonEl =\n",
              "        document.querySelector('#df-33de7913-4930-4243-9f0a-ccfdf09139cd button.colab-df-convert');\n",
              "      buttonEl.style.display =\n",
              "        google.colab.kernel.accessAllowed ? 'block' : 'none';\n",
              "\n",
              "      async function convertToInteractive(key) {\n",
              "        const element = document.querySelector('#df-33de7913-4930-4243-9f0a-ccfdf09139cd');\n",
              "        const dataTable =\n",
              "          await google.colab.kernel.invokeFunction('convertToInteractive',\n",
              "                                                    [key], {});\n",
              "        if (!dataTable) return;\n",
              "\n",
              "        const docLinkHtml = 'Like what you see? Visit the ' +\n",
              "          '<a target=\"_blank\" href=https://colab.research.google.com/notebooks/data_table.ipynb>data table notebook</a>'\n",
              "          + ' to learn more about interactive tables.';\n",
              "        element.innerHTML = '';\n",
              "        dataTable['output_type'] = 'display_data';\n",
              "        await google.colab.output.renderOutput(dataTable, element);\n",
              "        const docLink = document.createElement('div');\n",
              "        docLink.innerHTML = docLinkHtml;\n",
              "        element.appendChild(docLink);\n",
              "      }\n",
              "    </script>\n",
              "  </div>\n",
              "\n",
              "\n",
              "<div id=\"df-665c512f-6882-457c-95c0-c6cecbcc6d12\">\n",
              "  <button class=\"colab-df-quickchart\" onclick=\"quickchart('df-665c512f-6882-457c-95c0-c6cecbcc6d12')\"\n",
              "            title=\"Suggest charts\"\n",
              "            style=\"display:none;\">\n",
              "\n",
              "<svg xmlns=\"http://www.w3.org/2000/svg\" height=\"24px\"viewBox=\"0 0 24 24\"\n",
              "     width=\"24px\">\n",
              "    <g>\n",
              "        <path d=\"M19 3H5c-1.1 0-2 .9-2 2v14c0 1.1.9 2 2 2h14c1.1 0 2-.9 2-2V5c0-1.1-.9-2-2-2zM9 17H7v-7h2v7zm4 0h-2V7h2v10zm4 0h-2v-4h2v4z\"/>\n",
              "    </g>\n",
              "</svg>\n",
              "  </button>\n",
              "\n",
              "<style>\n",
              "  .colab-df-quickchart {\n",
              "      --bg-color: #E8F0FE;\n",
              "      --fill-color: #1967D2;\n",
              "      --hover-bg-color: #E2EBFA;\n",
              "      --hover-fill-color: #174EA6;\n",
              "      --disabled-fill-color: #AAA;\n",
              "      --disabled-bg-color: #DDD;\n",
              "  }\n",
              "\n",
              "  [theme=dark] .colab-df-quickchart {\n",
              "      --bg-color: #3B4455;\n",
              "      --fill-color: #D2E3FC;\n",
              "      --hover-bg-color: #434B5C;\n",
              "      --hover-fill-color: #FFFFFF;\n",
              "      --disabled-bg-color: #3B4455;\n",
              "      --disabled-fill-color: #666;\n",
              "  }\n",
              "\n",
              "  .colab-df-quickchart {\n",
              "    background-color: var(--bg-color);\n",
              "    border: none;\n",
              "    border-radius: 50%;\n",
              "    cursor: pointer;\n",
              "    display: none;\n",
              "    fill: var(--fill-color);\n",
              "    height: 32px;\n",
              "    padding: 0;\n",
              "    width: 32px;\n",
              "  }\n",
              "\n",
              "  .colab-df-quickchart:hover {\n",
              "    background-color: var(--hover-bg-color);\n",
              "    box-shadow: 0 1px 2px rgba(60, 64, 67, 0.3), 0 1px 3px 1px rgba(60, 64, 67, 0.15);\n",
              "    fill: var(--button-hover-fill-color);\n",
              "  }\n",
              "\n",
              "  .colab-df-quickchart-complete:disabled,\n",
              "  .colab-df-quickchart-complete:disabled:hover {\n",
              "    background-color: var(--disabled-bg-color);\n",
              "    fill: var(--disabled-fill-color);\n",
              "    box-shadow: none;\n",
              "  }\n",
              "\n",
              "  .colab-df-spinner {\n",
              "    border: 2px solid var(--fill-color);\n",
              "    border-color: transparent;\n",
              "    border-bottom-color: var(--fill-color);\n",
              "    animation:\n",
              "      spin 1s steps(1) infinite;\n",
              "  }\n",
              "\n",
              "  @keyframes spin {\n",
              "    0% {\n",
              "      border-color: transparent;\n",
              "      border-bottom-color: var(--fill-color);\n",
              "      border-left-color: var(--fill-color);\n",
              "    }\n",
              "    20% {\n",
              "      border-color: transparent;\n",
              "      border-left-color: var(--fill-color);\n",
              "      border-top-color: var(--fill-color);\n",
              "    }\n",
              "    30% {\n",
              "      border-color: transparent;\n",
              "      border-left-color: var(--fill-color);\n",
              "      border-top-color: var(--fill-color);\n",
              "      border-right-color: var(--fill-color);\n",
              "    }\n",
              "    40% {\n",
              "      border-color: transparent;\n",
              "      border-right-color: var(--fill-color);\n",
              "      border-top-color: var(--fill-color);\n",
              "    }\n",
              "    60% {\n",
              "      border-color: transparent;\n",
              "      border-right-color: var(--fill-color);\n",
              "    }\n",
              "    80% {\n",
              "      border-color: transparent;\n",
              "      border-right-color: var(--fill-color);\n",
              "      border-bottom-color: var(--fill-color);\n",
              "    }\n",
              "    90% {\n",
              "      border-color: transparent;\n",
              "      border-bottom-color: var(--fill-color);\n",
              "    }\n",
              "  }\n",
              "</style>\n",
              "\n",
              "  <script>\n",
              "    async function quickchart(key) {\n",
              "      const quickchartButtonEl =\n",
              "        document.querySelector('#' + key + ' button');\n",
              "      quickchartButtonEl.disabled = true;  // To prevent multiple clicks.\n",
              "      quickchartButtonEl.classList.add('colab-df-spinner');\n",
              "      try {\n",
              "        const charts = await google.colab.kernel.invokeFunction(\n",
              "            'suggestCharts', [key], {});\n",
              "      } catch (error) {\n",
              "        console.error('Error during call to suggestCharts:', error);\n",
              "      }\n",
              "      quickchartButtonEl.classList.remove('colab-df-spinner');\n",
              "      quickchartButtonEl.classList.add('colab-df-quickchart-complete');\n",
              "    }\n",
              "    (() => {\n",
              "      let quickchartButtonEl =\n",
              "        document.querySelector('#df-665c512f-6882-457c-95c0-c6cecbcc6d12 button');\n",
              "      quickchartButtonEl.style.display =\n",
              "        google.colab.kernel.accessAllowed ? 'block' : 'none';\n",
              "    })();\n",
              "  </script>\n",
              "</div>\n",
              "\n",
              "    </div>\n",
              "  </div>\n"
            ]
          },
          "metadata": {},
          "execution_count": 112
        }
      ]
    },
    {
      "cell_type": "code",
      "source": [
        "df3.shape"
      ],
      "metadata": {
        "colab": {
          "base_uri": "https://localhost:8080/"
        },
        "id": "KHNSPT4OIAMY",
        "outputId": "86381de6-b815-4e52-8c96-02c8c404b71c"
      },
      "execution_count": 113,
      "outputs": [
        {
          "output_type": "execute_result",
          "data": {
            "text/plain": [
              "(17042, 2)"
            ]
          },
          "metadata": {},
          "execution_count": 113
        }
      ]
    },
    {
      "cell_type": "code",
      "source": [
        "# Unnesting 'country' column\n",
        "country=df['country'].apply(lambda x: str(x).split(', ')).tolist()\n",
        "df4 = pd.DataFrame(country, index = df['title'])\n",
        "df4 = df4.stack()\n",
        "df4 = pd.DataFrame(df4.reset_index())\n",
        "df4.rename(columns={0:'Country'},inplace=True)\n",
        "df4 = df4.drop(['level_1'],axis=1)\n",
        "df4.sample(10)"
      ],
      "metadata": {
        "colab": {
          "base_uri": "https://localhost:8080/",
          "height": 363
        },
        "id": "GxfYQP75KxMn",
        "outputId": "b1946bb7-496f-44af-cd77-f7497e177afe"
      },
      "execution_count": 114,
      "outputs": [
        {
          "output_type": "execute_result",
          "data": {
            "text/plain": [
              "                                        title         Country\n",
              "6289                            Ripper Street  United Kingdom\n",
              "4432                     Little Dragon Maiden       Hong Kong\n",
              "3500              Huntik: Secrets and Seekers           Italy\n",
              "4141                       Knights of Sidonia           Japan\n",
              "7786  The Great British Baking Show: Holidays   United States\n",
              "2094                            Devil's Bride          Norway\n",
              "7883                               The Inmate          Mexico\n",
              "1333                                   Breath       Australia\n",
              "3480                                     Hugo          France\n",
              "5142                           Mujeres arriba           Chile"
            ],
            "text/html": [
              "\n",
              "  <div id=\"df-b526787a-6337-4744-9fe9-76af032f3474\" class=\"colab-df-container\">\n",
              "    <div>\n",
              "<style scoped>\n",
              "    .dataframe tbody tr th:only-of-type {\n",
              "        vertical-align: middle;\n",
              "    }\n",
              "\n",
              "    .dataframe tbody tr th {\n",
              "        vertical-align: top;\n",
              "    }\n",
              "\n",
              "    .dataframe thead th {\n",
              "        text-align: right;\n",
              "    }\n",
              "</style>\n",
              "<table border=\"1\" class=\"dataframe\">\n",
              "  <thead>\n",
              "    <tr style=\"text-align: right;\">\n",
              "      <th></th>\n",
              "      <th>title</th>\n",
              "      <th>Country</th>\n",
              "    </tr>\n",
              "  </thead>\n",
              "  <tbody>\n",
              "    <tr>\n",
              "      <th>6289</th>\n",
              "      <td>Ripper Street</td>\n",
              "      <td>United Kingdom</td>\n",
              "    </tr>\n",
              "    <tr>\n",
              "      <th>4432</th>\n",
              "      <td>Little Dragon Maiden</td>\n",
              "      <td>Hong Kong</td>\n",
              "    </tr>\n",
              "    <tr>\n",
              "      <th>3500</th>\n",
              "      <td>Huntik: Secrets and Seekers</td>\n",
              "      <td>Italy</td>\n",
              "    </tr>\n",
              "    <tr>\n",
              "      <th>4141</th>\n",
              "      <td>Knights of Sidonia</td>\n",
              "      <td>Japan</td>\n",
              "    </tr>\n",
              "    <tr>\n",
              "      <th>7786</th>\n",
              "      <td>The Great British Baking Show: Holidays</td>\n",
              "      <td>United States</td>\n",
              "    </tr>\n",
              "    <tr>\n",
              "      <th>2094</th>\n",
              "      <td>Devil's Bride</td>\n",
              "      <td>Norway</td>\n",
              "    </tr>\n",
              "    <tr>\n",
              "      <th>7883</th>\n",
              "      <td>The Inmate</td>\n",
              "      <td>Mexico</td>\n",
              "    </tr>\n",
              "    <tr>\n",
              "      <th>1333</th>\n",
              "      <td>Breath</td>\n",
              "      <td>Australia</td>\n",
              "    </tr>\n",
              "    <tr>\n",
              "      <th>3480</th>\n",
              "      <td>Hugo</td>\n",
              "      <td>France</td>\n",
              "    </tr>\n",
              "    <tr>\n",
              "      <th>5142</th>\n",
              "      <td>Mujeres arriba</td>\n",
              "      <td>Chile</td>\n",
              "    </tr>\n",
              "  </tbody>\n",
              "</table>\n",
              "</div>\n",
              "    <div class=\"colab-df-buttons\">\n",
              "\n",
              "  <div class=\"colab-df-container\">\n",
              "    <button class=\"colab-df-convert\" onclick=\"convertToInteractive('df-b526787a-6337-4744-9fe9-76af032f3474')\"\n",
              "            title=\"Convert this dataframe to an interactive table.\"\n",
              "            style=\"display:none;\">\n",
              "\n",
              "  <svg xmlns=\"http://www.w3.org/2000/svg\" height=\"24px\" viewBox=\"0 -960 960 960\">\n",
              "    <path d=\"M120-120v-720h720v720H120Zm60-500h600v-160H180v160Zm220 220h160v-160H400v160Zm0 220h160v-160H400v160ZM180-400h160v-160H180v160Zm440 0h160v-160H620v160ZM180-180h160v-160H180v160Zm440 0h160v-160H620v160Z\"/>\n",
              "  </svg>\n",
              "    </button>\n",
              "\n",
              "  <style>\n",
              "    .colab-df-container {\n",
              "      display:flex;\n",
              "      gap: 12px;\n",
              "    }\n",
              "\n",
              "    .colab-df-convert {\n",
              "      background-color: #E8F0FE;\n",
              "      border: none;\n",
              "      border-radius: 50%;\n",
              "      cursor: pointer;\n",
              "      display: none;\n",
              "      fill: #1967D2;\n",
              "      height: 32px;\n",
              "      padding: 0 0 0 0;\n",
              "      width: 32px;\n",
              "    }\n",
              "\n",
              "    .colab-df-convert:hover {\n",
              "      background-color: #E2EBFA;\n",
              "      box-shadow: 0px 1px 2px rgba(60, 64, 67, 0.3), 0px 1px 3px 1px rgba(60, 64, 67, 0.15);\n",
              "      fill: #174EA6;\n",
              "    }\n",
              "\n",
              "    .colab-df-buttons div {\n",
              "      margin-bottom: 4px;\n",
              "    }\n",
              "\n",
              "    [theme=dark] .colab-df-convert {\n",
              "      background-color: #3B4455;\n",
              "      fill: #D2E3FC;\n",
              "    }\n",
              "\n",
              "    [theme=dark] .colab-df-convert:hover {\n",
              "      background-color: #434B5C;\n",
              "      box-shadow: 0px 1px 3px 1px rgba(0, 0, 0, 0.15);\n",
              "      filter: drop-shadow(0px 1px 2px rgba(0, 0, 0, 0.3));\n",
              "      fill: #FFFFFF;\n",
              "    }\n",
              "  </style>\n",
              "\n",
              "    <script>\n",
              "      const buttonEl =\n",
              "        document.querySelector('#df-b526787a-6337-4744-9fe9-76af032f3474 button.colab-df-convert');\n",
              "      buttonEl.style.display =\n",
              "        google.colab.kernel.accessAllowed ? 'block' : 'none';\n",
              "\n",
              "      async function convertToInteractive(key) {\n",
              "        const element = document.querySelector('#df-b526787a-6337-4744-9fe9-76af032f3474');\n",
              "        const dataTable =\n",
              "          await google.colab.kernel.invokeFunction('convertToInteractive',\n",
              "                                                    [key], {});\n",
              "        if (!dataTable) return;\n",
              "\n",
              "        const docLinkHtml = 'Like what you see? Visit the ' +\n",
              "          '<a target=\"_blank\" href=https://colab.research.google.com/notebooks/data_table.ipynb>data table notebook</a>'\n",
              "          + ' to learn more about interactive tables.';\n",
              "        element.innerHTML = '';\n",
              "        dataTable['output_type'] = 'display_data';\n",
              "        await google.colab.output.renderOutput(dataTable, element);\n",
              "        const docLink = document.createElement('div');\n",
              "        docLink.innerHTML = docLinkHtml;\n",
              "        element.appendChild(docLink);\n",
              "      }\n",
              "    </script>\n",
              "  </div>\n",
              "\n",
              "\n",
              "<div id=\"df-ce26a6f3-e29c-4226-ba3e-1304fb8a87a9\">\n",
              "  <button class=\"colab-df-quickchart\" onclick=\"quickchart('df-ce26a6f3-e29c-4226-ba3e-1304fb8a87a9')\"\n",
              "            title=\"Suggest charts\"\n",
              "            style=\"display:none;\">\n",
              "\n",
              "<svg xmlns=\"http://www.w3.org/2000/svg\" height=\"24px\"viewBox=\"0 0 24 24\"\n",
              "     width=\"24px\">\n",
              "    <g>\n",
              "        <path d=\"M19 3H5c-1.1 0-2 .9-2 2v14c0 1.1.9 2 2 2h14c1.1 0 2-.9 2-2V5c0-1.1-.9-2-2-2zM9 17H7v-7h2v7zm4 0h-2V7h2v10zm4 0h-2v-4h2v4z\"/>\n",
              "    </g>\n",
              "</svg>\n",
              "  </button>\n",
              "\n",
              "<style>\n",
              "  .colab-df-quickchart {\n",
              "      --bg-color: #E8F0FE;\n",
              "      --fill-color: #1967D2;\n",
              "      --hover-bg-color: #E2EBFA;\n",
              "      --hover-fill-color: #174EA6;\n",
              "      --disabled-fill-color: #AAA;\n",
              "      --disabled-bg-color: #DDD;\n",
              "  }\n",
              "\n",
              "  [theme=dark] .colab-df-quickchart {\n",
              "      --bg-color: #3B4455;\n",
              "      --fill-color: #D2E3FC;\n",
              "      --hover-bg-color: #434B5C;\n",
              "      --hover-fill-color: #FFFFFF;\n",
              "      --disabled-bg-color: #3B4455;\n",
              "      --disabled-fill-color: #666;\n",
              "  }\n",
              "\n",
              "  .colab-df-quickchart {\n",
              "    background-color: var(--bg-color);\n",
              "    border: none;\n",
              "    border-radius: 50%;\n",
              "    cursor: pointer;\n",
              "    display: none;\n",
              "    fill: var(--fill-color);\n",
              "    height: 32px;\n",
              "    padding: 0;\n",
              "    width: 32px;\n",
              "  }\n",
              "\n",
              "  .colab-df-quickchart:hover {\n",
              "    background-color: var(--hover-bg-color);\n",
              "    box-shadow: 0 1px 2px rgba(60, 64, 67, 0.3), 0 1px 3px 1px rgba(60, 64, 67, 0.15);\n",
              "    fill: var(--button-hover-fill-color);\n",
              "  }\n",
              "\n",
              "  .colab-df-quickchart-complete:disabled,\n",
              "  .colab-df-quickchart-complete:disabled:hover {\n",
              "    background-color: var(--disabled-bg-color);\n",
              "    fill: var(--disabled-fill-color);\n",
              "    box-shadow: none;\n",
              "  }\n",
              "\n",
              "  .colab-df-spinner {\n",
              "    border: 2px solid var(--fill-color);\n",
              "    border-color: transparent;\n",
              "    border-bottom-color: var(--fill-color);\n",
              "    animation:\n",
              "      spin 1s steps(1) infinite;\n",
              "  }\n",
              "\n",
              "  @keyframes spin {\n",
              "    0% {\n",
              "      border-color: transparent;\n",
              "      border-bottom-color: var(--fill-color);\n",
              "      border-left-color: var(--fill-color);\n",
              "    }\n",
              "    20% {\n",
              "      border-color: transparent;\n",
              "      border-left-color: var(--fill-color);\n",
              "      border-top-color: var(--fill-color);\n",
              "    }\n",
              "    30% {\n",
              "      border-color: transparent;\n",
              "      border-left-color: var(--fill-color);\n",
              "      border-top-color: var(--fill-color);\n",
              "      border-right-color: var(--fill-color);\n",
              "    }\n",
              "    40% {\n",
              "      border-color: transparent;\n",
              "      border-right-color: var(--fill-color);\n",
              "      border-top-color: var(--fill-color);\n",
              "    }\n",
              "    60% {\n",
              "      border-color: transparent;\n",
              "      border-right-color: var(--fill-color);\n",
              "    }\n",
              "    80% {\n",
              "      border-color: transparent;\n",
              "      border-right-color: var(--fill-color);\n",
              "      border-bottom-color: var(--fill-color);\n",
              "    }\n",
              "    90% {\n",
              "      border-color: transparent;\n",
              "      border-bottom-color: var(--fill-color);\n",
              "    }\n",
              "  }\n",
              "</style>\n",
              "\n",
              "  <script>\n",
              "    async function quickchart(key) {\n",
              "      const quickchartButtonEl =\n",
              "        document.querySelector('#' + key + ' button');\n",
              "      quickchartButtonEl.disabled = true;  // To prevent multiple clicks.\n",
              "      quickchartButtonEl.classList.add('colab-df-spinner');\n",
              "      try {\n",
              "        const charts = await google.colab.kernel.invokeFunction(\n",
              "            'suggestCharts', [key], {});\n",
              "      } catch (error) {\n",
              "        console.error('Error during call to suggestCharts:', error);\n",
              "      }\n",
              "      quickchartButtonEl.classList.remove('colab-df-spinner');\n",
              "      quickchartButtonEl.classList.add('colab-df-quickchart-complete');\n",
              "    }\n",
              "    (() => {\n",
              "      let quickchartButtonEl =\n",
              "        document.querySelector('#df-ce26a6f3-e29c-4226-ba3e-1304fb8a87a9 button');\n",
              "      quickchartButtonEl.style.display =\n",
              "        google.colab.kernel.accessAllowed ? 'block' : 'none';\n",
              "    })();\n",
              "  </script>\n",
              "</div>\n",
              "\n",
              "    </div>\n",
              "  </div>\n"
            ]
          },
          "metadata": {},
          "execution_count": 114
        }
      ]
    },
    {
      "cell_type": "code",
      "source": [
        "df4.shape"
      ],
      "metadata": {
        "colab": {
          "base_uri": "https://localhost:8080/"
        },
        "id": "W0N5jPgGKxHB",
        "outputId": "308dc2ad-c1de-49d5-8d3f-863750572f12"
      },
      "execution_count": 115,
      "outputs": [
        {
          "output_type": "execute_result",
          "data": {
            "text/plain": [
              "(9553, 2)"
            ]
          },
          "metadata": {},
          "execution_count": 115
        }
      ]
    },
    {
      "cell_type": "code",
      "source": [
        "# Merging all the unnested dataframes\n",
        "\n",
        "# Merging director and cast\n",
        "df5 = df2.merge(df1,on=['title'],how='inner')\n",
        "\n",
        "# Merging listed_in with merged of (director and cast)\n",
        "df6 = df5.merge(df3,on=['title'],how='inner')\n",
        "\n",
        "# Merging country with merged of [listed_in with merged of (director and cast)]\n",
        "df7 = df6.merge(df4,on=['title'],how='inner')\n",
        "\n",
        "# Head of final merged dataframe\n",
        "df7.head()"
      ],
      "metadata": {
        "colab": {
          "base_uri": "https://localhost:8080/",
          "height": 206
        },
        "id": "ar7LOGBYLCEU",
        "outputId": "975afc71-ab2a-435f-c7c2-e555138ab708"
      },
      "execution_count": 116,
      "outputs": [
        {
          "output_type": "execute_result",
          "data": {
            "text/plain": [
              "  title             Actors Directors                   Genre Country\n",
              "0    3%        João Miguel   Unknown  International TV Shows  Brazil\n",
              "1    3%        João Miguel   Unknown               TV Dramas  Brazil\n",
              "2    3%        João Miguel   Unknown     TV Sci-Fi & Fantasy  Brazil\n",
              "3    3%   Bianca Comparato   Unknown  International TV Shows  Brazil\n",
              "4    3%   Bianca Comparato   Unknown               TV Dramas  Brazil"
            ],
            "text/html": [
              "\n",
              "  <div id=\"df-fb2f5199-db57-4524-b8ec-651914375aa6\" class=\"colab-df-container\">\n",
              "    <div>\n",
              "<style scoped>\n",
              "    .dataframe tbody tr th:only-of-type {\n",
              "        vertical-align: middle;\n",
              "    }\n",
              "\n",
              "    .dataframe tbody tr th {\n",
              "        vertical-align: top;\n",
              "    }\n",
              "\n",
              "    .dataframe thead th {\n",
              "        text-align: right;\n",
              "    }\n",
              "</style>\n",
              "<table border=\"1\" class=\"dataframe\">\n",
              "  <thead>\n",
              "    <tr style=\"text-align: right;\">\n",
              "      <th></th>\n",
              "      <th>title</th>\n",
              "      <th>Actors</th>\n",
              "      <th>Directors</th>\n",
              "      <th>Genre</th>\n",
              "      <th>Country</th>\n",
              "    </tr>\n",
              "  </thead>\n",
              "  <tbody>\n",
              "    <tr>\n",
              "      <th>0</th>\n",
              "      <td>3%</td>\n",
              "      <td>João Miguel</td>\n",
              "      <td>Unknown</td>\n",
              "      <td>International TV Shows</td>\n",
              "      <td>Brazil</td>\n",
              "    </tr>\n",
              "    <tr>\n",
              "      <th>1</th>\n",
              "      <td>3%</td>\n",
              "      <td>João Miguel</td>\n",
              "      <td>Unknown</td>\n",
              "      <td>TV Dramas</td>\n",
              "      <td>Brazil</td>\n",
              "    </tr>\n",
              "    <tr>\n",
              "      <th>2</th>\n",
              "      <td>3%</td>\n",
              "      <td>João Miguel</td>\n",
              "      <td>Unknown</td>\n",
              "      <td>TV Sci-Fi &amp; Fantasy</td>\n",
              "      <td>Brazil</td>\n",
              "    </tr>\n",
              "    <tr>\n",
              "      <th>3</th>\n",
              "      <td>3%</td>\n",
              "      <td>Bianca Comparato</td>\n",
              "      <td>Unknown</td>\n",
              "      <td>International TV Shows</td>\n",
              "      <td>Brazil</td>\n",
              "    </tr>\n",
              "    <tr>\n",
              "      <th>4</th>\n",
              "      <td>3%</td>\n",
              "      <td>Bianca Comparato</td>\n",
              "      <td>Unknown</td>\n",
              "      <td>TV Dramas</td>\n",
              "      <td>Brazil</td>\n",
              "    </tr>\n",
              "  </tbody>\n",
              "</table>\n",
              "</div>\n",
              "    <div class=\"colab-df-buttons\">\n",
              "\n",
              "  <div class=\"colab-df-container\">\n",
              "    <button class=\"colab-df-convert\" onclick=\"convertToInteractive('df-fb2f5199-db57-4524-b8ec-651914375aa6')\"\n",
              "            title=\"Convert this dataframe to an interactive table.\"\n",
              "            style=\"display:none;\">\n",
              "\n",
              "  <svg xmlns=\"http://www.w3.org/2000/svg\" height=\"24px\" viewBox=\"0 -960 960 960\">\n",
              "    <path d=\"M120-120v-720h720v720H120Zm60-500h600v-160H180v160Zm220 220h160v-160H400v160Zm0 220h160v-160H400v160ZM180-400h160v-160H180v160Zm440 0h160v-160H620v160ZM180-180h160v-160H180v160Zm440 0h160v-160H620v160Z\"/>\n",
              "  </svg>\n",
              "    </button>\n",
              "\n",
              "  <style>\n",
              "    .colab-df-container {\n",
              "      display:flex;\n",
              "      gap: 12px;\n",
              "    }\n",
              "\n",
              "    .colab-df-convert {\n",
              "      background-color: #E8F0FE;\n",
              "      border: none;\n",
              "      border-radius: 50%;\n",
              "      cursor: pointer;\n",
              "      display: none;\n",
              "      fill: #1967D2;\n",
              "      height: 32px;\n",
              "      padding: 0 0 0 0;\n",
              "      width: 32px;\n",
              "    }\n",
              "\n",
              "    .colab-df-convert:hover {\n",
              "      background-color: #E2EBFA;\n",
              "      box-shadow: 0px 1px 2px rgba(60, 64, 67, 0.3), 0px 1px 3px 1px rgba(60, 64, 67, 0.15);\n",
              "      fill: #174EA6;\n",
              "    }\n",
              "\n",
              "    .colab-df-buttons div {\n",
              "      margin-bottom: 4px;\n",
              "    }\n",
              "\n",
              "    [theme=dark] .colab-df-convert {\n",
              "      background-color: #3B4455;\n",
              "      fill: #D2E3FC;\n",
              "    }\n",
              "\n",
              "    [theme=dark] .colab-df-convert:hover {\n",
              "      background-color: #434B5C;\n",
              "      box-shadow: 0px 1px 3px 1px rgba(0, 0, 0, 0.15);\n",
              "      filter: drop-shadow(0px 1px 2px rgba(0, 0, 0, 0.3));\n",
              "      fill: #FFFFFF;\n",
              "    }\n",
              "  </style>\n",
              "\n",
              "    <script>\n",
              "      const buttonEl =\n",
              "        document.querySelector('#df-fb2f5199-db57-4524-b8ec-651914375aa6 button.colab-df-convert');\n",
              "      buttonEl.style.display =\n",
              "        google.colab.kernel.accessAllowed ? 'block' : 'none';\n",
              "\n",
              "      async function convertToInteractive(key) {\n",
              "        const element = document.querySelector('#df-fb2f5199-db57-4524-b8ec-651914375aa6');\n",
              "        const dataTable =\n",
              "          await google.colab.kernel.invokeFunction('convertToInteractive',\n",
              "                                                    [key], {});\n",
              "        if (!dataTable) return;\n",
              "\n",
              "        const docLinkHtml = 'Like what you see? Visit the ' +\n",
              "          '<a target=\"_blank\" href=https://colab.research.google.com/notebooks/data_table.ipynb>data table notebook</a>'\n",
              "          + ' to learn more about interactive tables.';\n",
              "        element.innerHTML = '';\n",
              "        dataTable['output_type'] = 'display_data';\n",
              "        await google.colab.output.renderOutput(dataTable, element);\n",
              "        const docLink = document.createElement('div');\n",
              "        docLink.innerHTML = docLinkHtml;\n",
              "        element.appendChild(docLink);\n",
              "      }\n",
              "    </script>\n",
              "  </div>\n",
              "\n",
              "\n",
              "<div id=\"df-011ac8b3-1521-4198-a225-ee676b5674a2\">\n",
              "  <button class=\"colab-df-quickchart\" onclick=\"quickchart('df-011ac8b3-1521-4198-a225-ee676b5674a2')\"\n",
              "            title=\"Suggest charts\"\n",
              "            style=\"display:none;\">\n",
              "\n",
              "<svg xmlns=\"http://www.w3.org/2000/svg\" height=\"24px\"viewBox=\"0 0 24 24\"\n",
              "     width=\"24px\">\n",
              "    <g>\n",
              "        <path d=\"M19 3H5c-1.1 0-2 .9-2 2v14c0 1.1.9 2 2 2h14c1.1 0 2-.9 2-2V5c0-1.1-.9-2-2-2zM9 17H7v-7h2v7zm4 0h-2V7h2v10zm4 0h-2v-4h2v4z\"/>\n",
              "    </g>\n",
              "</svg>\n",
              "  </button>\n",
              "\n",
              "<style>\n",
              "  .colab-df-quickchart {\n",
              "      --bg-color: #E8F0FE;\n",
              "      --fill-color: #1967D2;\n",
              "      --hover-bg-color: #E2EBFA;\n",
              "      --hover-fill-color: #174EA6;\n",
              "      --disabled-fill-color: #AAA;\n",
              "      --disabled-bg-color: #DDD;\n",
              "  }\n",
              "\n",
              "  [theme=dark] .colab-df-quickchart {\n",
              "      --bg-color: #3B4455;\n",
              "      --fill-color: #D2E3FC;\n",
              "      --hover-bg-color: #434B5C;\n",
              "      --hover-fill-color: #FFFFFF;\n",
              "      --disabled-bg-color: #3B4455;\n",
              "      --disabled-fill-color: #666;\n",
              "  }\n",
              "\n",
              "  .colab-df-quickchart {\n",
              "    background-color: var(--bg-color);\n",
              "    border: none;\n",
              "    border-radius: 50%;\n",
              "    cursor: pointer;\n",
              "    display: none;\n",
              "    fill: var(--fill-color);\n",
              "    height: 32px;\n",
              "    padding: 0;\n",
              "    width: 32px;\n",
              "  }\n",
              "\n",
              "  .colab-df-quickchart:hover {\n",
              "    background-color: var(--hover-bg-color);\n",
              "    box-shadow: 0 1px 2px rgba(60, 64, 67, 0.3), 0 1px 3px 1px rgba(60, 64, 67, 0.15);\n",
              "    fill: var(--button-hover-fill-color);\n",
              "  }\n",
              "\n",
              "  .colab-df-quickchart-complete:disabled,\n",
              "  .colab-df-quickchart-complete:disabled:hover {\n",
              "    background-color: var(--disabled-bg-color);\n",
              "    fill: var(--disabled-fill-color);\n",
              "    box-shadow: none;\n",
              "  }\n",
              "\n",
              "  .colab-df-spinner {\n",
              "    border: 2px solid var(--fill-color);\n",
              "    border-color: transparent;\n",
              "    border-bottom-color: var(--fill-color);\n",
              "    animation:\n",
              "      spin 1s steps(1) infinite;\n",
              "  }\n",
              "\n",
              "  @keyframes spin {\n",
              "    0% {\n",
              "      border-color: transparent;\n",
              "      border-bottom-color: var(--fill-color);\n",
              "      border-left-color: var(--fill-color);\n",
              "    }\n",
              "    20% {\n",
              "      border-color: transparent;\n",
              "      border-left-color: var(--fill-color);\n",
              "      border-top-color: var(--fill-color);\n",
              "    }\n",
              "    30% {\n",
              "      border-color: transparent;\n",
              "      border-left-color: var(--fill-color);\n",
              "      border-top-color: var(--fill-color);\n",
              "      border-right-color: var(--fill-color);\n",
              "    }\n",
              "    40% {\n",
              "      border-color: transparent;\n",
              "      border-right-color: var(--fill-color);\n",
              "      border-top-color: var(--fill-color);\n",
              "    }\n",
              "    60% {\n",
              "      border-color: transparent;\n",
              "      border-right-color: var(--fill-color);\n",
              "    }\n",
              "    80% {\n",
              "      border-color: transparent;\n",
              "      border-right-color: var(--fill-color);\n",
              "      border-bottom-color: var(--fill-color);\n",
              "    }\n",
              "    90% {\n",
              "      border-color: transparent;\n",
              "      border-bottom-color: var(--fill-color);\n",
              "    }\n",
              "  }\n",
              "</style>\n",
              "\n",
              "  <script>\n",
              "    async function quickchart(key) {\n",
              "      const quickchartButtonEl =\n",
              "        document.querySelector('#' + key + ' button');\n",
              "      quickchartButtonEl.disabled = true;  // To prevent multiple clicks.\n",
              "      quickchartButtonEl.classList.add('colab-df-spinner');\n",
              "      try {\n",
              "        const charts = await google.colab.kernel.invokeFunction(\n",
              "            'suggestCharts', [key], {});\n",
              "      } catch (error) {\n",
              "        console.error('Error during call to suggestCharts:', error);\n",
              "      }\n",
              "      quickchartButtonEl.classList.remove('colab-df-spinner');\n",
              "      quickchartButtonEl.classList.add('colab-df-quickchart-complete');\n",
              "    }\n",
              "    (() => {\n",
              "      let quickchartButtonEl =\n",
              "        document.querySelector('#df-011ac8b3-1521-4198-a225-ee676b5674a2 button');\n",
              "      quickchartButtonEl.style.display =\n",
              "        google.colab.kernel.accessAllowed ? 'block' : 'none';\n",
              "    })();\n",
              "  </script>\n",
              "</div>\n",
              "\n",
              "    </div>\n",
              "  </div>\n"
            ]
          },
          "metadata": {},
          "execution_count": 116
        }
      ]
    },
    {
      "cell_type": "code",
      "source": [
        "# Final DataFrame:\n",
        "df=df7.merge(df[['type', 'title', 'date_added', 'release_year', 'rating', 'duration','description']],on=['title'],how='left')\n",
        "df.head(10)"
      ],
      "metadata": {
        "colab": {
          "base_uri": "https://localhost:8080/",
          "height": 363
        },
        "id": "Jiza0TKhLB-0",
        "outputId": "bfef3d6b-6260-4c3c-ca7a-1b2798017ed5"
      },
      "execution_count": 117,
      "outputs": [
        {
          "output_type": "execute_result",
          "data": {
            "text/plain": [
              "  title             Actors Directors                   Genre Country     type  \\\n",
              "0    3%        João Miguel   Unknown  International TV Shows  Brazil  TV Show   \n",
              "1    3%        João Miguel   Unknown               TV Dramas  Brazil  TV Show   \n",
              "2    3%        João Miguel   Unknown     TV Sci-Fi & Fantasy  Brazil  TV Show   \n",
              "3    3%   Bianca Comparato   Unknown  International TV Shows  Brazil  TV Show   \n",
              "4    3%   Bianca Comparato   Unknown               TV Dramas  Brazil  TV Show   \n",
              "5    3%   Bianca Comparato   Unknown     TV Sci-Fi & Fantasy  Brazil  TV Show   \n",
              "6    3%       Michel Gomes   Unknown  International TV Shows  Brazil  TV Show   \n",
              "7    3%       Michel Gomes   Unknown               TV Dramas  Brazil  TV Show   \n",
              "8    3%       Michel Gomes   Unknown     TV Sci-Fi & Fantasy  Brazil  TV Show   \n",
              "9    3%    Rodolfo Valente   Unknown  International TV Shows  Brazil  TV Show   \n",
              "\n",
              "        date_added  release_year rating   duration  \\\n",
              "0  August 14, 2020          2020  TV-MA  4 Seasons   \n",
              "1  August 14, 2020          2020  TV-MA  4 Seasons   \n",
              "2  August 14, 2020          2020  TV-MA  4 Seasons   \n",
              "3  August 14, 2020          2020  TV-MA  4 Seasons   \n",
              "4  August 14, 2020          2020  TV-MA  4 Seasons   \n",
              "5  August 14, 2020          2020  TV-MA  4 Seasons   \n",
              "6  August 14, 2020          2020  TV-MA  4 Seasons   \n",
              "7  August 14, 2020          2020  TV-MA  4 Seasons   \n",
              "8  August 14, 2020          2020  TV-MA  4 Seasons   \n",
              "9  August 14, 2020          2020  TV-MA  4 Seasons   \n",
              "\n",
              "                                         description  \n",
              "0  In a future where the elite inhabit an island ...  \n",
              "1  In a future where the elite inhabit an island ...  \n",
              "2  In a future where the elite inhabit an island ...  \n",
              "3  In a future where the elite inhabit an island ...  \n",
              "4  In a future where the elite inhabit an island ...  \n",
              "5  In a future where the elite inhabit an island ...  \n",
              "6  In a future where the elite inhabit an island ...  \n",
              "7  In a future where the elite inhabit an island ...  \n",
              "8  In a future where the elite inhabit an island ...  \n",
              "9  In a future where the elite inhabit an island ...  "
            ],
            "text/html": [
              "\n",
              "  <div id=\"df-d424e8ca-6a47-4a66-90e1-495e8b999107\" class=\"colab-df-container\">\n",
              "    <div>\n",
              "<style scoped>\n",
              "    .dataframe tbody tr th:only-of-type {\n",
              "        vertical-align: middle;\n",
              "    }\n",
              "\n",
              "    .dataframe tbody tr th {\n",
              "        vertical-align: top;\n",
              "    }\n",
              "\n",
              "    .dataframe thead th {\n",
              "        text-align: right;\n",
              "    }\n",
              "</style>\n",
              "<table border=\"1\" class=\"dataframe\">\n",
              "  <thead>\n",
              "    <tr style=\"text-align: right;\">\n",
              "      <th></th>\n",
              "      <th>title</th>\n",
              "      <th>Actors</th>\n",
              "      <th>Directors</th>\n",
              "      <th>Genre</th>\n",
              "      <th>Country</th>\n",
              "      <th>type</th>\n",
              "      <th>date_added</th>\n",
              "      <th>release_year</th>\n",
              "      <th>rating</th>\n",
              "      <th>duration</th>\n",
              "      <th>description</th>\n",
              "    </tr>\n",
              "  </thead>\n",
              "  <tbody>\n",
              "    <tr>\n",
              "      <th>0</th>\n",
              "      <td>3%</td>\n",
              "      <td>João Miguel</td>\n",
              "      <td>Unknown</td>\n",
              "      <td>International TV Shows</td>\n",
              "      <td>Brazil</td>\n",
              "      <td>TV Show</td>\n",
              "      <td>August 14, 2020</td>\n",
              "      <td>2020</td>\n",
              "      <td>TV-MA</td>\n",
              "      <td>4 Seasons</td>\n",
              "      <td>In a future where the elite inhabit an island ...</td>\n",
              "    </tr>\n",
              "    <tr>\n",
              "      <th>1</th>\n",
              "      <td>3%</td>\n",
              "      <td>João Miguel</td>\n",
              "      <td>Unknown</td>\n",
              "      <td>TV Dramas</td>\n",
              "      <td>Brazil</td>\n",
              "      <td>TV Show</td>\n",
              "      <td>August 14, 2020</td>\n",
              "      <td>2020</td>\n",
              "      <td>TV-MA</td>\n",
              "      <td>4 Seasons</td>\n",
              "      <td>In a future where the elite inhabit an island ...</td>\n",
              "    </tr>\n",
              "    <tr>\n",
              "      <th>2</th>\n",
              "      <td>3%</td>\n",
              "      <td>João Miguel</td>\n",
              "      <td>Unknown</td>\n",
              "      <td>TV Sci-Fi &amp; Fantasy</td>\n",
              "      <td>Brazil</td>\n",
              "      <td>TV Show</td>\n",
              "      <td>August 14, 2020</td>\n",
              "      <td>2020</td>\n",
              "      <td>TV-MA</td>\n",
              "      <td>4 Seasons</td>\n",
              "      <td>In a future where the elite inhabit an island ...</td>\n",
              "    </tr>\n",
              "    <tr>\n",
              "      <th>3</th>\n",
              "      <td>3%</td>\n",
              "      <td>Bianca Comparato</td>\n",
              "      <td>Unknown</td>\n",
              "      <td>International TV Shows</td>\n",
              "      <td>Brazil</td>\n",
              "      <td>TV Show</td>\n",
              "      <td>August 14, 2020</td>\n",
              "      <td>2020</td>\n",
              "      <td>TV-MA</td>\n",
              "      <td>4 Seasons</td>\n",
              "      <td>In a future where the elite inhabit an island ...</td>\n",
              "    </tr>\n",
              "    <tr>\n",
              "      <th>4</th>\n",
              "      <td>3%</td>\n",
              "      <td>Bianca Comparato</td>\n",
              "      <td>Unknown</td>\n",
              "      <td>TV Dramas</td>\n",
              "      <td>Brazil</td>\n",
              "      <td>TV Show</td>\n",
              "      <td>August 14, 2020</td>\n",
              "      <td>2020</td>\n",
              "      <td>TV-MA</td>\n",
              "      <td>4 Seasons</td>\n",
              "      <td>In a future where the elite inhabit an island ...</td>\n",
              "    </tr>\n",
              "    <tr>\n",
              "      <th>5</th>\n",
              "      <td>3%</td>\n",
              "      <td>Bianca Comparato</td>\n",
              "      <td>Unknown</td>\n",
              "      <td>TV Sci-Fi &amp; Fantasy</td>\n",
              "      <td>Brazil</td>\n",
              "      <td>TV Show</td>\n",
              "      <td>August 14, 2020</td>\n",
              "      <td>2020</td>\n",
              "      <td>TV-MA</td>\n",
              "      <td>4 Seasons</td>\n",
              "      <td>In a future where the elite inhabit an island ...</td>\n",
              "    </tr>\n",
              "    <tr>\n",
              "      <th>6</th>\n",
              "      <td>3%</td>\n",
              "      <td>Michel Gomes</td>\n",
              "      <td>Unknown</td>\n",
              "      <td>International TV Shows</td>\n",
              "      <td>Brazil</td>\n",
              "      <td>TV Show</td>\n",
              "      <td>August 14, 2020</td>\n",
              "      <td>2020</td>\n",
              "      <td>TV-MA</td>\n",
              "      <td>4 Seasons</td>\n",
              "      <td>In a future where the elite inhabit an island ...</td>\n",
              "    </tr>\n",
              "    <tr>\n",
              "      <th>7</th>\n",
              "      <td>3%</td>\n",
              "      <td>Michel Gomes</td>\n",
              "      <td>Unknown</td>\n",
              "      <td>TV Dramas</td>\n",
              "      <td>Brazil</td>\n",
              "      <td>TV Show</td>\n",
              "      <td>August 14, 2020</td>\n",
              "      <td>2020</td>\n",
              "      <td>TV-MA</td>\n",
              "      <td>4 Seasons</td>\n",
              "      <td>In a future where the elite inhabit an island ...</td>\n",
              "    </tr>\n",
              "    <tr>\n",
              "      <th>8</th>\n",
              "      <td>3%</td>\n",
              "      <td>Michel Gomes</td>\n",
              "      <td>Unknown</td>\n",
              "      <td>TV Sci-Fi &amp; Fantasy</td>\n",
              "      <td>Brazil</td>\n",
              "      <td>TV Show</td>\n",
              "      <td>August 14, 2020</td>\n",
              "      <td>2020</td>\n",
              "      <td>TV-MA</td>\n",
              "      <td>4 Seasons</td>\n",
              "      <td>In a future where the elite inhabit an island ...</td>\n",
              "    </tr>\n",
              "    <tr>\n",
              "      <th>9</th>\n",
              "      <td>3%</td>\n",
              "      <td>Rodolfo Valente</td>\n",
              "      <td>Unknown</td>\n",
              "      <td>International TV Shows</td>\n",
              "      <td>Brazil</td>\n",
              "      <td>TV Show</td>\n",
              "      <td>August 14, 2020</td>\n",
              "      <td>2020</td>\n",
              "      <td>TV-MA</td>\n",
              "      <td>4 Seasons</td>\n",
              "      <td>In a future where the elite inhabit an island ...</td>\n",
              "    </tr>\n",
              "  </tbody>\n",
              "</table>\n",
              "</div>\n",
              "    <div class=\"colab-df-buttons\">\n",
              "\n",
              "  <div class=\"colab-df-container\">\n",
              "    <button class=\"colab-df-convert\" onclick=\"convertToInteractive('df-d424e8ca-6a47-4a66-90e1-495e8b999107')\"\n",
              "            title=\"Convert this dataframe to an interactive table.\"\n",
              "            style=\"display:none;\">\n",
              "\n",
              "  <svg xmlns=\"http://www.w3.org/2000/svg\" height=\"24px\" viewBox=\"0 -960 960 960\">\n",
              "    <path d=\"M120-120v-720h720v720H120Zm60-500h600v-160H180v160Zm220 220h160v-160H400v160Zm0 220h160v-160H400v160ZM180-400h160v-160H180v160Zm440 0h160v-160H620v160ZM180-180h160v-160H180v160Zm440 0h160v-160H620v160Z\"/>\n",
              "  </svg>\n",
              "    </button>\n",
              "\n",
              "  <style>\n",
              "    .colab-df-container {\n",
              "      display:flex;\n",
              "      gap: 12px;\n",
              "    }\n",
              "\n",
              "    .colab-df-convert {\n",
              "      background-color: #E8F0FE;\n",
              "      border: none;\n",
              "      border-radius: 50%;\n",
              "      cursor: pointer;\n",
              "      display: none;\n",
              "      fill: #1967D2;\n",
              "      height: 32px;\n",
              "      padding: 0 0 0 0;\n",
              "      width: 32px;\n",
              "    }\n",
              "\n",
              "    .colab-df-convert:hover {\n",
              "      background-color: #E2EBFA;\n",
              "      box-shadow: 0px 1px 2px rgba(60, 64, 67, 0.3), 0px 1px 3px 1px rgba(60, 64, 67, 0.15);\n",
              "      fill: #174EA6;\n",
              "    }\n",
              "\n",
              "    .colab-df-buttons div {\n",
              "      margin-bottom: 4px;\n",
              "    }\n",
              "\n",
              "    [theme=dark] .colab-df-convert {\n",
              "      background-color: #3B4455;\n",
              "      fill: #D2E3FC;\n",
              "    }\n",
              "\n",
              "    [theme=dark] .colab-df-convert:hover {\n",
              "      background-color: #434B5C;\n",
              "      box-shadow: 0px 1px 3px 1px rgba(0, 0, 0, 0.15);\n",
              "      filter: drop-shadow(0px 1px 2px rgba(0, 0, 0, 0.3));\n",
              "      fill: #FFFFFF;\n",
              "    }\n",
              "  </style>\n",
              "\n",
              "    <script>\n",
              "      const buttonEl =\n",
              "        document.querySelector('#df-d424e8ca-6a47-4a66-90e1-495e8b999107 button.colab-df-convert');\n",
              "      buttonEl.style.display =\n",
              "        google.colab.kernel.accessAllowed ? 'block' : 'none';\n",
              "\n",
              "      async function convertToInteractive(key) {\n",
              "        const element = document.querySelector('#df-d424e8ca-6a47-4a66-90e1-495e8b999107');\n",
              "        const dataTable =\n",
              "          await google.colab.kernel.invokeFunction('convertToInteractive',\n",
              "                                                    [key], {});\n",
              "        if (!dataTable) return;\n",
              "\n",
              "        const docLinkHtml = 'Like what you see? Visit the ' +\n",
              "          '<a target=\"_blank\" href=https://colab.research.google.com/notebooks/data_table.ipynb>data table notebook</a>'\n",
              "          + ' to learn more about interactive tables.';\n",
              "        element.innerHTML = '';\n",
              "        dataTable['output_type'] = 'display_data';\n",
              "        await google.colab.output.renderOutput(dataTable, element);\n",
              "        const docLink = document.createElement('div');\n",
              "        docLink.innerHTML = docLinkHtml;\n",
              "        element.appendChild(docLink);\n",
              "      }\n",
              "    </script>\n",
              "  </div>\n",
              "\n",
              "\n",
              "<div id=\"df-59c88639-1a22-4073-9005-37c91f6df478\">\n",
              "  <button class=\"colab-df-quickchart\" onclick=\"quickchart('df-59c88639-1a22-4073-9005-37c91f6df478')\"\n",
              "            title=\"Suggest charts\"\n",
              "            style=\"display:none;\">\n",
              "\n",
              "<svg xmlns=\"http://www.w3.org/2000/svg\" height=\"24px\"viewBox=\"0 0 24 24\"\n",
              "     width=\"24px\">\n",
              "    <g>\n",
              "        <path d=\"M19 3H5c-1.1 0-2 .9-2 2v14c0 1.1.9 2 2 2h14c1.1 0 2-.9 2-2V5c0-1.1-.9-2-2-2zM9 17H7v-7h2v7zm4 0h-2V7h2v10zm4 0h-2v-4h2v4z\"/>\n",
              "    </g>\n",
              "</svg>\n",
              "  </button>\n",
              "\n",
              "<style>\n",
              "  .colab-df-quickchart {\n",
              "      --bg-color: #E8F0FE;\n",
              "      --fill-color: #1967D2;\n",
              "      --hover-bg-color: #E2EBFA;\n",
              "      --hover-fill-color: #174EA6;\n",
              "      --disabled-fill-color: #AAA;\n",
              "      --disabled-bg-color: #DDD;\n",
              "  }\n",
              "\n",
              "  [theme=dark] .colab-df-quickchart {\n",
              "      --bg-color: #3B4455;\n",
              "      --fill-color: #D2E3FC;\n",
              "      --hover-bg-color: #434B5C;\n",
              "      --hover-fill-color: #FFFFFF;\n",
              "      --disabled-bg-color: #3B4455;\n",
              "      --disabled-fill-color: #666;\n",
              "  }\n",
              "\n",
              "  .colab-df-quickchart {\n",
              "    background-color: var(--bg-color);\n",
              "    border: none;\n",
              "    border-radius: 50%;\n",
              "    cursor: pointer;\n",
              "    display: none;\n",
              "    fill: var(--fill-color);\n",
              "    height: 32px;\n",
              "    padding: 0;\n",
              "    width: 32px;\n",
              "  }\n",
              "\n",
              "  .colab-df-quickchart:hover {\n",
              "    background-color: var(--hover-bg-color);\n",
              "    box-shadow: 0 1px 2px rgba(60, 64, 67, 0.3), 0 1px 3px 1px rgba(60, 64, 67, 0.15);\n",
              "    fill: var(--button-hover-fill-color);\n",
              "  }\n",
              "\n",
              "  .colab-df-quickchart-complete:disabled,\n",
              "  .colab-df-quickchart-complete:disabled:hover {\n",
              "    background-color: var(--disabled-bg-color);\n",
              "    fill: var(--disabled-fill-color);\n",
              "    box-shadow: none;\n",
              "  }\n",
              "\n",
              "  .colab-df-spinner {\n",
              "    border: 2px solid var(--fill-color);\n",
              "    border-color: transparent;\n",
              "    border-bottom-color: var(--fill-color);\n",
              "    animation:\n",
              "      spin 1s steps(1) infinite;\n",
              "  }\n",
              "\n",
              "  @keyframes spin {\n",
              "    0% {\n",
              "      border-color: transparent;\n",
              "      border-bottom-color: var(--fill-color);\n",
              "      border-left-color: var(--fill-color);\n",
              "    }\n",
              "    20% {\n",
              "      border-color: transparent;\n",
              "      border-left-color: var(--fill-color);\n",
              "      border-top-color: var(--fill-color);\n",
              "    }\n",
              "    30% {\n",
              "      border-color: transparent;\n",
              "      border-left-color: var(--fill-color);\n",
              "      border-top-color: var(--fill-color);\n",
              "      border-right-color: var(--fill-color);\n",
              "    }\n",
              "    40% {\n",
              "      border-color: transparent;\n",
              "      border-right-color: var(--fill-color);\n",
              "      border-top-color: var(--fill-color);\n",
              "    }\n",
              "    60% {\n",
              "      border-color: transparent;\n",
              "      border-right-color: var(--fill-color);\n",
              "    }\n",
              "    80% {\n",
              "      border-color: transparent;\n",
              "      border-right-color: var(--fill-color);\n",
              "      border-bottom-color: var(--fill-color);\n",
              "    }\n",
              "    90% {\n",
              "      border-color: transparent;\n",
              "      border-bottom-color: var(--fill-color);\n",
              "    }\n",
              "  }\n",
              "</style>\n",
              "\n",
              "  <script>\n",
              "    async function quickchart(key) {\n",
              "      const quickchartButtonEl =\n",
              "        document.querySelector('#' + key + ' button');\n",
              "      quickchartButtonEl.disabled = true;  // To prevent multiple clicks.\n",
              "      quickchartButtonEl.classList.add('colab-df-spinner');\n",
              "      try {\n",
              "        const charts = await google.colab.kernel.invokeFunction(\n",
              "            'suggestCharts', [key], {});\n",
              "      } catch (error) {\n",
              "        console.error('Error during call to suggestCharts:', error);\n",
              "      }\n",
              "      quickchartButtonEl.classList.remove('colab-df-spinner');\n",
              "      quickchartButtonEl.classList.add('colab-df-quickchart-complete');\n",
              "    }\n",
              "    (() => {\n",
              "      let quickchartButtonEl =\n",
              "        document.querySelector('#df-59c88639-1a22-4073-9005-37c91f6df478 button');\n",
              "      quickchartButtonEl.style.display =\n",
              "        google.colab.kernel.accessAllowed ? 'block' : 'none';\n",
              "    })();\n",
              "  </script>\n",
              "</div>\n",
              "\n",
              "    </div>\n",
              "  </div>\n"
            ]
          },
          "metadata": {},
          "execution_count": 117
        }
      ]
    },
    {
      "cell_type": "code",
      "source": [
        "df.shape"
      ],
      "metadata": {
        "colab": {
          "base_uri": "https://localhost:8080/"
        },
        "id": "2cXON82WPmIm",
        "outputId": "97c817ba-0952-4561-cd71-8cc76bac09e7"
      },
      "execution_count": 118,
      "outputs": [
        {
          "output_type": "execute_result",
          "data": {
            "text/plain": [
              "(175807, 11)"
            ]
          },
          "metadata": {},
          "execution_count": 118
        }
      ]
    },
    {
      "cell_type": "markdown",
      "source": [
        "### 3. Changing datatype"
      ],
      "metadata": {
        "id": "4yVlhxEKUHkv"
      }
    },
    {
      "cell_type": "code",
      "source": [
        "df.info()"
      ],
      "metadata": {
        "colab": {
          "base_uri": "https://localhost:8080/"
        },
        "id": "teLNaK2YPmD-",
        "outputId": "310a0772-8125-4aeb-dff1-c3921c05974a"
      },
      "execution_count": 119,
      "outputs": [
        {
          "output_type": "stream",
          "name": "stdout",
          "text": [
            "<class 'pandas.core.frame.DataFrame'>\n",
            "Int64Index: 175807 entries, 0 to 175806\n",
            "Data columns (total 11 columns):\n",
            " #   Column        Non-Null Count   Dtype \n",
            "---  ------        --------------   ----- \n",
            " 0   title         175807 non-null  object\n",
            " 1   Actors        175807 non-null  object\n",
            " 2   Directors     175807 non-null  object\n",
            " 3   Genre         175807 non-null  object\n",
            " 4   Country       175807 non-null  object\n",
            " 5   type          175807 non-null  object\n",
            " 6   date_added    175807 non-null  object\n",
            " 7   release_year  175807 non-null  int64 \n",
            " 8   rating        175807 non-null  object\n",
            " 9   duration      175807 non-null  object\n",
            " 10  description   175807 non-null  object\n",
            "dtypes: int64(1), object(10)\n",
            "memory usage: 16.1+ MB\n"
          ]
        }
      ]
    },
    {
      "cell_type": "code",
      "source": [
        "# 'date_added' column:\n",
        "df['date_added']=pd.to_datetime(df['date_added'])\n",
        "# Extracting  day, month and year from date_added column\n",
        "df[\"day_added\"]= df[\"date_added\"].dt.day\n",
        "df[\"month_added\"]= df[\"date_added\"].dt.month\n",
        "df[\"year_added\"]= df[\"date_added\"].dt.year\n",
        "\n",
        "# Dropping date_added\n",
        "df.drop('date_added', axis=1, inplace=True)\n",
        "\n",
        "# removing 'min' and 'Seasons' from the end in 'duration' column:\n",
        "df['duration']= df['duration'].apply(lambda x: int(x.split()[0]))"
      ],
      "metadata": {
        "id": "RMry8AXIUm_G"
      },
      "execution_count": 120,
      "outputs": []
    },
    {
      "cell_type": "code",
      "source": [
        "df.info()"
      ],
      "metadata": {
        "colab": {
          "base_uri": "https://localhost:8080/"
        },
        "id": "MmV-FHP6YQi7",
        "outputId": "714c283d-bd4d-4544-a26e-dc4b354ed6eb"
      },
      "execution_count": 171,
      "outputs": [
        {
          "output_type": "stream",
          "name": "stdout",
          "text": [
            "<class 'pandas.core.frame.DataFrame'>\n",
            "Int64Index: 175807 entries, 0 to 175806\n",
            "Data columns (total 13 columns):\n",
            " #   Column        Non-Null Count   Dtype \n",
            "---  ------        --------------   ----- \n",
            " 0   title         175807 non-null  object\n",
            " 1   Actors        175807 non-null  object\n",
            " 2   Directors     175807 non-null  object\n",
            " 3   Genre         175807 non-null  object\n",
            " 4   Country       175807 non-null  object\n",
            " 5   type          175807 non-null  object\n",
            " 6   release_year  175807 non-null  int64 \n",
            " 7   rating        175807 non-null  object\n",
            " 8   duration      175807 non-null  int64 \n",
            " 9   description   175807 non-null  object\n",
            " 10  day_added     175807 non-null  int64 \n",
            " 11  month_added   175807 non-null  int64 \n",
            " 12  year_added    175807 non-null  int64 \n",
            "dtypes: int64(5), object(8)\n",
            "memory usage: 18.8+ MB\n"
          ]
        }
      ]
    },
    {
      "cell_type": "code",
      "source": [
        "df.head(10)"
      ],
      "metadata": {
        "colab": {
          "base_uri": "https://localhost:8080/",
          "height": 536
        },
        "id": "hGQ02Ob8UmTb",
        "outputId": "86ed32c1-e252-446b-db71-8abfa916ea2c"
      },
      "execution_count": 170,
      "outputs": [
        {
          "output_type": "execute_result",
          "data": {
            "text/plain": [
              "  title             Actors Directors                   Genre Country     type  \\\n",
              "0    3%        João Miguel   Unknown  International TV Shows  Brazil  TV Show   \n",
              "1    3%        João Miguel   Unknown               TV Dramas  Brazil  TV Show   \n",
              "2    3%        João Miguel   Unknown     TV Sci-Fi & Fantasy  Brazil  TV Show   \n",
              "3    3%   Bianca Comparato   Unknown  International TV Shows  Brazil  TV Show   \n",
              "4    3%   Bianca Comparato   Unknown               TV Dramas  Brazil  TV Show   \n",
              "5    3%   Bianca Comparato   Unknown     TV Sci-Fi & Fantasy  Brazil  TV Show   \n",
              "6    3%       Michel Gomes   Unknown  International TV Shows  Brazil  TV Show   \n",
              "7    3%       Michel Gomes   Unknown               TV Dramas  Brazil  TV Show   \n",
              "8    3%       Michel Gomes   Unknown     TV Sci-Fi & Fantasy  Brazil  TV Show   \n",
              "9    3%    Rodolfo Valente   Unknown  International TV Shows  Brazil  TV Show   \n",
              "\n",
              "   release_year rating  duration  \\\n",
              "0          2020  TV-MA         4   \n",
              "1          2020  TV-MA         4   \n",
              "2          2020  TV-MA         4   \n",
              "3          2020  TV-MA         4   \n",
              "4          2020  TV-MA         4   \n",
              "5          2020  TV-MA         4   \n",
              "6          2020  TV-MA         4   \n",
              "7          2020  TV-MA         4   \n",
              "8          2020  TV-MA         4   \n",
              "9          2020  TV-MA         4   \n",
              "\n",
              "                                         description  day_added  month_added  \\\n",
              "0  In a future where the elite inhabit an island ...         14            8   \n",
              "1  In a future where the elite inhabit an island ...         14            8   \n",
              "2  In a future where the elite inhabit an island ...         14            8   \n",
              "3  In a future where the elite inhabit an island ...         14            8   \n",
              "4  In a future where the elite inhabit an island ...         14            8   \n",
              "5  In a future where the elite inhabit an island ...         14            8   \n",
              "6  In a future where the elite inhabit an island ...         14            8   \n",
              "7  In a future where the elite inhabit an island ...         14            8   \n",
              "8  In a future where the elite inhabit an island ...         14            8   \n",
              "9  In a future where the elite inhabit an island ...         14            8   \n",
              "\n",
              "   year_added  \n",
              "0        2020  \n",
              "1        2020  \n",
              "2        2020  \n",
              "3        2020  \n",
              "4        2020  \n",
              "5        2020  \n",
              "6        2020  \n",
              "7        2020  \n",
              "8        2020  \n",
              "9        2020  "
            ],
            "text/html": [
              "\n",
              "  <div id=\"df-372867e2-66e1-4067-a9db-c015d45232d2\" class=\"colab-df-container\">\n",
              "    <div>\n",
              "<style scoped>\n",
              "    .dataframe tbody tr th:only-of-type {\n",
              "        vertical-align: middle;\n",
              "    }\n",
              "\n",
              "    .dataframe tbody tr th {\n",
              "        vertical-align: top;\n",
              "    }\n",
              "\n",
              "    .dataframe thead th {\n",
              "        text-align: right;\n",
              "    }\n",
              "</style>\n",
              "<table border=\"1\" class=\"dataframe\">\n",
              "  <thead>\n",
              "    <tr style=\"text-align: right;\">\n",
              "      <th></th>\n",
              "      <th>title</th>\n",
              "      <th>Actors</th>\n",
              "      <th>Directors</th>\n",
              "      <th>Genre</th>\n",
              "      <th>Country</th>\n",
              "      <th>type</th>\n",
              "      <th>release_year</th>\n",
              "      <th>rating</th>\n",
              "      <th>duration</th>\n",
              "      <th>description</th>\n",
              "      <th>day_added</th>\n",
              "      <th>month_added</th>\n",
              "      <th>year_added</th>\n",
              "    </tr>\n",
              "  </thead>\n",
              "  <tbody>\n",
              "    <tr>\n",
              "      <th>0</th>\n",
              "      <td>3%</td>\n",
              "      <td>João Miguel</td>\n",
              "      <td>Unknown</td>\n",
              "      <td>International TV Shows</td>\n",
              "      <td>Brazil</td>\n",
              "      <td>TV Show</td>\n",
              "      <td>2020</td>\n",
              "      <td>TV-MA</td>\n",
              "      <td>4</td>\n",
              "      <td>In a future where the elite inhabit an island ...</td>\n",
              "      <td>14</td>\n",
              "      <td>8</td>\n",
              "      <td>2020</td>\n",
              "    </tr>\n",
              "    <tr>\n",
              "      <th>1</th>\n",
              "      <td>3%</td>\n",
              "      <td>João Miguel</td>\n",
              "      <td>Unknown</td>\n",
              "      <td>TV Dramas</td>\n",
              "      <td>Brazil</td>\n",
              "      <td>TV Show</td>\n",
              "      <td>2020</td>\n",
              "      <td>TV-MA</td>\n",
              "      <td>4</td>\n",
              "      <td>In a future where the elite inhabit an island ...</td>\n",
              "      <td>14</td>\n",
              "      <td>8</td>\n",
              "      <td>2020</td>\n",
              "    </tr>\n",
              "    <tr>\n",
              "      <th>2</th>\n",
              "      <td>3%</td>\n",
              "      <td>João Miguel</td>\n",
              "      <td>Unknown</td>\n",
              "      <td>TV Sci-Fi &amp; Fantasy</td>\n",
              "      <td>Brazil</td>\n",
              "      <td>TV Show</td>\n",
              "      <td>2020</td>\n",
              "      <td>TV-MA</td>\n",
              "      <td>4</td>\n",
              "      <td>In a future where the elite inhabit an island ...</td>\n",
              "      <td>14</td>\n",
              "      <td>8</td>\n",
              "      <td>2020</td>\n",
              "    </tr>\n",
              "    <tr>\n",
              "      <th>3</th>\n",
              "      <td>3%</td>\n",
              "      <td>Bianca Comparato</td>\n",
              "      <td>Unknown</td>\n",
              "      <td>International TV Shows</td>\n",
              "      <td>Brazil</td>\n",
              "      <td>TV Show</td>\n",
              "      <td>2020</td>\n",
              "      <td>TV-MA</td>\n",
              "      <td>4</td>\n",
              "      <td>In a future where the elite inhabit an island ...</td>\n",
              "      <td>14</td>\n",
              "      <td>8</td>\n",
              "      <td>2020</td>\n",
              "    </tr>\n",
              "    <tr>\n",
              "      <th>4</th>\n",
              "      <td>3%</td>\n",
              "      <td>Bianca Comparato</td>\n",
              "      <td>Unknown</td>\n",
              "      <td>TV Dramas</td>\n",
              "      <td>Brazil</td>\n",
              "      <td>TV Show</td>\n",
              "      <td>2020</td>\n",
              "      <td>TV-MA</td>\n",
              "      <td>4</td>\n",
              "      <td>In a future where the elite inhabit an island ...</td>\n",
              "      <td>14</td>\n",
              "      <td>8</td>\n",
              "      <td>2020</td>\n",
              "    </tr>\n",
              "    <tr>\n",
              "      <th>5</th>\n",
              "      <td>3%</td>\n",
              "      <td>Bianca Comparato</td>\n",
              "      <td>Unknown</td>\n",
              "      <td>TV Sci-Fi &amp; Fantasy</td>\n",
              "      <td>Brazil</td>\n",
              "      <td>TV Show</td>\n",
              "      <td>2020</td>\n",
              "      <td>TV-MA</td>\n",
              "      <td>4</td>\n",
              "      <td>In a future where the elite inhabit an island ...</td>\n",
              "      <td>14</td>\n",
              "      <td>8</td>\n",
              "      <td>2020</td>\n",
              "    </tr>\n",
              "    <tr>\n",
              "      <th>6</th>\n",
              "      <td>3%</td>\n",
              "      <td>Michel Gomes</td>\n",
              "      <td>Unknown</td>\n",
              "      <td>International TV Shows</td>\n",
              "      <td>Brazil</td>\n",
              "      <td>TV Show</td>\n",
              "      <td>2020</td>\n",
              "      <td>TV-MA</td>\n",
              "      <td>4</td>\n",
              "      <td>In a future where the elite inhabit an island ...</td>\n",
              "      <td>14</td>\n",
              "      <td>8</td>\n",
              "      <td>2020</td>\n",
              "    </tr>\n",
              "    <tr>\n",
              "      <th>7</th>\n",
              "      <td>3%</td>\n",
              "      <td>Michel Gomes</td>\n",
              "      <td>Unknown</td>\n",
              "      <td>TV Dramas</td>\n",
              "      <td>Brazil</td>\n",
              "      <td>TV Show</td>\n",
              "      <td>2020</td>\n",
              "      <td>TV-MA</td>\n",
              "      <td>4</td>\n",
              "      <td>In a future where the elite inhabit an island ...</td>\n",
              "      <td>14</td>\n",
              "      <td>8</td>\n",
              "      <td>2020</td>\n",
              "    </tr>\n",
              "    <tr>\n",
              "      <th>8</th>\n",
              "      <td>3%</td>\n",
              "      <td>Michel Gomes</td>\n",
              "      <td>Unknown</td>\n",
              "      <td>TV Sci-Fi &amp; Fantasy</td>\n",
              "      <td>Brazil</td>\n",
              "      <td>TV Show</td>\n",
              "      <td>2020</td>\n",
              "      <td>TV-MA</td>\n",
              "      <td>4</td>\n",
              "      <td>In a future where the elite inhabit an island ...</td>\n",
              "      <td>14</td>\n",
              "      <td>8</td>\n",
              "      <td>2020</td>\n",
              "    </tr>\n",
              "    <tr>\n",
              "      <th>9</th>\n",
              "      <td>3%</td>\n",
              "      <td>Rodolfo Valente</td>\n",
              "      <td>Unknown</td>\n",
              "      <td>International TV Shows</td>\n",
              "      <td>Brazil</td>\n",
              "      <td>TV Show</td>\n",
              "      <td>2020</td>\n",
              "      <td>TV-MA</td>\n",
              "      <td>4</td>\n",
              "      <td>In a future where the elite inhabit an island ...</td>\n",
              "      <td>14</td>\n",
              "      <td>8</td>\n",
              "      <td>2020</td>\n",
              "    </tr>\n",
              "  </tbody>\n",
              "</table>\n",
              "</div>\n",
              "    <div class=\"colab-df-buttons\">\n",
              "\n",
              "  <div class=\"colab-df-container\">\n",
              "    <button class=\"colab-df-convert\" onclick=\"convertToInteractive('df-372867e2-66e1-4067-a9db-c015d45232d2')\"\n",
              "            title=\"Convert this dataframe to an interactive table.\"\n",
              "            style=\"display:none;\">\n",
              "\n",
              "  <svg xmlns=\"http://www.w3.org/2000/svg\" height=\"24px\" viewBox=\"0 -960 960 960\">\n",
              "    <path d=\"M120-120v-720h720v720H120Zm60-500h600v-160H180v160Zm220 220h160v-160H400v160Zm0 220h160v-160H400v160ZM180-400h160v-160H180v160Zm440 0h160v-160H620v160ZM180-180h160v-160H180v160Zm440 0h160v-160H620v160Z\"/>\n",
              "  </svg>\n",
              "    </button>\n",
              "\n",
              "  <style>\n",
              "    .colab-df-container {\n",
              "      display:flex;\n",
              "      gap: 12px;\n",
              "    }\n",
              "\n",
              "    .colab-df-convert {\n",
              "      background-color: #E8F0FE;\n",
              "      border: none;\n",
              "      border-radius: 50%;\n",
              "      cursor: pointer;\n",
              "      display: none;\n",
              "      fill: #1967D2;\n",
              "      height: 32px;\n",
              "      padding: 0 0 0 0;\n",
              "      width: 32px;\n",
              "    }\n",
              "\n",
              "    .colab-df-convert:hover {\n",
              "      background-color: #E2EBFA;\n",
              "      box-shadow: 0px 1px 2px rgba(60, 64, 67, 0.3), 0px 1px 3px 1px rgba(60, 64, 67, 0.15);\n",
              "      fill: #174EA6;\n",
              "    }\n",
              "\n",
              "    .colab-df-buttons div {\n",
              "      margin-bottom: 4px;\n",
              "    }\n",
              "\n",
              "    [theme=dark] .colab-df-convert {\n",
              "      background-color: #3B4455;\n",
              "      fill: #D2E3FC;\n",
              "    }\n",
              "\n",
              "    [theme=dark] .colab-df-convert:hover {\n",
              "      background-color: #434B5C;\n",
              "      box-shadow: 0px 1px 3px 1px rgba(0, 0, 0, 0.15);\n",
              "      filter: drop-shadow(0px 1px 2px rgba(0, 0, 0, 0.3));\n",
              "      fill: #FFFFFF;\n",
              "    }\n",
              "  </style>\n",
              "\n",
              "    <script>\n",
              "      const buttonEl =\n",
              "        document.querySelector('#df-372867e2-66e1-4067-a9db-c015d45232d2 button.colab-df-convert');\n",
              "      buttonEl.style.display =\n",
              "        google.colab.kernel.accessAllowed ? 'block' : 'none';\n",
              "\n",
              "      async function convertToInteractive(key) {\n",
              "        const element = document.querySelector('#df-372867e2-66e1-4067-a9db-c015d45232d2');\n",
              "        const dataTable =\n",
              "          await google.colab.kernel.invokeFunction('convertToInteractive',\n",
              "                                                    [key], {});\n",
              "        if (!dataTable) return;\n",
              "\n",
              "        const docLinkHtml = 'Like what you see? Visit the ' +\n",
              "          '<a target=\"_blank\" href=https://colab.research.google.com/notebooks/data_table.ipynb>data table notebook</a>'\n",
              "          + ' to learn more about interactive tables.';\n",
              "        element.innerHTML = '';\n",
              "        dataTable['output_type'] = 'display_data';\n",
              "        await google.colab.output.renderOutput(dataTable, element);\n",
              "        const docLink = document.createElement('div');\n",
              "        docLink.innerHTML = docLinkHtml;\n",
              "        element.appendChild(docLink);\n",
              "      }\n",
              "    </script>\n",
              "  </div>\n",
              "\n",
              "\n",
              "<div id=\"df-5daff1e3-68c4-4f95-bc56-3a4f24916307\">\n",
              "  <button class=\"colab-df-quickchart\" onclick=\"quickchart('df-5daff1e3-68c4-4f95-bc56-3a4f24916307')\"\n",
              "            title=\"Suggest charts\"\n",
              "            style=\"display:none;\">\n",
              "\n",
              "<svg xmlns=\"http://www.w3.org/2000/svg\" height=\"24px\"viewBox=\"0 0 24 24\"\n",
              "     width=\"24px\">\n",
              "    <g>\n",
              "        <path d=\"M19 3H5c-1.1 0-2 .9-2 2v14c0 1.1.9 2 2 2h14c1.1 0 2-.9 2-2V5c0-1.1-.9-2-2-2zM9 17H7v-7h2v7zm4 0h-2V7h2v10zm4 0h-2v-4h2v4z\"/>\n",
              "    </g>\n",
              "</svg>\n",
              "  </button>\n",
              "\n",
              "<style>\n",
              "  .colab-df-quickchart {\n",
              "      --bg-color: #E8F0FE;\n",
              "      --fill-color: #1967D2;\n",
              "      --hover-bg-color: #E2EBFA;\n",
              "      --hover-fill-color: #174EA6;\n",
              "      --disabled-fill-color: #AAA;\n",
              "      --disabled-bg-color: #DDD;\n",
              "  }\n",
              "\n",
              "  [theme=dark] .colab-df-quickchart {\n",
              "      --bg-color: #3B4455;\n",
              "      --fill-color: #D2E3FC;\n",
              "      --hover-bg-color: #434B5C;\n",
              "      --hover-fill-color: #FFFFFF;\n",
              "      --disabled-bg-color: #3B4455;\n",
              "      --disabled-fill-color: #666;\n",
              "  }\n",
              "\n",
              "  .colab-df-quickchart {\n",
              "    background-color: var(--bg-color);\n",
              "    border: none;\n",
              "    border-radius: 50%;\n",
              "    cursor: pointer;\n",
              "    display: none;\n",
              "    fill: var(--fill-color);\n",
              "    height: 32px;\n",
              "    padding: 0;\n",
              "    width: 32px;\n",
              "  }\n",
              "\n",
              "  .colab-df-quickchart:hover {\n",
              "    background-color: var(--hover-bg-color);\n",
              "    box-shadow: 0 1px 2px rgba(60, 64, 67, 0.3), 0 1px 3px 1px rgba(60, 64, 67, 0.15);\n",
              "    fill: var(--button-hover-fill-color);\n",
              "  }\n",
              "\n",
              "  .colab-df-quickchart-complete:disabled,\n",
              "  .colab-df-quickchart-complete:disabled:hover {\n",
              "    background-color: var(--disabled-bg-color);\n",
              "    fill: var(--disabled-fill-color);\n",
              "    box-shadow: none;\n",
              "  }\n",
              "\n",
              "  .colab-df-spinner {\n",
              "    border: 2px solid var(--fill-color);\n",
              "    border-color: transparent;\n",
              "    border-bottom-color: var(--fill-color);\n",
              "    animation:\n",
              "      spin 1s steps(1) infinite;\n",
              "  }\n",
              "\n",
              "  @keyframes spin {\n",
              "    0% {\n",
              "      border-color: transparent;\n",
              "      border-bottom-color: var(--fill-color);\n",
              "      border-left-color: var(--fill-color);\n",
              "    }\n",
              "    20% {\n",
              "      border-color: transparent;\n",
              "      border-left-color: var(--fill-color);\n",
              "      border-top-color: var(--fill-color);\n",
              "    }\n",
              "    30% {\n",
              "      border-color: transparent;\n",
              "      border-left-color: var(--fill-color);\n",
              "      border-top-color: var(--fill-color);\n",
              "      border-right-color: var(--fill-color);\n",
              "    }\n",
              "    40% {\n",
              "      border-color: transparent;\n",
              "      border-right-color: var(--fill-color);\n",
              "      border-top-color: var(--fill-color);\n",
              "    }\n",
              "    60% {\n",
              "      border-color: transparent;\n",
              "      border-right-color: var(--fill-color);\n",
              "    }\n",
              "    80% {\n",
              "      border-color: transparent;\n",
              "      border-right-color: var(--fill-color);\n",
              "      border-bottom-color: var(--fill-color);\n",
              "    }\n",
              "    90% {\n",
              "      border-color: transparent;\n",
              "      border-bottom-color: var(--fill-color);\n",
              "    }\n",
              "  }\n",
              "</style>\n",
              "\n",
              "  <script>\n",
              "    async function quickchart(key) {\n",
              "      const quickchartButtonEl =\n",
              "        document.querySelector('#' + key + ' button');\n",
              "      quickchartButtonEl.disabled = true;  // To prevent multiple clicks.\n",
              "      quickchartButtonEl.classList.add('colab-df-spinner');\n",
              "      try {\n",
              "        const charts = await google.colab.kernel.invokeFunction(\n",
              "            'suggestCharts', [key], {});\n",
              "      } catch (error) {\n",
              "        console.error('Error during call to suggestCharts:', error);\n",
              "      }\n",
              "      quickchartButtonEl.classList.remove('colab-df-spinner');\n",
              "      quickchartButtonEl.classList.add('colab-df-quickchart-complete');\n",
              "    }\n",
              "    (() => {\n",
              "      let quickchartButtonEl =\n",
              "        document.querySelector('#df-5daff1e3-68c4-4f95-bc56-3a4f24916307 button');\n",
              "      quickchartButtonEl.style.display =\n",
              "        google.colab.kernel.accessAllowed ? 'block' : 'none';\n",
              "    })();\n",
              "  </script>\n",
              "</div>\n",
              "\n",
              "    </div>\n",
              "  </div>\n"
            ]
          },
          "metadata": {},
          "execution_count": 170
        }
      ]
    },
    {
      "cell_type": "markdown",
      "source": [
        "### 4. Binning of Rating variable\n",
        "\n",
        "In rating columns we have different categories these are content rating classifications that are commonly used in the United States and other countries to indicate the appropriateness of media content for different age groups. Let's understand each of them and binnig them accordingly:\n",
        "\n",
        "**TV-MA**: This rating is used for mature audiences only, and it may contain strong language, violence, nudity, and sexual content.\n",
        "\n",
        "**R**: This rating is used for movies that are intended for audiences 17 and older. It may contain graphic violence, strong language, drug use, and sexual content.\n",
        "\n",
        "**PG-13**: This rating is used for movies that may not be suitable for children under 13. It may contain violence, mild to moderate language, and suggestive content.\n",
        "\n",
        "**TV-14**: This rating is used for TV shows that may not be suitable for children under 14. It may contain violence, strong language, sexual situations, and suggestive dialogue.\n",
        "\n",
        "**TV-PG**: This rating is used for TV shows that may not be suitable for children under 8. It may contain mild violence, language, and suggestive content.\n",
        "\n",
        "**NR**: This stands for \"Not Rated.\" It means that the content has not been rated by a rating board, and it may contain material that is not suitable for all audiences.\n",
        "\n",
        "**TV-G**: This rating is used for TV shows that are suitable for all ages. It may contain some mild violence, language, and suggestive content.\n",
        "\n",
        "**TV-Y**: This rating is used for children's TV shows that are suitable for all ages. It is intended to be appropriate for preschool children.\n",
        "\n",
        "**TV-Y7**: This rating is used for children's TV shows that may not be suitable for children under 7. It may contain mild violence and scary content.\n",
        "\n",
        "**PG**: This rating is used for movies that may not be suitable for children under 10. It may contain mild language, some violence, and some suggestive content.\n",
        "\n",
        "**G**: This rating is used for movies that are suitable for general audiences. It may contain some mild language and some violence.\n",
        "\n",
        "**NC-17**: This rating is used for movies that are intended for adults only. It may contain explicit sexual content, violence, and language.\n",
        "\n",
        "**TV-Y7-FV**: This rating is used for children's TV shows that may not be suitable for children under 7. It may contain fantasy violence.\n",
        "\n",
        "**UR**: This stands for \"Unrated.\" It means that the content has not been rated by a rating board, and it may contain material that is not suitable for all audiences.\n",
        "\n",
        "Let's not complicate it and create bins as following:\n",
        "* **Adult Content**: TV-MA, NC-17, R\n",
        "* **Children Content**:  TV-PG, PG, TV-G, G\n",
        "* **Teen Content**: PG-13, TV-14\n",
        "* **Family-friendly Content**: TV-Y, TV-Y7, TV-Y7-FV\n",
        "* **Not Rated**: NR, UR"
      ],
      "metadata": {
        "id": "gJNVO1cBYfPT"
      }
    },
    {
      "cell_type": "code",
      "source": [
        "# Binning the values in the rating column\n",
        "rating_map = {'TV-MA':'Adult Content',\n",
        "              'R':'Adult Content',\n",
        "              'PG-13':'Teen Content',\n",
        "              'TV-14':'Teen Content',\n",
        "              'TV-PG':'Children Content',\n",
        "              'NR':'Not Rated',\n",
        "              'TV-G':'Children Content',\n",
        "              'TV-Y':'Family-friendly Content',\n",
        "              'TV-Y7':'Family-friendly Content',\n",
        "              'PG':'Children Content',\n",
        "              'G':'Children Content',\n",
        "              'NC-17':'Adult Content',\n",
        "              'TV-Y7-FV':'Family-friendly Content',\n",
        "              'UR':'Not Rated'}\n",
        "\n",
        "df['rating'].replace(rating_map, inplace = True)\n",
        "df['rating'].unique()"
      ],
      "metadata": {
        "colab": {
          "base_uri": "https://localhost:8080/"
        },
        "id": "qYwmroiYUmO6",
        "outputId": "d3aa774e-a785-4dc5-cf3a-ccdfa1f71924"
      },
      "execution_count": 172,
      "outputs": [
        {
          "output_type": "execute_result",
          "data": {
            "text/plain": [
              "array(['Adult Content', 'Teen Content', 'Children Content', 'Not Rated',\n",
              "       'Family-friendly Content'], dtype=object)"
            ]
          },
          "metadata": {},
          "execution_count": 172
        }
      ]
    },
    {
      "cell_type": "code",
      "source": [
        "df.sample(5)"
      ],
      "metadata": {
        "colab": {
          "base_uri": "https://localhost:8080/",
          "height": 345
        },
        "id": "ivRxLHhDZdHm",
        "outputId": "0de23190-c8a4-450d-a805-8280ecf56e01"
      },
      "execution_count": 173,
      "outputs": [
        {
          "output_type": "execute_result",
          "data": {
            "text/plain": [
              "                 title             Actors            Directors  \\\n",
              "21230     Black Mirror       Toby Kebbell              Unknown   \n",
              "38908         Diablero   Quetzalli Cortés              Unknown   \n",
              "58982       Haraamkhor         Mohd Samad         Shlok Sharma   \n",
              "137064      The Chosen       Luis Rosales   Antonio Chavarrías   \n",
              "175560  Zoé: Panoramas      León Larregui   Gabriel Cruz Rivas   \n",
              "\n",
              "                            Genre         Country     type  release_year  \\\n",
              "21230            British TV Shows  United Kingdom  TV Show          2019   \n",
              "38908   Spanish-Language TV Shows          Mexico  TV Show          2020   \n",
              "58982        International Movies           India    Movie          2015   \n",
              "137064                     Dramas          Mexico    Movie          2016   \n",
              "175560           Music & Musicals          Mexico    Movie          2016   \n",
              "\n",
              "               rating  duration  \\\n",
              "21230   Adult Content         5   \n",
              "38908   Adult Content         2   \n",
              "58982    Teen Content        93   \n",
              "137064   Teen Content       111   \n",
              "175560  Adult Content        89   \n",
              "\n",
              "                                              description  day_added  \\\n",
              "21230   This sci-fi anthology series explores a twiste...          5   \n",
              "38908   When a young girl goes missing in a big city, ...         31   \n",
              "58982   A selfish, manipulative schoolteacher takes ad...          1   \n",
              "137064  In 1937, Spanish revolutionary Ramón trains as...         14   \n",
              "175560  This introspective rockumentary follows the ca...          1   \n",
              "\n",
              "        month_added  year_added  \n",
              "21230             6        2019  \n",
              "38908             1        2020  \n",
              "58982             2        2017  \n",
              "137064            4        2017  \n",
              "175560           11        2019  "
            ],
            "text/html": [
              "\n",
              "  <div id=\"df-6d8539c1-66b4-47a6-80b5-b9ad448b831c\" class=\"colab-df-container\">\n",
              "    <div>\n",
              "<style scoped>\n",
              "    .dataframe tbody tr th:only-of-type {\n",
              "        vertical-align: middle;\n",
              "    }\n",
              "\n",
              "    .dataframe tbody tr th {\n",
              "        vertical-align: top;\n",
              "    }\n",
              "\n",
              "    .dataframe thead th {\n",
              "        text-align: right;\n",
              "    }\n",
              "</style>\n",
              "<table border=\"1\" class=\"dataframe\">\n",
              "  <thead>\n",
              "    <tr style=\"text-align: right;\">\n",
              "      <th></th>\n",
              "      <th>title</th>\n",
              "      <th>Actors</th>\n",
              "      <th>Directors</th>\n",
              "      <th>Genre</th>\n",
              "      <th>Country</th>\n",
              "      <th>type</th>\n",
              "      <th>release_year</th>\n",
              "      <th>rating</th>\n",
              "      <th>duration</th>\n",
              "      <th>description</th>\n",
              "      <th>day_added</th>\n",
              "      <th>month_added</th>\n",
              "      <th>year_added</th>\n",
              "    </tr>\n",
              "  </thead>\n",
              "  <tbody>\n",
              "    <tr>\n",
              "      <th>21230</th>\n",
              "      <td>Black Mirror</td>\n",
              "      <td>Toby Kebbell</td>\n",
              "      <td>Unknown</td>\n",
              "      <td>British TV Shows</td>\n",
              "      <td>United Kingdom</td>\n",
              "      <td>TV Show</td>\n",
              "      <td>2019</td>\n",
              "      <td>Adult Content</td>\n",
              "      <td>5</td>\n",
              "      <td>This sci-fi anthology series explores a twiste...</td>\n",
              "      <td>5</td>\n",
              "      <td>6</td>\n",
              "      <td>2019</td>\n",
              "    </tr>\n",
              "    <tr>\n",
              "      <th>38908</th>\n",
              "      <td>Diablero</td>\n",
              "      <td>Quetzalli Cortés</td>\n",
              "      <td>Unknown</td>\n",
              "      <td>Spanish-Language TV Shows</td>\n",
              "      <td>Mexico</td>\n",
              "      <td>TV Show</td>\n",
              "      <td>2020</td>\n",
              "      <td>Adult Content</td>\n",
              "      <td>2</td>\n",
              "      <td>When a young girl goes missing in a big city, ...</td>\n",
              "      <td>31</td>\n",
              "      <td>1</td>\n",
              "      <td>2020</td>\n",
              "    </tr>\n",
              "    <tr>\n",
              "      <th>58982</th>\n",
              "      <td>Haraamkhor</td>\n",
              "      <td>Mohd Samad</td>\n",
              "      <td>Shlok Sharma</td>\n",
              "      <td>International Movies</td>\n",
              "      <td>India</td>\n",
              "      <td>Movie</td>\n",
              "      <td>2015</td>\n",
              "      <td>Teen Content</td>\n",
              "      <td>93</td>\n",
              "      <td>A selfish, manipulative schoolteacher takes ad...</td>\n",
              "      <td>1</td>\n",
              "      <td>2</td>\n",
              "      <td>2017</td>\n",
              "    </tr>\n",
              "    <tr>\n",
              "      <th>137064</th>\n",
              "      <td>The Chosen</td>\n",
              "      <td>Luis Rosales</td>\n",
              "      <td>Antonio Chavarrías</td>\n",
              "      <td>Dramas</td>\n",
              "      <td>Mexico</td>\n",
              "      <td>Movie</td>\n",
              "      <td>2016</td>\n",
              "      <td>Teen Content</td>\n",
              "      <td>111</td>\n",
              "      <td>In 1937, Spanish revolutionary Ramón trains as...</td>\n",
              "      <td>14</td>\n",
              "      <td>4</td>\n",
              "      <td>2017</td>\n",
              "    </tr>\n",
              "    <tr>\n",
              "      <th>175560</th>\n",
              "      <td>Zoé: Panoramas</td>\n",
              "      <td>León Larregui</td>\n",
              "      <td>Gabriel Cruz Rivas</td>\n",
              "      <td>Music &amp; Musicals</td>\n",
              "      <td>Mexico</td>\n",
              "      <td>Movie</td>\n",
              "      <td>2016</td>\n",
              "      <td>Adult Content</td>\n",
              "      <td>89</td>\n",
              "      <td>This introspective rockumentary follows the ca...</td>\n",
              "      <td>1</td>\n",
              "      <td>11</td>\n",
              "      <td>2019</td>\n",
              "    </tr>\n",
              "  </tbody>\n",
              "</table>\n",
              "</div>\n",
              "    <div class=\"colab-df-buttons\">\n",
              "\n",
              "  <div class=\"colab-df-container\">\n",
              "    <button class=\"colab-df-convert\" onclick=\"convertToInteractive('df-6d8539c1-66b4-47a6-80b5-b9ad448b831c')\"\n",
              "            title=\"Convert this dataframe to an interactive table.\"\n",
              "            style=\"display:none;\">\n",
              "\n",
              "  <svg xmlns=\"http://www.w3.org/2000/svg\" height=\"24px\" viewBox=\"0 -960 960 960\">\n",
              "    <path d=\"M120-120v-720h720v720H120Zm60-500h600v-160H180v160Zm220 220h160v-160H400v160Zm0 220h160v-160H400v160ZM180-400h160v-160H180v160Zm440 0h160v-160H620v160ZM180-180h160v-160H180v160Zm440 0h160v-160H620v160Z\"/>\n",
              "  </svg>\n",
              "    </button>\n",
              "\n",
              "  <style>\n",
              "    .colab-df-container {\n",
              "      display:flex;\n",
              "      gap: 12px;\n",
              "    }\n",
              "\n",
              "    .colab-df-convert {\n",
              "      background-color: #E8F0FE;\n",
              "      border: none;\n",
              "      border-radius: 50%;\n",
              "      cursor: pointer;\n",
              "      display: none;\n",
              "      fill: #1967D2;\n",
              "      height: 32px;\n",
              "      padding: 0 0 0 0;\n",
              "      width: 32px;\n",
              "    }\n",
              "\n",
              "    .colab-df-convert:hover {\n",
              "      background-color: #E2EBFA;\n",
              "      box-shadow: 0px 1px 2px rgba(60, 64, 67, 0.3), 0px 1px 3px 1px rgba(60, 64, 67, 0.15);\n",
              "      fill: #174EA6;\n",
              "    }\n",
              "\n",
              "    .colab-df-buttons div {\n",
              "      margin-bottom: 4px;\n",
              "    }\n",
              "\n",
              "    [theme=dark] .colab-df-convert {\n",
              "      background-color: #3B4455;\n",
              "      fill: #D2E3FC;\n",
              "    }\n",
              "\n",
              "    [theme=dark] .colab-df-convert:hover {\n",
              "      background-color: #434B5C;\n",
              "      box-shadow: 0px 1px 3px 1px rgba(0, 0, 0, 0.15);\n",
              "      filter: drop-shadow(0px 1px 2px rgba(0, 0, 0, 0.3));\n",
              "      fill: #FFFFFF;\n",
              "    }\n",
              "  </style>\n",
              "\n",
              "    <script>\n",
              "      const buttonEl =\n",
              "        document.querySelector('#df-6d8539c1-66b4-47a6-80b5-b9ad448b831c button.colab-df-convert');\n",
              "      buttonEl.style.display =\n",
              "        google.colab.kernel.accessAllowed ? 'block' : 'none';\n",
              "\n",
              "      async function convertToInteractive(key) {\n",
              "        const element = document.querySelector('#df-6d8539c1-66b4-47a6-80b5-b9ad448b831c');\n",
              "        const dataTable =\n",
              "          await google.colab.kernel.invokeFunction('convertToInteractive',\n",
              "                                                    [key], {});\n",
              "        if (!dataTable) return;\n",
              "\n",
              "        const docLinkHtml = 'Like what you see? Visit the ' +\n",
              "          '<a target=\"_blank\" href=https://colab.research.google.com/notebooks/data_table.ipynb>data table notebook</a>'\n",
              "          + ' to learn more about interactive tables.';\n",
              "        element.innerHTML = '';\n",
              "        dataTable['output_type'] = 'display_data';\n",
              "        await google.colab.output.renderOutput(dataTable, element);\n",
              "        const docLink = document.createElement('div');\n",
              "        docLink.innerHTML = docLinkHtml;\n",
              "        element.appendChild(docLink);\n",
              "      }\n",
              "    </script>\n",
              "  </div>\n",
              "\n",
              "\n",
              "<div id=\"df-820390dc-5c4d-4689-b7f6-4602f231fd94\">\n",
              "  <button class=\"colab-df-quickchart\" onclick=\"quickchart('df-820390dc-5c4d-4689-b7f6-4602f231fd94')\"\n",
              "            title=\"Suggest charts\"\n",
              "            style=\"display:none;\">\n",
              "\n",
              "<svg xmlns=\"http://www.w3.org/2000/svg\" height=\"24px\"viewBox=\"0 0 24 24\"\n",
              "     width=\"24px\">\n",
              "    <g>\n",
              "        <path d=\"M19 3H5c-1.1 0-2 .9-2 2v14c0 1.1.9 2 2 2h14c1.1 0 2-.9 2-2V5c0-1.1-.9-2-2-2zM9 17H7v-7h2v7zm4 0h-2V7h2v10zm4 0h-2v-4h2v4z\"/>\n",
              "    </g>\n",
              "</svg>\n",
              "  </button>\n",
              "\n",
              "<style>\n",
              "  .colab-df-quickchart {\n",
              "      --bg-color: #E8F0FE;\n",
              "      --fill-color: #1967D2;\n",
              "      --hover-bg-color: #E2EBFA;\n",
              "      --hover-fill-color: #174EA6;\n",
              "      --disabled-fill-color: #AAA;\n",
              "      --disabled-bg-color: #DDD;\n",
              "  }\n",
              "\n",
              "  [theme=dark] .colab-df-quickchart {\n",
              "      --bg-color: #3B4455;\n",
              "      --fill-color: #D2E3FC;\n",
              "      --hover-bg-color: #434B5C;\n",
              "      --hover-fill-color: #FFFFFF;\n",
              "      --disabled-bg-color: #3B4455;\n",
              "      --disabled-fill-color: #666;\n",
              "  }\n",
              "\n",
              "  .colab-df-quickchart {\n",
              "    background-color: var(--bg-color);\n",
              "    border: none;\n",
              "    border-radius: 50%;\n",
              "    cursor: pointer;\n",
              "    display: none;\n",
              "    fill: var(--fill-color);\n",
              "    height: 32px;\n",
              "    padding: 0;\n",
              "    width: 32px;\n",
              "  }\n",
              "\n",
              "  .colab-df-quickchart:hover {\n",
              "    background-color: var(--hover-bg-color);\n",
              "    box-shadow: 0 1px 2px rgba(60, 64, 67, 0.3), 0 1px 3px 1px rgba(60, 64, 67, 0.15);\n",
              "    fill: var(--button-hover-fill-color);\n",
              "  }\n",
              "\n",
              "  .colab-df-quickchart-complete:disabled,\n",
              "  .colab-df-quickchart-complete:disabled:hover {\n",
              "    background-color: var(--disabled-bg-color);\n",
              "    fill: var(--disabled-fill-color);\n",
              "    box-shadow: none;\n",
              "  }\n",
              "\n",
              "  .colab-df-spinner {\n",
              "    border: 2px solid var(--fill-color);\n",
              "    border-color: transparent;\n",
              "    border-bottom-color: var(--fill-color);\n",
              "    animation:\n",
              "      spin 1s steps(1) infinite;\n",
              "  }\n",
              "\n",
              "  @keyframes spin {\n",
              "    0% {\n",
              "      border-color: transparent;\n",
              "      border-bottom-color: var(--fill-color);\n",
              "      border-left-color: var(--fill-color);\n",
              "    }\n",
              "    20% {\n",
              "      border-color: transparent;\n",
              "      border-left-color: var(--fill-color);\n",
              "      border-top-color: var(--fill-color);\n",
              "    }\n",
              "    30% {\n",
              "      border-color: transparent;\n",
              "      border-left-color: var(--fill-color);\n",
              "      border-top-color: var(--fill-color);\n",
              "      border-right-color: var(--fill-color);\n",
              "    }\n",
              "    40% {\n",
              "      border-color: transparent;\n",
              "      border-right-color: var(--fill-color);\n",
              "      border-top-color: var(--fill-color);\n",
              "    }\n",
              "    60% {\n",
              "      border-color: transparent;\n",
              "      border-right-color: var(--fill-color);\n",
              "    }\n",
              "    80% {\n",
              "      border-color: transparent;\n",
              "      border-right-color: var(--fill-color);\n",
              "      border-bottom-color: var(--fill-color);\n",
              "    }\n",
              "    90% {\n",
              "      border-color: transparent;\n",
              "      border-bottom-color: var(--fill-color);\n",
              "    }\n",
              "  }\n",
              "</style>\n",
              "\n",
              "  <script>\n",
              "    async function quickchart(key) {\n",
              "      const quickchartButtonEl =\n",
              "        document.querySelector('#' + key + ' button');\n",
              "      quickchartButtonEl.disabled = true;  // To prevent multiple clicks.\n",
              "      quickchartButtonEl.classList.add('colab-df-spinner');\n",
              "      try {\n",
              "        const charts = await google.colab.kernel.invokeFunction(\n",
              "            'suggestCharts', [key], {});\n",
              "      } catch (error) {\n",
              "        console.error('Error during call to suggestCharts:', error);\n",
              "      }\n",
              "      quickchartButtonEl.classList.remove('colab-df-spinner');\n",
              "      quickchartButtonEl.classList.add('colab-df-quickchart-complete');\n",
              "    }\n",
              "    (() => {\n",
              "      let quickchartButtonEl =\n",
              "        document.querySelector('#df-820390dc-5c4d-4689-b7f6-4602f231fd94 button');\n",
              "      quickchartButtonEl.style.display =\n",
              "        google.colab.kernel.accessAllowed ? 'block' : 'none';\n",
              "    })();\n",
              "  </script>\n",
              "</div>\n",
              "\n",
              "    </div>\n",
              "  </div>\n"
            ]
          },
          "metadata": {},
          "execution_count": 173
        }
      ]
    },
    {
      "cell_type": "markdown",
      "source": [
        "### 5. Separating Movies and TV Shows"
      ],
      "metadata": {
        "id": "sZAMuow8ZymZ"
      }
    },
    {
      "cell_type": "code",
      "source": [
        "# Spearating the dataframes for further analysis\n",
        "df_movies= df[df['type']== 'Movie']\n",
        "df_tvshows= df[df['type']== 'TV Show']\n",
        "\n",
        "# Printing the shape\n",
        "print(df_movies.shape, df_tvshows.shape)"
      ],
      "metadata": {
        "colab": {
          "base_uri": "https://localhost:8080/"
        },
        "id": "pIe3tasOZyXk",
        "outputId": "6c12657d-2a4d-41f7-813c-0c6d6f5fcc49"
      },
      "execution_count": 174,
      "outputs": [
        {
          "output_type": "stream",
          "name": "stdout",
          "text": [
            "(126079, 13) (49728, 13)\n"
          ]
        }
      ]
    },
    {
      "cell_type": "markdown",
      "source": [
        "### What all manipulations have you done and insights you found?"
      ],
      "metadata": {
        "id": "MSa1f5Uengrz"
      }
    },
    {
      "cell_type": "markdown",
      "source": [
        "We have divided data wrangling into five different sections:\n",
        "1. In this section we have imputed/drop the null values of:\n",
        "  * Imputed 'director' and 'cast' with 'Unknown'.\n",
        "  * Imputed 'country' with Mode.\n",
        "  * Drop null values of 'date_added' and 'rating' .\n",
        "2. We have unnested values from following features:\n",
        "    * 'director'\n",
        "    * 'cast'\n",
        "    * 'listed_in'\n",
        "    * 'country'\n",
        "\n",
        "    We have unnested the values and stored in different dataframes and then  merged all the dataframe with the original one using left join in order to get the isolated values of each of the feature.\n",
        "3.* We have changed  the data type of  following features:\n",
        "    * 'duration' into integer (Removing min and seasons from the values).\n",
        "    * 'date_added' to datetime (Into the required format).\n",
        "  * We have also extracted the following features:\n",
        "    * 'date' from 'date_added'.\n",
        "    * 'month' from 'date_added'.\n",
        "    * 'year' from 'date_added'.\n",
        "4. We have seen that the 'rating' column contains various coded categories, so  we have decided to create 5 bins and distribute the values accordingly:\n",
        "    * **Adult**: TV-MA, NC-17\n",
        "    * **Restricted**: R, UR\n",
        "    * **Teen**: PG-13, TV-14\n",
        "    * **All Ages**: TV-G, TV-Y, TV-Y7, TV-Y7-FV, PG, G, TV-PG\n",
        "    * **Not Rated**: NR\n",
        "5. Lastly we have splitted the dataframe into two df one is 'df_movies' that contains only Movies and the other is 'df_tvshows' that contains only TV Shows for our further analysis."
      ],
      "metadata": {
        "id": "LbyXE7I1olp8"
      }
    },
    {
      "cell_type": "markdown",
      "source": [
        "## ***4. Data Vizualization, Storytelling & Experimenting with charts : Understand the relationships between variables***"
      ],
      "metadata": {
        "id": "GF8Ens_Soomf"
      }
    },
    {
      "cell_type": "markdown",
      "source": [
        "#### Chart - 1"
      ],
      "metadata": {
        "id": "0wOQAZs5pc--"
      }
    },
    {
      "cell_type": "code",
      "source": [
        "# Chart - 1 visualization code\n",
        "\n",
        "print(df['type'].value_counts())\n",
        "\n",
        "plt.figure(figsize=(12,8))\n",
        "plt.pie(df['type'].value_counts(),labels=df['type'].value_counts().index, startangle=90,colors=sns.color_palette(\"Set2\"),explode=[0,0.1],shadow=True,autopct=\"%1.1f%%\",textprops = {'fontsize':13})\n",
        "plt.title('Distribution of Content Types on Netflix')\n",
        "plt.show()"
      ],
      "metadata": {
        "id": "7v_ESjsspbW7",
        "colab": {
          "base_uri": "https://localhost:8080/",
          "height": 725
        },
        "outputId": "1038e25b-3a05-4daa-d604-b4ff442de0df"
      },
      "execution_count": 175,
      "outputs": [
        {
          "output_type": "stream",
          "name": "stdout",
          "text": [
            "Movie      126079\n",
            "TV Show     49728\n",
            "Name: type, dtype: int64\n"
          ]
        },
        {
          "output_type": "display_data",
          "data": {
            "text/plain": [
              "<Figure size 1200x800 with 1 Axes>"
            ],
            "image/png": "[encoded data removed]"
          },
          "metadata": {}
        }
      ]
    },
    {
      "cell_type": "markdown",
      "source": [
        "##### 1. Why did you pick the specific chart?"
      ],
      "metadata": {
        "id": "K5QZ13OEpz2H"
      }
    },
    {
      "cell_type": "markdown",
      "source": [
        "Answer Here."
      ],
      "metadata": {
        "id": "XESiWehPqBRc"
      }
    },
    {
      "cell_type": "markdown",
      "source": [
        "##### 2. What is/are the insight(s) found from the chart?"
      ],
      "metadata": {
        "id": "lQ7QKXXCp7Bj"
      }
    },
    {
      "cell_type": "markdown",
      "source": [
        "Answer Here"
      ],
      "metadata": {
        "id": "C_j1G7yiqdRP"
      }
    },
    {
      "cell_type": "markdown",
      "source": [
        "##### 3. Will the gained insights help creating a positive business impact?\n",
        "Are there any insights that lead to negative growth? Justify with specific reason."
      ],
      "metadata": {
        "id": "448CDAPjqfQr"
      }
    },
    {
      "cell_type": "markdown",
      "source": [
        "Answer Here"
      ],
      "metadata": {
        "id": "3cspy4FjqxJW"
      }
    },
    {
      "cell_type": "markdown",
      "source": [
        "#### Chart - 2"
      ],
      "metadata": {
        "id": "KSlN3yHqYklG"
      }
    },
    {
      "cell_type": "code",
      "source": [
        "# Chart - 2 visualization code"
      ],
      "metadata": {
        "id": "R4YgtaqtYklH"
      },
      "execution_count": 122,
      "outputs": []
    },
    {
      "cell_type": "markdown",
      "source": [
        "##### 1. Why did you pick the specific chart?"
      ],
      "metadata": {
        "id": "t6dVpIINYklI"
      }
    },
    {
      "cell_type": "markdown",
      "source": [
        "Answer Here."
      ],
      "metadata": {
        "id": "5aaW0BYyYklI"
      }
    },
    {
      "cell_type": "markdown",
      "source": [
        "##### 2. What is/are the insight(s) found from the chart?"
      ],
      "metadata": {
        "id": "ijmpgYnKYklI"
      }
    },
    {
      "cell_type": "markdown",
      "source": [
        "Answer Here"
      ],
      "metadata": {
        "id": "PSx9atu2YklI"
      }
    },
    {
      "cell_type": "markdown",
      "source": [
        "##### 3. Will the gained insights help creating a positive business impact?\n",
        "Are there any insights that lead to negative growth? Justify with specific reason."
      ],
      "metadata": {
        "id": "-JiQyfWJYklI"
      }
    },
    {
      "cell_type": "markdown",
      "source": [
        "Answer Here"
      ],
      "metadata": {
        "id": "BcBbebzrYklV"
      }
    },
    {
      "cell_type": "markdown",
      "source": [
        "#### Chart - 3"
      ],
      "metadata": {
        "id": "EM7whBJCYoAo"
      }
    },
    {
      "cell_type": "code",
      "source": [
        "# Chart - 3 visualization code"
      ],
      "metadata": {
        "id": "t6GMdE67YoAp"
      },
      "execution_count": 123,
      "outputs": []
    },
    {
      "cell_type": "markdown",
      "source": [
        "##### 1. Why did you pick the specific chart?"
      ],
      "metadata": {
        "id": "fge-S5ZAYoAp"
      }
    },
    {
      "cell_type": "markdown",
      "source": [
        "Answer Here."
      ],
      "metadata": {
        "id": "5dBItgRVYoAp"
      }
    },
    {
      "cell_type": "markdown",
      "source": [
        "##### 2. What is/are the insight(s) found from the chart?"
      ],
      "metadata": {
        "id": "85gYPyotYoAp"
      }
    },
    {
      "cell_type": "markdown",
      "source": [
        "Answer Here"
      ],
      "metadata": {
        "id": "4jstXR6OYoAp"
      }
    },
    {
      "cell_type": "markdown",
      "source": [
        "##### 3. Will the gained insights help creating a positive business impact?\n",
        "Are there any insights that lead to negative growth? Justify with specific reason."
      ],
      "metadata": {
        "id": "RoGjAbkUYoAp"
      }
    },
    {
      "cell_type": "markdown",
      "source": [
        "Answer Here"
      ],
      "metadata": {
        "id": "zfJ8IqMcYoAp"
      }
    },
    {
      "cell_type": "markdown",
      "source": [
        "#### Chart - 4"
      ],
      "metadata": {
        "id": "4Of9eVA-YrdM"
      }
    },
    {
      "cell_type": "code",
      "source": [
        "# Chart - 4 visualization code"
      ],
      "metadata": {
        "id": "irlUoxc8YrdO"
      },
      "execution_count": 124,
      "outputs": []
    },
    {
      "cell_type": "markdown",
      "source": [
        "##### 1. Why did you pick the specific chart?"
      ],
      "metadata": {
        "id": "iky9q4vBYrdO"
      }
    },
    {
      "cell_type": "markdown",
      "source": [
        "Answer Here."
      ],
      "metadata": {
        "id": "aJRCwT6DYrdO"
      }
    },
    {
      "cell_type": "markdown",
      "source": [
        "##### 2. What is/are the insight(s) found from the chart?"
      ],
      "metadata": {
        "id": "F6T5p64dYrdO"
      }
    },
    {
      "cell_type": "markdown",
      "source": [
        "Answer Here"
      ],
      "metadata": {
        "id": "Xx8WAJvtYrdO"
      }
    },
    {
      "cell_type": "markdown",
      "source": [
        "##### 3. Will the gained insights help creating a positive business impact?\n",
        "Are there any insights that lead to negative growth? Justify with specific reason."
      ],
      "metadata": {
        "id": "y-Ehk30pYrdP"
      }
    },
    {
      "cell_type": "markdown",
      "source": [
        "Answer Here"
      ],
      "metadata": {
        "id": "jLNxxz7MYrdP"
      }
    },
    {
      "cell_type": "markdown",
      "source": [
        "#### Chart - 5"
      ],
      "metadata": {
        "id": "bamQiAODYuh1"
      }
    },
    {
      "cell_type": "code",
      "source": [
        "# Chart - 5 visualization code"
      ],
      "metadata": {
        "id": "TIJwrbroYuh3"
      },
      "execution_count": 125,
      "outputs": []
    },
    {
      "cell_type": "markdown",
      "source": [
        "##### 1. Why did you pick the specific chart?"
      ],
      "metadata": {
        "id": "QHF8YVU7Yuh3"
      }
    },
    {
      "cell_type": "markdown",
      "source": [
        "Answer Here."
      ],
      "metadata": {
        "id": "dcxuIMRPYuh3"
      }
    },
    {
      "cell_type": "markdown",
      "source": [
        "##### 2. What is/are the insight(s) found from the chart?"
      ],
      "metadata": {
        "id": "GwzvFGzlYuh3"
      }
    },
    {
      "cell_type": "markdown",
      "source": [
        "Answer Here"
      ],
      "metadata": {
        "id": "uyqkiB8YYuh3"
      }
    },
    {
      "cell_type": "markdown",
      "source": [
        "##### 3. Will the gained insights help creating a positive business impact?\n",
        "Are there any insights that lead to negative growth? Justify with specific reason."
      ],
      "metadata": {
        "id": "qYpmQ266Yuh3"
      }
    },
    {
      "cell_type": "markdown",
      "source": [
        "Answer Here"
      ],
      "metadata": {
        "id": "_WtzZ_hCYuh4"
      }
    },
    {
      "cell_type": "markdown",
      "source": [
        "#### Chart - 6"
      ],
      "metadata": {
        "id": "OH-pJp9IphqM"
      }
    },
    {
      "cell_type": "code",
      "source": [
        "# Chart - 6 visualization code"
      ],
      "metadata": {
        "id": "kuRf4wtuphqN"
      },
      "execution_count": 126,
      "outputs": []
    },
    {
      "cell_type": "markdown",
      "source": [
        "##### 1. Why did you pick the specific chart?"
      ],
      "metadata": {
        "id": "bbFf2-_FphqN"
      }
    },
    {
      "cell_type": "markdown",
      "source": [
        "Answer Here."
      ],
      "metadata": {
        "id": "loh7H2nzphqN"
      }
    },
    {
      "cell_type": "markdown",
      "source": [
        "##### 2. What is/are the insight(s) found from the chart?"
      ],
      "metadata": {
        "id": "_ouA3fa0phqN"
      }
    },
    {
      "cell_type": "markdown",
      "source": [
        "Answer Here"
      ],
      "metadata": {
        "id": "VECbqPI7phqN"
      }
    },
    {
      "cell_type": "markdown",
      "source": [
        "##### 3. Will the gained insights help creating a positive business impact?\n",
        "Are there any insights that lead to negative growth? Justify with specific reason."
      ],
      "metadata": {
        "id": "Seke61FWphqN"
      }
    },
    {
      "cell_type": "markdown",
      "source": [
        "Answer Here"
      ],
      "metadata": {
        "id": "DW4_bGpfphqN"
      }
    },
    {
      "cell_type": "markdown",
      "source": [
        "#### Chart - 7"
      ],
      "metadata": {
        "id": "PIIx-8_IphqN"
      }
    },
    {
      "cell_type": "code",
      "source": [
        "# Chart - 7 visualization code"
      ],
      "metadata": {
        "id": "lqAIGUfyphqO"
      },
      "execution_count": 127,
      "outputs": []
    },
    {
      "cell_type": "markdown",
      "source": [
        "##### 1. Why did you pick the specific chart?"
      ],
      "metadata": {
        "id": "t27r6nlMphqO"
      }
    },
    {
      "cell_type": "markdown",
      "source": [
        "Answer Here."
      ],
      "metadata": {
        "id": "iv6ro40sphqO"
      }
    },
    {
      "cell_type": "markdown",
      "source": [
        "##### 2. What is/are the insight(s) found from the chart?"
      ],
      "metadata": {
        "id": "r2jJGEOYphqO"
      }
    },
    {
      "cell_type": "markdown",
      "source": [
        "Answer Here"
      ],
      "metadata": {
        "id": "Po6ZPi4hphqO"
      }
    },
    {
      "cell_type": "markdown",
      "source": [
        "##### 3. Will the gained insights help creating a positive business impact?\n",
        "Are there any insights that lead to negative growth? Justify with specific reason."
      ],
      "metadata": {
        "id": "b0JNsNcRphqO"
      }
    },
    {
      "cell_type": "markdown",
      "source": [
        "Answer Here"
      ],
      "metadata": {
        "id": "xvSq8iUTphqO"
      }
    },
    {
      "cell_type": "markdown",
      "source": [
        "#### Chart - 8"
      ],
      "metadata": {
        "id": "BZR9WyysphqO"
      }
    },
    {
      "cell_type": "code",
      "source": [
        "# Chart - 8 visualization code"
      ],
      "metadata": {
        "id": "TdPTWpAVphqO"
      },
      "execution_count": 128,
      "outputs": []
    },
    {
      "cell_type": "markdown",
      "source": [
        "##### 1. Why did you pick the specific chart?"
      ],
      "metadata": {
        "id": "jj7wYXLtphqO"
      }
    },
    {
      "cell_type": "markdown",
      "source": [
        "Answer Here."
      ],
      "metadata": {
        "id": "Ob8u6rCTphqO"
      }
    },
    {
      "cell_type": "markdown",
      "source": [
        "##### 2. What is/are the insight(s) found from the chart?"
      ],
      "metadata": {
        "id": "eZrbJ2SmphqO"
      }
    },
    {
      "cell_type": "markdown",
      "source": [
        "Answer Here"
      ],
      "metadata": {
        "id": "mZtgC_hjphqO"
      }
    },
    {
      "cell_type": "markdown",
      "source": [
        "##### 3. Will the gained insights help creating a positive business impact?\n",
        "Are there any insights that lead to negative growth? Justify with specific reason."
      ],
      "metadata": {
        "id": "rFu4xreNphqO"
      }
    },
    {
      "cell_type": "markdown",
      "source": [
        "Answer Here"
      ],
      "metadata": {
        "id": "ey_0qi68phqO"
      }
    },
    {
      "cell_type": "markdown",
      "source": [
        "#### Chart - 9"
      ],
      "metadata": {
        "id": "YJ55k-q6phqO"
      }
    },
    {
      "cell_type": "code",
      "source": [
        "# Chart - 9 visualization code"
      ],
      "metadata": {
        "id": "B2aS4O1ophqO"
      },
      "execution_count": 129,
      "outputs": []
    },
    {
      "cell_type": "markdown",
      "source": [
        "##### 1. Why did you pick the specific chart?"
      ],
      "metadata": {
        "id": "gCFgpxoyphqP"
      }
    },
    {
      "cell_type": "markdown",
      "source": [
        "Answer Here."
      ],
      "metadata": {
        "id": "TVxDimi2phqP"
      }
    },
    {
      "cell_type": "markdown",
      "source": [
        "##### 2. What is/are the insight(s) found from the chart?"
      ],
      "metadata": {
        "id": "OVtJsKN_phqQ"
      }
    },
    {
      "cell_type": "markdown",
      "source": [
        "Answer Here"
      ],
      "metadata": {
        "id": "ngGi97qjphqQ"
      }
    },
    {
      "cell_type": "markdown",
      "source": [
        "##### 3. Will the gained insights help creating a positive business impact?\n",
        "Are there any insights that lead to negative growth? Justify with specific reason."
      ],
      "metadata": {
        "id": "lssrdh5qphqQ"
      }
    },
    {
      "cell_type": "markdown",
      "source": [
        "Answer Here"
      ],
      "metadata": {
        "id": "tBpY5ekJphqQ"
      }
    },
    {
      "cell_type": "markdown",
      "source": [
        "#### Chart - 10"
      ],
      "metadata": {
        "id": "U2RJ9gkRphqQ"
      }
    },
    {
      "cell_type": "code",
      "source": [
        "# Chart - 10 visualization code"
      ],
      "metadata": {
        "id": "GM7a4YP4phqQ"
      },
      "execution_count": 130,
      "outputs": []
    },
    {
      "cell_type": "markdown",
      "source": [
        "##### 1. Why did you pick the specific chart?"
      ],
      "metadata": {
        "id": "1M8mcRywphqQ"
      }
    },
    {
      "cell_type": "markdown",
      "source": [
        "Answer Here."
      ],
      "metadata": {
        "id": "8agQvks0phqQ"
      }
    },
    {
      "cell_type": "markdown",
      "source": [
        "##### 2. What is/are the insight(s) found from the chart?"
      ],
      "metadata": {
        "id": "tgIPom80phqQ"
      }
    },
    {
      "cell_type": "markdown",
      "source": [
        "Answer Here"
      ],
      "metadata": {
        "id": "Qp13pnNzphqQ"
      }
    },
    {
      "cell_type": "markdown",
      "source": [
        "##### 3. Will the gained insights help creating a positive business impact?\n",
        "Are there any insights that lead to negative growth? Justify with specific reason."
      ],
      "metadata": {
        "id": "JMzcOPDDphqR"
      }
    },
    {
      "cell_type": "markdown",
      "source": [
        "Answer Here"
      ],
      "metadata": {
        "id": "R4Ka1PC2phqR"
      }
    },
    {
      "cell_type": "markdown",
      "source": [
        "#### Chart - 11"
      ],
      "metadata": {
        "id": "x-EpHcCOp1ci"
      }
    },
    {
      "cell_type": "code",
      "source": [
        "# Chart - 11 visualization code"
      ],
      "metadata": {
        "id": "mAQTIvtqp1cj"
      },
      "execution_count": 131,
      "outputs": []
    },
    {
      "cell_type": "markdown",
      "source": [
        "##### 1. Why did you pick the specific chart?"
      ],
      "metadata": {
        "id": "X_VqEhTip1ck"
      }
    },
    {
      "cell_type": "markdown",
      "source": [
        "Answer Here."
      ],
      "metadata": {
        "id": "-vsMzt_np1ck"
      }
    },
    {
      "cell_type": "markdown",
      "source": [
        "##### 2. What is/are the insight(s) found from the chart?"
      ],
      "metadata": {
        "id": "8zGJKyg5p1ck"
      }
    },
    {
      "cell_type": "markdown",
      "source": [
        "Answer Here"
      ],
      "metadata": {
        "id": "ZYdMsrqVp1ck"
      }
    },
    {
      "cell_type": "markdown",
      "source": [
        "##### 3. Will the gained insights help creating a positive business impact?\n",
        "Are there any insights that lead to negative growth? Justify with specific reason."
      ],
      "metadata": {
        "id": "PVzmfK_Ep1ck"
      }
    },
    {
      "cell_type": "markdown",
      "source": [
        "Answer Here"
      ],
      "metadata": {
        "id": "druuKYZpp1ck"
      }
    },
    {
      "cell_type": "markdown",
      "source": [
        "#### Chart - 12"
      ],
      "metadata": {
        "id": "n3dbpmDWp1ck"
      }
    },
    {
      "cell_type": "code",
      "source": [
        "# Chart - 12 visualization code"
      ],
      "metadata": {
        "id": "bwevp1tKp1ck"
      },
      "execution_count": 132,
      "outputs": []
    },
    {
      "cell_type": "markdown",
      "source": [
        "##### 1. Why did you pick the specific chart?"
      ],
      "metadata": {
        "id": "ylSl6qgtp1ck"
      }
    },
    {
      "cell_type": "markdown",
      "source": [
        "Answer Here."
      ],
      "metadata": {
        "id": "m2xqNkiQp1ck"
      }
    },
    {
      "cell_type": "markdown",
      "source": [
        "##### 2. What is/are the insight(s) found from the chart?"
      ],
      "metadata": {
        "id": "ZWILFDl5p1ck"
      }
    },
    {
      "cell_type": "markdown",
      "source": [
        "Answer Here"
      ],
      "metadata": {
        "id": "x-lUsV2mp1ck"
      }
    },
    {
      "cell_type": "markdown",
      "source": [
        "##### 3. Will the gained insights help creating a positive business impact?\n",
        "Are there any insights that lead to negative growth? Justify with specific reason."
      ],
      "metadata": {
        "id": "M7G43BXep1ck"
      }
    },
    {
      "cell_type": "markdown",
      "source": [
        "Answer Here"
      ],
      "metadata": {
        "id": "5wwDJXsLp1cl"
      }
    },
    {
      "cell_type": "markdown",
      "source": [
        "#### Chart - 13"
      ],
      "metadata": {
        "id": "Ag9LCva-p1cl"
      }
    },
    {
      "cell_type": "code",
      "source": [
        "# Chart - 13 visualization code"
      ],
      "metadata": {
        "id": "EUfxeq9-p1cl"
      },
      "execution_count": 133,
      "outputs": []
    },
    {
      "cell_type": "markdown",
      "source": [
        "##### 1. Why did you pick the specific chart?"
      ],
      "metadata": {
        "id": "E6MkPsBcp1cl"
      }
    },
    {
      "cell_type": "markdown",
      "source": [
        "Answer Here."
      ],
      "metadata": {
        "id": "V22bRsFWp1cl"
      }
    },
    {
      "cell_type": "markdown",
      "source": [
        "##### 2. What is/are the insight(s) found from the chart?"
      ],
      "metadata": {
        "id": "2cELzS2fp1cl"
      }
    },
    {
      "cell_type": "markdown",
      "source": [
        "Answer Here"
      ],
      "metadata": {
        "id": "ozQPc2_Ip1cl"
      }
    },
    {
      "cell_type": "markdown",
      "source": [
        "##### 3. Will the gained insights help creating a positive business impact?\n",
        "Are there any insights that lead to negative growth? Justify with specific reason."
      ],
      "metadata": {
        "id": "3MPXvC8up1cl"
      }
    },
    {
      "cell_type": "markdown",
      "source": [
        "Answer Here"
      ],
      "metadata": {
        "id": "GL8l1tdLp1cl"
      }
    },
    {
      "cell_type": "markdown",
      "source": [
        "#### Chart - 14 - Correlation Heatmap"
      ],
      "metadata": {
        "id": "NC_X3p0fY2L0"
      }
    },
    {
      "cell_type": "code",
      "source": [
        "# Correlation Heatmap visualization code"
      ],
      "metadata": {
        "id": "xyC9zolEZNRQ"
      },
      "execution_count": 134,
      "outputs": []
    },
    {
      "cell_type": "markdown",
      "source": [
        "##### 1. Why did you pick the specific chart?"
      ],
      "metadata": {
        "id": "UV0SzAkaZNRQ"
      }
    },
    {
      "cell_type": "markdown",
      "source": [
        "Answer Here."
      ],
      "metadata": {
        "id": "DVPuT8LYZNRQ"
      }
    },
    {
      "cell_type": "markdown",
      "source": [
        "##### 2. What is/are the insight(s) found from the chart?"
      ],
      "metadata": {
        "id": "YPEH6qLeZNRQ"
      }
    },
    {
      "cell_type": "markdown",
      "source": [
        "Answer Here"
      ],
      "metadata": {
        "id": "bfSqtnDqZNRR"
      }
    },
    {
      "cell_type": "markdown",
      "source": [
        "#### Chart - 15 - Pair Plot"
      ],
      "metadata": {
        "id": "q29F0dvdveiT"
      }
    },
    {
      "cell_type": "code",
      "source": [
        "# Pair Plot visualization code"
      ],
      "metadata": {
        "id": "o58-TEIhveiU"
      },
      "execution_count": 135,
      "outputs": []
    },
    {
      "cell_type": "markdown",
      "source": [
        "##### 1. Why did you pick the specific chart?"
      ],
      "metadata": {
        "id": "EXh0U9oCveiU"
      }
    },
    {
      "cell_type": "markdown",
      "source": [
        "Answer Here."
      ],
      "metadata": {
        "id": "eMmPjTByveiU"
      }
    },
    {
      "cell_type": "markdown",
      "source": [
        "##### 2. What is/are the insight(s) found from the chart?"
      ],
      "metadata": {
        "id": "22aHeOlLveiV"
      }
    },
    {
      "cell_type": "markdown",
      "source": [
        "Answer Here"
      ],
      "metadata": {
        "id": "uPQ8RGwHveiV"
      }
    },
    {
      "cell_type": "markdown",
      "source": [
        "## ***5. Hypothesis Testing***"
      ],
      "metadata": {
        "id": "g-ATYxFrGrvw"
      }
    },
    {
      "cell_type": "markdown",
      "source": [
        "### Based on your chart experiments, define three hypothetical statements from the dataset. In the next three questions, perform hypothesis testing to obtain final conclusion about the statements through your code and statistical testing."
      ],
      "metadata": {
        "id": "Yfr_Vlr8HBkt"
      }
    },
    {
      "cell_type": "markdown",
      "source": [
        "Answer Here."
      ],
      "metadata": {
        "id": "-7MS06SUHkB-"
      }
    },
    {
      "cell_type": "markdown",
      "source": [
        "### Hypothetical Statement - 1"
      ],
      "metadata": {
        "id": "8yEUt7NnHlrM"
      }
    },
    {
      "cell_type": "markdown",
      "source": [
        "#### 1. State Your research hypothesis as a null hypothesis and alternate hypothesis."
      ],
      "metadata": {
        "id": "tEA2Xm5dHt1r"
      }
    },
    {
      "cell_type": "markdown",
      "source": [
        "Answer Here."
      ],
      "metadata": {
        "id": "HI9ZP0laH0D-"
      }
    },
    {
      "cell_type": "markdown",
      "source": [
        "#### 2. Perform an appropriate statistical test."
      ],
      "metadata": {
        "id": "I79__PHVH19G"
      }
    },
    {
      "cell_type": "code",
      "source": [
        "# Perform Statistical Test to obtain P-Value"
      ],
      "metadata": {
        "id": "oZrfquKtyian"
      },
      "execution_count": 136,
      "outputs": []
    },
    {
      "cell_type": "markdown",
      "source": [
        "##### Which statistical test have you done to obtain P-Value?"
      ],
      "metadata": {
        "id": "Ou-I18pAyIpj"
      }
    },
    {
      "cell_type": "markdown",
      "source": [
        "Answer Here."
      ],
      "metadata": {
        "id": "s2U0kk00ygSB"
      }
    },
    {
      "cell_type": "markdown",
      "source": [
        "##### Why did you choose the specific statistical test?"
      ],
      "metadata": {
        "id": "fF3858GYyt-u"
      }
    },
    {
      "cell_type": "markdown",
      "source": [
        "Answer Here."
      ],
      "metadata": {
        "id": "HO4K0gP5y3B4"
      }
    },
    {
      "cell_type": "markdown",
      "source": [
        "### Hypothetical Statement - 2"
      ],
      "metadata": {
        "id": "4_0_7-oCpUZd"
      }
    },
    {
      "cell_type": "markdown",
      "source": [
        "#### 1. State Your research hypothesis as a null hypothesis and alternate hypothesis."
      ],
      "metadata": {
        "id": "hwyV_J3ipUZe"
      }
    },
    {
      "cell_type": "markdown",
      "source": [
        "Answer Here."
      ],
      "metadata": {
        "id": "FnpLGJ-4pUZe"
      }
    },
    {
      "cell_type": "markdown",
      "source": [
        "#### 2. Perform an appropriate statistical test."
      ],
      "metadata": {
        "id": "3yB-zSqbpUZe"
      }
    },
    {
      "cell_type": "code",
      "source": [
        "# Perform Statistical Test to obtain P-Value"
      ],
      "metadata": {
        "id": "sWxdNTXNpUZe"
      },
      "execution_count": 137,
      "outputs": []
    },
    {
      "cell_type": "markdown",
      "source": [
        "##### Which statistical test have you done to obtain P-Value?"
      ],
      "metadata": {
        "id": "dEUvejAfpUZe"
      }
    },
    {
      "cell_type": "markdown",
      "source": [
        "Answer Here."
      ],
      "metadata": {
        "id": "oLDrPz7HpUZf"
      }
    },
    {
      "cell_type": "markdown",
      "source": [
        "##### Why did you choose the specific statistical test?"
      ],
      "metadata": {
        "id": "Fd15vwWVpUZf"
      }
    },
    {
      "cell_type": "markdown",
      "source": [
        "Answer Here."
      ],
      "metadata": {
        "id": "4xOGYyiBpUZf"
      }
    },
    {
      "cell_type": "markdown",
      "source": [
        "### Hypothetical Statement - 3"
      ],
      "metadata": {
        "id": "bn_IUdTipZyH"
      }
    },
    {
      "cell_type": "markdown",
      "source": [
        "#### 1. State Your research hypothesis as a null hypothesis and alternate hypothesis."
      ],
      "metadata": {
        "id": "49K5P_iCpZyH"
      }
    },
    {
      "cell_type": "markdown",
      "source": [
        "Answer Here."
      ],
      "metadata": {
        "id": "7gWI5rT9pZyH"
      }
    },
    {
      "cell_type": "markdown",
      "source": [
        "#### 2. Perform an appropriate statistical test."
      ],
      "metadata": {
        "id": "Nff-vKELpZyI"
      }
    },
    {
      "cell_type": "code",
      "source": [
        "# Perform Statistical Test to obtain P-Value"
      ],
      "metadata": {
        "id": "s6AnJQjtpZyI"
      },
      "execution_count": 138,
      "outputs": []
    },
    {
      "cell_type": "markdown",
      "source": [
        "##### Which statistical test have you done to obtain P-Value?"
      ],
      "metadata": {
        "id": "kLW572S8pZyI"
      }
    },
    {
      "cell_type": "markdown",
      "source": [
        "Answer Here."
      ],
      "metadata": {
        "id": "ytWJ8v15pZyI"
      }
    },
    {
      "cell_type": "markdown",
      "source": [
        "##### Why did you choose the specific statistical test?"
      ],
      "metadata": {
        "id": "dWbDXHzopZyI"
      }
    },
    {
      "cell_type": "markdown",
      "source": [
        "Answer Here."
      ],
      "metadata": {
        "id": "M99G98V6pZyI"
      }
    },
    {
      "cell_type": "markdown",
      "source": [
        "## ***6. Feature Engineering & Data Pre-processing***"
      ],
      "metadata": {
        "id": "yLjJCtPM0KBk"
      }
    },
    {
      "cell_type": "markdown",
      "source": [
        "### 1. Handling Missing Values"
      ],
      "metadata": {
        "id": "xiyOF9F70UgQ"
      }
    },
    {
      "cell_type": "code",
      "source": [
        "# Handling Missing Values & Missing Value Imputation"
      ],
      "metadata": {
        "id": "iRsAHk1K0fpS"
      },
      "execution_count": 139,
      "outputs": []
    },
    {
      "cell_type": "markdown",
      "source": [
        "#### What all missing value imputation techniques have you used and why did you use those techniques?"
      ],
      "metadata": {
        "id": "7wuGOrhz0itI"
      }
    },
    {
      "cell_type": "markdown",
      "source": [
        "Answer Here."
      ],
      "metadata": {
        "id": "1ixusLtI0pqI"
      }
    },
    {
      "cell_type": "markdown",
      "source": [
        "### 2. Handling Outliers"
      ],
      "metadata": {
        "id": "id1riN9m0vUs"
      }
    },
    {
      "cell_type": "code",
      "source": [
        "# Handling Outliers & Outlier treatments"
      ],
      "metadata": {
        "id": "M6w2CzZf04JK"
      },
      "execution_count": 140,
      "outputs": []
    },
    {
      "cell_type": "markdown",
      "source": [
        "##### What all outlier treatment techniques have you used and why did you use those techniques?"
      ],
      "metadata": {
        "id": "578E2V7j08f6"
      }
    },
    {
      "cell_type": "markdown",
      "source": [
        "Answer Here."
      ],
      "metadata": {
        "id": "uGZz5OrT1HH-"
      }
    },
    {
      "cell_type": "markdown",
      "source": [
        "### 3. Categorical Encoding"
      ],
      "metadata": {
        "id": "89xtkJwZ18nB"
      }
    },
    {
      "cell_type": "code",
      "source": [
        "# Encode your categorical columns"
      ],
      "metadata": {
        "id": "21JmIYMG2hEo"
      },
      "execution_count": 141,
      "outputs": []
    },
    {
      "cell_type": "markdown",
      "source": [
        "#### What all categorical encoding techniques have you used & why did you use those techniques?"
      ],
      "metadata": {
        "id": "67NQN5KX2AMe"
      }
    },
    {
      "cell_type": "markdown",
      "source": [
        "Answer Here."
      ],
      "metadata": {
        "id": "UDaue5h32n_G"
      }
    },
    {
      "cell_type": "markdown",
      "source": [
        "### 4. Textual Data Preprocessing\n",
        "(It's mandatory for textual dataset i.e., NLP, Sentiment Analysis, Text Clustering etc.)"
      ],
      "metadata": {
        "id": "Iwf50b-R2tYG"
      }
    },
    {
      "cell_type": "markdown",
      "source": [
        "#### 1. Expand Contraction"
      ],
      "metadata": {
        "id": "GMQiZwjn3iu7"
      }
    },
    {
      "cell_type": "code",
      "source": [
        "# Expand Contraction"
      ],
      "metadata": {
        "id": "PTouz10C3oNN"
      },
      "execution_count": 142,
      "outputs": []
    },
    {
      "cell_type": "markdown",
      "source": [
        "#### 2. Lower Casing"
      ],
      "metadata": {
        "id": "WVIkgGqN3qsr"
      }
    },
    {
      "cell_type": "code",
      "source": [
        "# Lower Casing"
      ],
      "metadata": {
        "id": "88JnJ1jN3w7j"
      },
      "execution_count": 143,
      "outputs": []
    },
    {
      "cell_type": "markdown",
      "source": [
        "#### 3. Removing Punctuations"
      ],
      "metadata": {
        "id": "XkPnILGE3zoT"
      }
    },
    {
      "cell_type": "code",
      "source": [
        "# Remove Punctuations"
      ],
      "metadata": {
        "id": "vqbBqNaA33c0"
      },
      "execution_count": 144,
      "outputs": []
    },
    {
      "cell_type": "markdown",
      "source": [
        "#### 4. Removing URLs & Removing words and digits contain digits."
      ],
      "metadata": {
        "id": "Hlsf0x5436Go"
      }
    },
    {
      "cell_type": "code",
      "source": [
        "# Remove URLs & Remove words and digits contain digits"
      ],
      "metadata": {
        "id": "2sxKgKxu4Ip3"
      },
      "execution_count": 145,
      "outputs": []
    },
    {
      "cell_type": "markdown",
      "source": [
        "#### 5. Removing Stopwords & Removing White spaces"
      ],
      "metadata": {
        "id": "mT9DMSJo4nBL"
      }
    },
    {
      "cell_type": "code",
      "source": [
        "# Remove Stopwords"
      ],
      "metadata": {
        "id": "T2LSJh154s8W"
      },
      "execution_count": 146,
      "outputs": []
    },
    {
      "cell_type": "code",
      "source": [
        "# Remove White spaces"
      ],
      "metadata": {
        "id": "EgLJGffy4vm0"
      },
      "execution_count": 147,
      "outputs": []
    },
    {
      "cell_type": "markdown",
      "source": [
        "#### 6. Rephrase Text"
      ],
      "metadata": {
        "id": "c49ITxTc407N"
      }
    },
    {
      "cell_type": "code",
      "source": [
        "# Rephrase Text"
      ],
      "metadata": {
        "id": "foqY80Qu48N2"
      },
      "execution_count": 148,
      "outputs": []
    },
    {
      "cell_type": "markdown",
      "source": [
        "#### 7. Tokenization"
      ],
      "metadata": {
        "id": "OeJFEK0N496M"
      }
    },
    {
      "cell_type": "code",
      "source": [
        "# Tokenization"
      ],
      "metadata": {
        "id": "ijx1rUOS5CUU"
      },
      "execution_count": 149,
      "outputs": []
    },
    {
      "cell_type": "markdown",
      "source": [
        "#### 8. Text Normalization"
      ],
      "metadata": {
        "id": "9ExmJH0g5HBk"
      }
    },
    {
      "cell_type": "code",
      "source": [
        "# Normalizing Text (i.e., Stemming, Lemmatization etc.)"
      ],
      "metadata": {
        "id": "AIJ1a-Zc5PY8"
      },
      "execution_count": 150,
      "outputs": []
    },
    {
      "cell_type": "markdown",
      "source": [
        "##### Which text normalization technique have you used and why?"
      ],
      "metadata": {
        "id": "cJNqERVU536h"
      }
    },
    {
      "cell_type": "markdown",
      "source": [
        "Answer Here."
      ],
      "metadata": {
        "id": "Z9jKVxE06BC1"
      }
    },
    {
      "cell_type": "markdown",
      "source": [
        "#### 9. Part of speech tagging"
      ],
      "metadata": {
        "id": "k5UmGsbsOxih"
      }
    },
    {
      "cell_type": "code",
      "source": [
        "# POS Taging"
      ],
      "metadata": {
        "id": "btT3ZJBAO6Ik"
      },
      "execution_count": 151,
      "outputs": []
    },
    {
      "cell_type": "markdown",
      "source": [
        "#### 10. Text Vectorization"
      ],
      "metadata": {
        "id": "T0VqWOYE6DLQ"
      }
    },
    {
      "cell_type": "code",
      "source": [
        "# Vectorizing Text"
      ],
      "metadata": {
        "id": "yBRtdhth6JDE"
      },
      "execution_count": 152,
      "outputs": []
    },
    {
      "cell_type": "markdown",
      "source": [
        "##### Which text vectorization technique have you used and why?"
      ],
      "metadata": {
        "id": "qBMux9mC6MCf"
      }
    },
    {
      "cell_type": "markdown",
      "source": [
        "Answer Here."
      ],
      "metadata": {
        "id": "su2EnbCh6UKQ"
      }
    },
    {
      "cell_type": "markdown",
      "source": [
        "### 4. Feature Manipulation & Selection"
      ],
      "metadata": {
        "id": "-oLEiFgy-5Pf"
      }
    },
    {
      "cell_type": "markdown",
      "source": [
        "#### 1. Feature Manipulation"
      ],
      "metadata": {
        "id": "C74aWNz2AliB"
      }
    },
    {
      "cell_type": "code",
      "source": [
        "# Manipulate Features to minimize feature correlation and create new features"
      ],
      "metadata": {
        "id": "h1qC4yhBApWC"
      },
      "execution_count": 153,
      "outputs": []
    },
    {
      "cell_type": "markdown",
      "source": [
        "#### 2. Feature Selection"
      ],
      "metadata": {
        "id": "2DejudWSA-a0"
      }
    },
    {
      "cell_type": "code",
      "source": [
        "# Select your features wisely to avoid overfitting"
      ],
      "metadata": {
        "id": "YLhe8UmaBCEE"
      },
      "execution_count": 154,
      "outputs": []
    },
    {
      "cell_type": "markdown",
      "source": [
        "##### What all feature selection methods have you used  and why?"
      ],
      "metadata": {
        "id": "pEMng2IbBLp7"
      }
    },
    {
      "cell_type": "markdown",
      "source": [
        "Answer Here."
      ],
      "metadata": {
        "id": "rb2Lh6Z8BgGs"
      }
    },
    {
      "cell_type": "markdown",
      "source": [
        "##### Which all features you found important and why?"
      ],
      "metadata": {
        "id": "rAdphbQ9Bhjc"
      }
    },
    {
      "cell_type": "markdown",
      "source": [
        "Answer Here."
      ],
      "metadata": {
        "id": "fGgaEstsBnaf"
      }
    },
    {
      "cell_type": "markdown",
      "source": [
        "### 5. Data Transformation"
      ],
      "metadata": {
        "id": "TNVZ9zx19K6k"
      }
    },
    {
      "cell_type": "markdown",
      "source": [
        "#### Do you think that your data needs to be transformed? If yes, which transformation have you used. Explain Why?"
      ],
      "metadata": {
        "id": "nqoHp30x9hH9"
      }
    },
    {
      "cell_type": "code",
      "source": [
        "# Transform Your data"
      ],
      "metadata": {
        "id": "I6quWQ1T9rtH"
      },
      "execution_count": 155,
      "outputs": []
    },
    {
      "cell_type": "markdown",
      "source": [
        "### 6. Data Scaling"
      ],
      "metadata": {
        "id": "rMDnDkt2B6du"
      }
    },
    {
      "cell_type": "code",
      "source": [
        "# Scaling your data"
      ],
      "metadata": {
        "id": "dL9LWpySC6x_"
      },
      "execution_count": 156,
      "outputs": []
    },
    {
      "cell_type": "markdown",
      "source": [
        "##### Which method have you used to scale you data and why?"
      ],
      "metadata": {
        "id": "yiiVWRdJDDil"
      }
    },
    {
      "cell_type": "markdown",
      "source": [
        "### 7. Dimesionality Reduction"
      ],
      "metadata": {
        "id": "1UUpS68QDMuG"
      }
    },
    {
      "cell_type": "markdown",
      "source": [
        "##### Do you think that dimensionality reduction is needed? Explain Why?"
      ],
      "metadata": {
        "id": "kexQrXU-DjzY"
      }
    },
    {
      "cell_type": "markdown",
      "source": [
        "Answer Here."
      ],
      "metadata": {
        "id": "GGRlBsSGDtTQ"
      }
    },
    {
      "cell_type": "code",
      "source": [
        "# DImensionality Reduction (If needed)"
      ],
      "metadata": {
        "id": "kQfvxBBHDvCa"
      },
      "execution_count": 157,
      "outputs": []
    },
    {
      "cell_type": "markdown",
      "source": [
        "##### Which dimensionality reduction technique have you used and why? (If dimensionality reduction done on dataset.)"
      ],
      "metadata": {
        "id": "T5CmagL3EC8N"
      }
    },
    {
      "cell_type": "markdown",
      "source": [
        "Answer Here."
      ],
      "metadata": {
        "id": "ZKr75IDuEM7t"
      }
    },
    {
      "cell_type": "markdown",
      "source": [
        "### 8. Data Splitting"
      ],
      "metadata": {
        "id": "BhH2vgX9EjGr"
      }
    },
    {
      "cell_type": "code",
      "source": [
        "# Split your data to train and test. Choose Splitting ratio wisely."
      ],
      "metadata": {
        "id": "0CTyd2UwEyNM"
      },
      "execution_count": 158,
      "outputs": []
    },
    {
      "cell_type": "markdown",
      "source": [
        "##### What data splitting ratio have you used and why?"
      ],
      "metadata": {
        "id": "qjKvONjwE8ra"
      }
    },
    {
      "cell_type": "markdown",
      "source": [
        "Answer Here."
      ],
      "metadata": {
        "id": "Y2lJ8cobFDb_"
      }
    },
    {
      "cell_type": "markdown",
      "source": [
        "### 9. Handling Imbalanced Dataset"
      ],
      "metadata": {
        "id": "P1XJ9OREExlT"
      }
    },
    {
      "cell_type": "markdown",
      "source": [
        "##### Do you think the dataset is imbalanced? Explain Why."
      ],
      "metadata": {
        "id": "VFOzZv6IFROw"
      }
    },
    {
      "cell_type": "markdown",
      "source": [
        "Answer Here."
      ],
      "metadata": {
        "id": "GeKDIv7pFgcC"
      }
    },
    {
      "cell_type": "code",
      "source": [
        "# Handling Imbalanced Dataset (If needed)"
      ],
      "metadata": {
        "id": "nQsRhhZLFiDs"
      },
      "execution_count": 159,
      "outputs": []
    },
    {
      "cell_type": "markdown",
      "source": [
        "##### What technique did you use to handle the imbalance dataset and why? (If needed to be balanced)"
      ],
      "metadata": {
        "id": "TIqpNgepFxVj"
      }
    },
    {
      "cell_type": "markdown",
      "source": [
        "Answer Here."
      ],
      "metadata": {
        "id": "qbet1HwdGDTz"
      }
    },
    {
      "cell_type": "markdown",
      "source": [
        "## ***7. ML Model Implementation***"
      ],
      "metadata": {
        "id": "VfCC591jGiD4"
      }
    },
    {
      "cell_type": "markdown",
      "source": [
        "### ML Model - 1"
      ],
      "metadata": {
        "id": "OB4l2ZhMeS1U"
      }
    },
    {
      "cell_type": "code",
      "source": [
        "# ML Model - 1 Implementation\n",
        "\n",
        "# Fit the Algorithm\n",
        "\n",
        "# Predict on the model"
      ],
      "metadata": {
        "id": "7ebyywQieS1U"
      },
      "execution_count": 160,
      "outputs": []
    },
    {
      "cell_type": "markdown",
      "source": [
        "#### 1. Explain the ML Model used and it's performance using Evaluation metric Score Chart."
      ],
      "metadata": {
        "id": "ArJBuiUVfxKd"
      }
    },
    {
      "cell_type": "code",
      "source": [
        "# Visualizing evaluation Metric Score chart"
      ],
      "metadata": {
        "id": "rqD5ZohzfxKe"
      },
      "execution_count": 161,
      "outputs": []
    },
    {
      "cell_type": "markdown",
      "source": [
        "#### 2. Cross- Validation & Hyperparameter Tuning"
      ],
      "metadata": {
        "id": "4qY1EAkEfxKe"
      }
    },
    {
      "cell_type": "code",
      "source": [
        "# ML Model - 1 Implementation with hyperparameter optimization techniques (i.e., GridSearch CV, RandomSearch CV, Bayesian Optimization etc.)\n",
        "\n",
        "# Fit the Algorithm\n",
        "\n",
        "# Predict on the model"
      ],
      "metadata": {
        "id": "Dy61ujd6fxKe"
      },
      "execution_count": 162,
      "outputs": []
    },
    {
      "cell_type": "markdown",
      "source": [
        "##### Which hyperparameter optimization technique have you used and why?"
      ],
      "metadata": {
        "id": "PiV4Ypx8fxKe"
      }
    },
    {
      "cell_type": "markdown",
      "source": [
        "Answer Here."
      ],
      "metadata": {
        "id": "negyGRa7fxKf"
      }
    },
    {
      "cell_type": "markdown",
      "source": [
        "##### Have you seen any improvement? Note down the improvement with updates Evaluation metric Score Chart."
      ],
      "metadata": {
        "id": "TfvqoZmBfxKf"
      }
    },
    {
      "cell_type": "markdown",
      "source": [
        "Answer Here."
      ],
      "metadata": {
        "id": "OaLui8CcfxKf"
      }
    },
    {
      "cell_type": "markdown",
      "source": [
        "### ML Model - 2"
      ],
      "metadata": {
        "id": "dJ2tPlVmpsJ0"
      }
    },
    {
      "cell_type": "markdown",
      "source": [
        "#### 1. Explain the ML Model used and it's performance using Evaluation metric Score Chart."
      ],
      "metadata": {
        "id": "JWYfwnehpsJ1"
      }
    },
    {
      "cell_type": "code",
      "source": [
        "# Visualizing evaluation Metric Score chart"
      ],
      "metadata": {
        "id": "yEl-hgQWpsJ1"
      },
      "execution_count": 163,
      "outputs": []
    },
    {
      "cell_type": "markdown",
      "source": [
        "#### 2. Cross- Validation & Hyperparameter Tuning"
      ],
      "metadata": {
        "id": "-jK_YjpMpsJ2"
      }
    },
    {
      "cell_type": "code",
      "source": [
        "# ML Model - 1 Implementation with hyperparameter optimization techniques (i.e., GridSearch CV, RandomSearch CV, Bayesian Optimization etc.)\n",
        "\n",
        "# Fit the Algorithm\n",
        "\n",
        "# Predict on the model"
      ],
      "metadata": {
        "id": "Dn0EOfS6psJ2"
      },
      "execution_count": 164,
      "outputs": []
    },
    {
      "cell_type": "markdown",
      "source": [
        "##### Which hyperparameter optimization technique have you used and why?"
      ],
      "metadata": {
        "id": "HAih1iBOpsJ2"
      }
    },
    {
      "cell_type": "markdown",
      "source": [
        "Answer Here."
      ],
      "metadata": {
        "id": "9kBgjYcdpsJ2"
      }
    },
    {
      "cell_type": "markdown",
      "source": [
        "##### Have you seen any improvement? Note down the improvement with updates Evaluation metric Score Chart."
      ],
      "metadata": {
        "id": "zVGeBEFhpsJ2"
      }
    },
    {
      "cell_type": "markdown",
      "source": [
        "Answer Here."
      ],
      "metadata": {
        "id": "74yRdG6UpsJ3"
      }
    },
    {
      "cell_type": "markdown",
      "source": [
        "#### 3. Explain each evaluation metric's indication towards business and the business impact pf the ML model used."
      ],
      "metadata": {
        "id": "bmKjuQ-FpsJ3"
      }
    },
    {
      "cell_type": "markdown",
      "source": [
        "Answer Here."
      ],
      "metadata": {
        "id": "BDKtOrBQpsJ3"
      }
    },
    {
      "cell_type": "markdown",
      "source": [
        "### ML Model - 3"
      ],
      "metadata": {
        "id": "Fze-IPXLpx6K"
      }
    },
    {
      "cell_type": "code",
      "source": [
        "# ML Model - 3 Implementation\n",
        "\n",
        "# Fit the Algorithm\n",
        "\n",
        "# Predict on the model"
      ],
      "metadata": {
        "id": "FFrSXAtrpx6M"
      },
      "execution_count": 165,
      "outputs": []
    },
    {
      "cell_type": "markdown",
      "source": [
        "#### 1. Explain the ML Model used and it's performance using Evaluation metric Score Chart."
      ],
      "metadata": {
        "id": "7AN1z2sKpx6M"
      }
    },
    {
      "cell_type": "code",
      "source": [
        "# Visualizing evaluation Metric Score chart"
      ],
      "metadata": {
        "id": "xIY4lxxGpx6M"
      },
      "execution_count": 166,
      "outputs": []
    },
    {
      "cell_type": "markdown",
      "source": [
        "#### 2. Cross- Validation & Hyperparameter Tuning"
      ],
      "metadata": {
        "id": "9PIHJqyupx6M"
      }
    },
    {
      "cell_type": "code",
      "source": [
        "# ML Model - 3 Implementation with hyperparameter optimization techniques (i.e., GridSearch CV, RandomSearch CV, Bayesian Optimization etc.)\n",
        "\n",
        "# Fit the Algorithm\n",
        "\n",
        "# Predict on the model"
      ],
      "metadata": {
        "id": "eSVXuaSKpx6M"
      },
      "execution_count": 167,
      "outputs": []
    },
    {
      "cell_type": "markdown",
      "source": [
        "##### Which hyperparameter optimization technique have you used and why?"
      ],
      "metadata": {
        "id": "_-qAgymDpx6N"
      }
    },
    {
      "cell_type": "markdown",
      "source": [
        "Answer Here."
      ],
      "metadata": {
        "id": "lQMffxkwpx6N"
      }
    },
    {
      "cell_type": "markdown",
      "source": [
        "##### Have you seen any improvement? Note down the improvement with updates Evaluation metric Score Chart."
      ],
      "metadata": {
        "id": "Z-hykwinpx6N"
      }
    },
    {
      "cell_type": "markdown",
      "source": [
        "Answer Here."
      ],
      "metadata": {
        "id": "MzVzZC6opx6N"
      }
    },
    {
      "cell_type": "markdown",
      "source": [
        "### 1. Which Evaluation metrics did you consider for a positive business impact and why?"
      ],
      "metadata": {
        "id": "h_CCil-SKHpo"
      }
    },
    {
      "cell_type": "markdown",
      "source": [
        "Answer Here."
      ],
      "metadata": {
        "id": "jHVz9hHDKFms"
      }
    },
    {
      "cell_type": "markdown",
      "source": [
        "### 2. Which ML model did you choose from the above created models as your final prediction model and why?"
      ],
      "metadata": {
        "id": "cBFFvTBNJzUa"
      }
    },
    {
      "cell_type": "markdown",
      "source": [
        "Answer Here."
      ],
      "metadata": {
        "id": "6ksF5Q1LKTVm"
      }
    },
    {
      "cell_type": "markdown",
      "source": [
        "### 3. Explain the model which you have used and the feature importance using any model explainability tool?"
      ],
      "metadata": {
        "id": "HvGl1hHyA_VK"
      }
    },
    {
      "cell_type": "markdown",
      "source": [
        "Answer Here."
      ],
      "metadata": {
        "id": "YnvVTiIxBL-C"
      }
    },
    {
      "cell_type": "markdown",
      "source": [
        "## ***8.*** ***Future Work (Optional)***"
      ],
      "metadata": {
        "id": "EyNgTHvd2WFk"
      }
    },
    {
      "cell_type": "markdown",
      "source": [
        "### 1. Save the best performing ml model in a pickle file or joblib file format for deployment process.\n"
      ],
      "metadata": {
        "id": "KH5McJBi2d8v"
      }
    },
    {
      "cell_type": "code",
      "source": [
        "# Save the File"
      ],
      "metadata": {
        "id": "bQIANRl32f4J"
      },
      "execution_count": 168,
      "outputs": []
    },
    {
      "cell_type": "markdown",
      "source": [
        "### 2. Again Load the saved model file and try to predict unseen data for a sanity check.\n"
      ],
      "metadata": {
        "id": "iW_Lq9qf2h6X"
      }
    },
    {
      "cell_type": "code",
      "source": [
        "# Load the File and predict unseen data."
      ],
      "metadata": {
        "id": "oEXk9ydD2nVC"
      },
      "execution_count": 169,
      "outputs": []
    },
    {
      "cell_type": "markdown",
      "source": [
        "### ***Congrats! Your model is successfully created and ready for deployment on a live server for a real user interaction !!!***"
      ],
      "metadata": {
        "id": "-Kee-DAl2viO"
      }
    },
    {
      "cell_type": "markdown",
      "source": [
        "# **Conclusion**"
      ],
      "metadata": {
        "id": "gCX9965dhzqZ"
      }
    },
    {
      "cell_type": "markdown",
      "source": [
        "Write the conclusion here."
      ],
      "metadata": {
        "id": "Fjb1IsQkh3yE"
      }
    },
    {
      "cell_type": "markdown",
      "source": [
        "### ***Hurrah! You have successfully completed your Machine Learning Capstone Project !!!***"
      ],
      "metadata": {
        "id": "gIfDvo9L0UH2"
      }
    }
  ]
}